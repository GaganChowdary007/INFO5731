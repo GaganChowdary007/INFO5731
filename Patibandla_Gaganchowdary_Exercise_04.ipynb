{
  "cells": [
    {
      "cell_type": "markdown",
      "metadata": {
        "id": "H9WEDzYAhjDv"
      },
      "source": [
        "## In class Exercise 4\n",
        "\n",
        "The purpose of this exercise is to practice topic modeling.\n",
        "Please use the text corpus you collected in your last in-class-exercise for this exercise.\n",
        "\n",
        "**Expectations**:\n",
        "*   Students are expected to complete the exercise during lecture period to meet the active participation criteria of the course.\n",
        "*   Use the provided .*ipynb* document to write your code & respond to the questions. Avoid generating a new file.\n",
        "*   Write complete answers and run all the cells before submission.\n",
        "*   Make sure the submission is \"clean\"; *i.e.*, no unnecessary code cells.\n",
        "*   Once finished, allow shared rights from top right corner (*see Canvas for details*).\n",
        "\n",
        "**Total points**: 40\n",
        "\n",
        "**Deadline**: This in-class exercise is due tonight November 1st, 2023 at 11:59 PM.\n",
        "**Late submissions cannot be considered.**"
      ]
    },
    {
      "cell_type": "markdown",
      "metadata": {
        "id": "ONVFTFI7hjDy"
      },
      "source": [
        "## (1) (10 points) Generate K topics by using LDA, the number of topics K should be decided by the coherence score, then summarize what are the topics.\n",
        "\n",
        "You may refer the code here:\n",
        "https://www.machinelearningplus.com/nlp/topic-modeling-gensim-python/"
      ]
    },
    {
      "cell_type": "code",
      "source": [
        "# Run in python console\n",
        "import nltk; nltk.download('stopwords')\n",
        "\n"
      ],
      "metadata": {
        "colab": {
          "base_uri": "https://localhost:8080/"
        },
        "id": "cTG7iLuNhKSV",
        "outputId": "f208c09c-dc89-4f7f-b788-9c60c58e2fba"
      },
      "execution_count": 47,
      "outputs": [
        {
          "output_type": "stream",
          "name": "stderr",
          "text": [
            "/usr/local/lib/python3.10/dist-packages/ipykernel/ipkernel.py:283: DeprecationWarning: `should_run_async` will not call `transform_cell` automatically in the future. Please pass the result to `transformed_cell` argument and any exception that happen during thetransform in `preprocessing_exc_tuple` in IPython 7.17 and above.\n",
            "  and should_run_async(code)\n",
            "[nltk_data] Downloading package stopwords to /root/nltk_data...\n",
            "[nltk_data]   Package stopwords is already up-to-date!\n"
          ]
        },
        {
          "output_type": "execute_result",
          "data": {
            "text/plain": [
              "True"
            ]
          },
          "metadata": {},
          "execution_count": 47
        }
      ]
    },
    {
      "cell_type": "code",
      "source": [
        "import re\n",
        "import numpy as np\n",
        "import pandas as pd\n",
        "from pprint import pprint\n",
        "\n",
        "# Gensim\n",
        "import gensim\n",
        "import gensim.corpora as corpora\n",
        "from gensim.utils import simple_preprocess\n",
        "from gensim.models import CoherenceModel\n",
        "\n",
        "# spacy for lemmatization\n",
        "import spacy\n",
        "\n",
        "# Plotting tools\n",
        "import pyLDAvis\n",
        "import pyLDAvis.gensim  # don't skip this\n",
        "import matplotlib.pyplot as plt\n",
        "%matplotlib inline\n",
        "\n",
        "# Enable logging for gensim - optional\n",
        "import logging\n",
        "logging.basicConfig(format='%(asctime)s : %(levelname)s : %(message)s', level=logging.ERROR)\n",
        "\n",
        "import warnings\n",
        "warnings.filterwarnings(\"ignore\",category=DeprecationWarning)"
      ],
      "metadata": {
        "colab": {
          "base_uri": "https://localhost:8080/"
        },
        "id": "jMcK23G-hctp",
        "outputId": "7bcccf19-1112-4591-ba93-faa2e9a4622c"
      },
      "execution_count": 48,
      "outputs": [
        {
          "output_type": "stream",
          "name": "stderr",
          "text": [
            "/usr/local/lib/python3.10/dist-packages/ipykernel/ipkernel.py:283: DeprecationWarning: `should_run_async` will not call `transform_cell` automatically in the future. Please pass the result to `transformed_cell` argument and any exception that happen during thetransform in `preprocessing_exc_tuple` in IPython 7.17 and above.\n",
            "  and should_run_async(code)\n"
          ]
        }
      ]
    },
    {
      "cell_type": "code",
      "source": [
        "# NLTK Stop words\n",
        "from nltk.corpus import stopwords\n",
        "stop_words = stopwords.words('english')\n",
        "stop_words.extend(['from', 'subject', 're', 'edu', 'use'])"
      ],
      "metadata": {
        "id": "9IXlfs07hjl5"
      },
      "execution_count": 49,
      "outputs": []
    },
    {
      "cell_type": "code",
      "source": [
        "df= pd.read_csv(\"Reviews.csv\")\n",
        "# Select specific rows (e.g., rows 10 to 20)\n",
        "selected_rows = df.iloc[1:1000]\n",
        "\n",
        "print(df.head())"
      ],
      "metadata": {
        "colab": {
          "base_uri": "https://localhost:8080/"
        },
        "id": "KeW2p-IZhq-m",
        "outputId": "237c8d89-ec1f-4754-e1be-5c04d8cea82e"
      },
      "execution_count": 102,
      "outputs": [
        {
          "output_type": "stream",
          "name": "stdout",
          "text": [
            "   Id   ProductId          UserId                      ProfileName  \\\n",
            "0   1  B001E4KFG0  A3SGXH7AUHU8GW                       delmartian   \n",
            "1   2  B00813GRG4  A1D87F6ZCVE5NK                           dll pa   \n",
            "2   3  B000LQOCH0   ABXLMWJIXXAIN  Natalia Corres \"Natalia Corres\"   \n",
            "3   4  B000UA0QIQ  A395BORC6FGVXV                             Karl   \n",
            "4   5  B006K2ZZ7K  A1UQRSCLF8GW1T    Michael D. Bigham \"M. Wassir\"   \n",
            "\n",
            "   HelpfulnessNumerator  HelpfulnessDenominator  Score        Time  \\\n",
            "0                     1                       1      5  1303862400   \n",
            "1                     0                       0      1  1346976000   \n",
            "2                     1                       1      4  1219017600   \n",
            "3                     3                       3      2  1307923200   \n",
            "4                     0                       0      5  1350777600   \n",
            "\n",
            "                 Summary                                               Text  \n",
            "0  Good Quality Dog Food  I have bought several of the Vitality canned d...  \n",
            "1      Not as Advertised  Product arrived labeled as Jumbo Salted Peanut...  \n",
            "2  \"Delight\" says it all  This is a confection that has been around a fe...  \n",
            "3         Cough Medicine  If you are looking for the secret ingredient i...  \n",
            "4            Great taffy  Great taffy at a great price.  There was a wid...  \n"
          ]
        }
      ]
    },
    {
      "cell_type": "code",
      "source": [
        "# Convert to list\n",
        "data = df.Text.values.tolist()\n",
        "# Ensure that data is a list of strings\n",
        "data = [str(sent) for sent in data]\n",
        "\n",
        "# Remove Emails\n",
        "data = [re.sub('\\S*@\\S*\\s?', '', sent) for sent in data]\n",
        "\n",
        "# Remove new line characters\n",
        "# Continue with your data preprocessing steps\n",
        "\n",
        "\n",
        "# Remove new line characters\n",
        "data = [re.sub('\\s+', ' ', sent) for sent in data]\n",
        "\n",
        "# Remove distracting single quotes\n",
        "data = [re.sub(\"\\'\", \"\", sent) for sent in data]\n",
        "\n",
        "pprint(data[:1])"
      ],
      "metadata": {
        "colab": {
          "base_uri": "https://localhost:8080/"
        },
        "id": "Ws8wrXiNiTRO",
        "outputId": "fb283fd1-d339-4d98-b19a-b2d2850f6f8f"
      },
      "execution_count": 104,
      "outputs": [
        {
          "output_type": "stream",
          "name": "stdout",
          "text": [
            "['I have bought several of the Vitality canned dog food products and have '\n",
            " 'found them all to be of good quality. The product looks more like a stew '\n",
            " 'than a processed meat and it smells better. My Labrador is finicky and she '\n",
            " 'appreciates this product better than most.']\n"
          ]
        }
      ]
    },
    {
      "cell_type": "code",
      "source": [
        "def sent_to_words(sentences):\n",
        "    for sentence in sentences:\n",
        "        yield(gensim.utils.simple_preprocess(str(sentence), deacc=True))  # deacc=True removes punctuations\n",
        "\n",
        "data_words = list(sent_to_words(data))\n",
        "\n",
        "print(data_words[:1])"
      ],
      "metadata": {
        "colab": {
          "base_uri": "https://localhost:8080/"
        },
        "id": "6AcnbAHKk59m",
        "outputId": "a60e33a2-dd79-4386-b93d-dff74b55a9df"
      },
      "execution_count": 105,
      "outputs": [
        {
          "output_type": "stream",
          "name": "stdout",
          "text": [
            "[['have', 'bought', 'several', 'of', 'the', 'vitality', 'canned', 'dog', 'food', 'products', 'and', 'have', 'found', 'them', 'all', 'to', 'be', 'of', 'good', 'quality', 'the', 'product', 'looks', 'more', 'like', 'stew', 'than', 'processed', 'meat', 'and', 'it', 'smells', 'better', 'my', 'labrador', 'is', 'finicky', 'and', 'she', 'appreciates', 'this', 'product', 'better', 'than', 'most']]\n"
          ]
        }
      ]
    },
    {
      "cell_type": "code",
      "source": [
        "# Build the bigram and trigram models\n",
        "bigram = gensim.models.Phrases(data_words, min_count=5, threshold=100) # higher threshold fewer phrases.\n",
        "trigram = gensim.models.Phrases(bigram[data_words], threshold=100)\n",
        "\n",
        "# Faster way to get a sentence clubbed as a trigram/bigram\n",
        "bigram_mod = gensim.models.phrases.Phraser(bigram)\n",
        "trigram_mod = gensim.models.phrases.Phraser(trigram)\n",
        "\n",
        "# See trigram example\n",
        "print(trigram_mod[bigram_mod[data_words[0]]])"
      ],
      "metadata": {
        "colab": {
          "base_uri": "https://localhost:8080/"
        },
        "id": "WfkzV-0Alb_Q",
        "outputId": "815cfdb3-8e1f-4bb1-924b-d8ee198a401d"
      },
      "execution_count": 106,
      "outputs": [
        {
          "output_type": "stream",
          "name": "stdout",
          "text": [
            "['have', 'bought', 'several', 'of', 'the', 'vitality', 'canned', 'dog', 'food', 'products', 'and', 'have', 'found', 'them', 'all', 'to', 'be', 'of', 'good', 'quality', 'the', 'product', 'looks', 'more', 'like', 'stew', 'than', 'processed', 'meat', 'and', 'it', 'smells', 'better', 'my', 'labrador', 'is', 'finicky', 'and', 'she', 'appreciates', 'this', 'product', 'better', 'than', 'most']\n"
          ]
        }
      ]
    },
    {
      "cell_type": "code",
      "source": [
        "# Define functions for stopwords, bigrams, trigrams and lemmatization\n",
        "def remove_stopwords(texts):\n",
        "    return [[word for word in simple_preprocess(str(doc)) if word not in stop_words] for doc in texts]\n",
        "\n",
        "def make_bigrams(texts):\n",
        "    return [bigram_mod[doc] for doc in texts]\n",
        "\n",
        "def make_trigrams(texts):\n",
        "    return [trigram_mod[bigram_mod[doc]] for doc in texts]\n",
        "\n",
        "def lemmatization(texts, allowed_postags=['NOUN', 'ADJ', 'VERB', 'ADV']):\n",
        "    \"\"\"https://spacy.io/api/annotation\"\"\"\n",
        "    texts_out = []\n",
        "    for sent in texts:\n",
        "        doc = nlp(\" \".join(sent))\n",
        "        texts_out.append([token.lemma_ for token in doc if token.pos_ in allowed_postags])\n",
        "    return texts_out"
      ],
      "metadata": {
        "id": "1WGPEELol77y"
      },
      "execution_count": 107,
      "outputs": []
    },
    {
      "cell_type": "code",
      "source": [
        "# Remove Stop Words\n",
        "data_words_nostops = remove_stopwords(data_words)\n",
        "\n",
        "# Form Bigrams\n",
        "data_words_bigrams = make_bigrams(data_words_nostops)\n",
        "\n",
        "# Initialize spacy 'en' model, keeping only tagger component (for efficiency)\n",
        "# python3 -m spacy download en\n",
        "# Initialize spaCy with 'en_core_web_sm'\n",
        "nlp = spacy.load('en_core_web_sm', disable=['parser', 'ner'])\n",
        "\n",
        "\n",
        "# Do lemmatization keeping only noun, adj, vb, adv\n",
        "data_lemmatized = lemmatization(data_words_bigrams, allowed_postags=['NOUN', 'ADJ', 'VERB', 'ADV'])\n",
        "\n",
        "print(data_lemmatized[:1])"
      ],
      "metadata": {
        "id": "GynFpXxzl-43"
      },
      "execution_count": null,
      "outputs": []
    },
    {
      "cell_type": "code",
      "source": [
        "# Create Dictionary\n",
        "id2word = corpora.Dictionary(data_lemmatized)\n",
        "\n",
        "# Create Corpus\n",
        "texts = data_lemmatized\n",
        "\n",
        "# Term Document Frequency\n",
        "corpus = [id2word.doc2bow(text) for text in texts]\n",
        "\n",
        "# View\n",
        "print(corpus[:1])"
      ],
      "metadata": {
        "colab": {
          "base_uri": "https://localhost:8080/"
        },
        "id": "ckkHJUNGuMep",
        "outputId": "a7bbd9e8-cb70-42fa-e056-1305a67dba2e"
      },
      "execution_count": 81,
      "outputs": [
        {
          "output_type": "stream",
          "name": "stdout",
          "text": [
            "[[(0, 1), (1, 1), (2, 1), (3, 1)]]\n"
          ]
        }
      ]
    },
    {
      "cell_type": "code",
      "source": [
        "id2word[0]"
      ],
      "metadata": {
        "colab": {
          "base_uri": "https://localhost:8080/",
          "height": 36
        },
        "id": "bClSuOdfuXUP",
        "outputId": "ac989bd0-bc38-4e3a-cc12-d809212c940e"
      },
      "execution_count": 82,
      "outputs": [
        {
          "output_type": "execute_result",
          "data": {
            "text/plain": [
              "'dog'"
            ],
            "application/vnd.google.colaboratory.intrinsic+json": {
              "type": "string"
            }
          },
          "metadata": {},
          "execution_count": 82
        }
      ]
    },
    {
      "cell_type": "code",
      "source": [
        "[[(id2word[id], freq) for id, freq in cp] for cp in corpus[:1]]"
      ],
      "metadata": {
        "colab": {
          "base_uri": "https://localhost:8080/"
        },
        "id": "yZcgmT3LuZMC",
        "outputId": "636266ea-1ceb-49b5-b615-13c76e99a62c"
      },
      "execution_count": 83,
      "outputs": [
        {
          "output_type": "execute_result",
          "data": {
            "text/plain": [
              "[[('dog', 1), ('food', 1), ('good', 1), ('quality', 1)]]"
            ]
          },
          "metadata": {},
          "execution_count": 83
        }
      ]
    },
    {
      "cell_type": "code",
      "source": [
        "# Build LDA model\n",
        "lda_model = gensim.models.ldamodel.LdaModel(corpus=corpus,\n",
        "                                           id2word=id2word,\n",
        "                                           num_topics=20,\n",
        "                                           random_state=100,\n",
        "                                           update_every=1,\n",
        "                                           chunksize=100,\n",
        "                                           passes=10,\n",
        "                                           alpha='auto',\n",
        "                                           per_word_topics=True)"
      ],
      "metadata": {
        "id": "nFS5hPgcueIq"
      },
      "execution_count": 84,
      "outputs": []
    },
    {
      "cell_type": "code",
      "source": [
        "# Print the Keyword in the 10 topics\n",
        "pprint(lda_model.print_topics())\n",
        "doc_lda = lda_model[corpus]"
      ],
      "metadata": {
        "colab": {
          "base_uri": "https://localhost:8080/"
        },
        "id": "7Zt_ce9Hujgz",
        "outputId": "d8ddd55b-dc28-439a-f045-c9f822c7f807"
      },
      "execution_count": 85,
      "outputs": [
        {
          "output_type": "stream",
          "name": "stdout",
          "text": [
            "[(0,\n",
            "  '0.000*\"adulterated\" + 0.000*\"reportedly\" + 0.000*\"ughhh\" + 0.000*\"satifie\" '\n",
            "  '+ 0.000*\"peeeeuuuwwww\" + 0.000*\"vic\" + 0.000*\"coconou\" + 0.000*\"blistering\" '\n",
            "  '+ 0.000*\"australia\" + 0.000*\"ize\"'),\n",
            " (1,\n",
            "  '0.774*\"good\" + 0.202*\"product\" + 0.011*\"stale\" + 0.000*\"cookie\" + '\n",
            "  '0.000*\"excellent\" + 0.000*\"treat\" + 0.000*\"oatmeal\" + 0.000*\"chip\" + '\n",
            "  '0.000*\"bad\" + 0.000*\"snack\"'),\n",
            " (2,\n",
            "  '0.000*\"adulterated\" + 0.000*\"reportedly\" + 0.000*\"ughhh\" + 0.000*\"satifie\" '\n",
            "  '+ 0.000*\"peeeeuuuwwww\" + 0.000*\"vic\" + 0.000*\"coconou\" + 0.000*\"blistering\" '\n",
            "  '+ 0.000*\"australia\" + 0.000*\"ize\"'),\n",
            " (3,\n",
            "  '0.945*\"great\" + 0.025*\"expect\" + 0.015*\"lot\" + 0.000*\"cookie\" + '\n",
            "  '0.000*\"treat\" + 0.000*\"excellent\" + 0.000*\"oatmeal\" + 0.000*\"chip\" + '\n",
            "  '0.000*\"snack\" + 0.000*\"bad\"'),\n",
            " (4,\n",
            "  '0.329*\"cat\" + 0.169*\"way\" + 0.112*\"new\" + 0.068*\"day\" + 0.067*\"regular\" + '\n",
            "  '0.046*\"diet\" + 0.036*\"rock\" + 0.033*\"start\" + 0.030*\"nutrition\" + '\n",
            "  '0.027*\"warn\"'),\n",
            " (5,\n",
            "  '0.923*\"taste\" + 0.033*\"home\" + 0.006*\"deliver\" + 0.000*\"cookie\" + '\n",
            "  '0.000*\"excellent\" + 0.000*\"treat\" + 0.000*\"oatmeal\" + 0.000*\"bad\" + '\n",
            "  '0.000*\"chip\" + 0.000*\"make\"'),\n",
            " (6,\n",
            "  '0.884*\"flavor\" + 0.039*\"nasty\" + 0.000*\"excellent\" + 0.000*\"cookie\" + '\n",
            "  '0.000*\"nice\" + 0.000*\"treat\" + 0.000*\"oatmeal\" + 0.000*\"awesome\" + '\n",
            "  '0.000*\"amazing\" + 0.000*\"really\"'),\n",
            " (7,\n",
            "  '0.497*\"well\" + 0.290*\"ever\" + 0.114*\"free\" + 0.058*\"gluten\" + 0.007*\"tart\" '\n",
            "  '+ 0.000*\"cookie\" + 0.000*\"oatmeal\" + 0.000*\"treat\" + 0.000*\"excellent\" + '\n",
            "  '0.000*\"chip\"'),\n",
            " (8,\n",
            "  '0.621*\"love\" + 0.232*\"yummy\" + 0.066*\"kid\" + 0.032*\"natural\" + 0.028*\"rice\" '\n",
            "  '+ 0.000*\"cookie\" + 0.000*\"treat\" + 0.000*\"excellent\" + 0.000*\"oatmeal\" + '\n",
            "  '0.000*\"chip\"'),\n",
            " (9,\n",
            "  '0.414*\"dog\" + 0.247*\"food\" + 0.182*\"healthy\" + 0.126*\"quality\" + '\n",
            "  '0.000*\"treat\" + 0.000*\"excellent\" + 0.000*\"cookie\" + 0.000*\"oatmeal\" + '\n",
            "  '0.000*\"chip\" + 0.000*\"snack\"'),\n",
            " (10,\n",
            "  '0.367*\"fresh\" + 0.293*\"deal\" + 0.168*\"lover\" + 0.000*\"real\" + 0.000*\"chip\" '\n",
            "  '+ 0.000*\"popcorn\" + 0.000*\"super\" + 0.000*\"flower\" + 0.000*\"orchid\" + '\n",
            "  '0.000*\"purple\"'),\n",
            " (11,\n",
            "  '0.000*\"adulterated\" + 0.000*\"reportedly\" + 0.000*\"ughhh\" + 0.000*\"satifie\" '\n",
            "  '+ 0.000*\"peeeeuuuwwww\" + 0.000*\"vic\" + 0.000*\"coconou\" + 0.000*\"blistering\" '\n",
            "  '+ 0.000*\"australia\" + 0.000*\"ize\"'),\n",
            " (12,\n",
            "  '0.415*\"hot\" + 0.344*\"price\" + 0.071*\"breakfast\" + 0.062*\"roast\" + '\n",
            "  '0.045*\"smooth\" + 0.020*\"brew\" + 0.006*\"increase\" + 0.000*\"cocoa\" + '\n",
            "  '0.000*\"excellent\" + 0.000*\"cookie\"'),\n",
            " (13,\n",
            "  '0.921*\"tea\" + 0.000*\"excellent\" + 0.000*\"cookie\" + 0.000*\"treat\" + '\n",
            "  '0.000*\"oatmeal\" + 0.000*\"green\" + 0.000*\"chip\" + 0.000*\"bad\" + '\n",
            "  '0.000*\"awesome\" + 0.000*\"organic\"'),\n",
            " (14,\n",
            "  '0.440*\"delicious\" + 0.247*\"favorite\" + 0.120*\"go\" + 0.102*\"sauce\" + '\n",
            "  '0.039*\"world\" + 0.017*\"peanut\" + 0.000*\"cookie\" + 0.000*\"treat\" + '\n",
            "  '0.000*\"excellent\" + 0.000*\"oatmeal\"'),\n",
            " (15,\n",
            "  '0.374*\"sweet\" + 0.212*\"candy\" + 0.123*\"big\" + 0.089*\"brand\" + '\n",
            "  '0.062*\"source\" + 0.040*\"problem\" + 0.000*\"treat\" + 0.000*\"excellent\" + '\n",
            "  '0.000*\"cookie\" + 0.000*\"organic\"'),\n",
            " (16,\n",
            "  '0.507*\"coffee\" + 0.229*\"stuff\" + 0.174*\"buy\" + 0.024*\"always\" + '\n",
            "  '0.018*\"life\" + 0.016*\"instant\" + 0.000*\"cookie\" + 0.000*\"excellent\" + '\n",
            "  '0.000*\"treat\" + 0.000*\"oatmeal\"'),\n",
            " (17,\n",
            "  '0.406*\"tasty\" + 0.186*\"wonderful\" + 0.126*\"pretty\" + 0.077*\"expensive\" + '\n",
            "  '0.038*\"wrong\" + 0.038*\"poor\" + 0.036*\"back\" + 0.030*\"come\" + 0.017*\"cold\" + '\n",
            "  '0.000*\"treat\"'),\n",
            " (18,\n",
            "  '0.302*\"time\" + 0.228*\"pack\" + 0.209*\"order\" + 0.119*\"variety\" + '\n",
            "  '0.000*\"first\" + 0.000*\"last\" + 0.000*\"ounce\" + 0.000*\"snack\" + 0.000*\"need\" '\n",
            "  '+ 0.000*\"box\"'),\n",
            " (19,\n",
            "  '0.265*\"chocolate\" + 0.206*\"perfect\" + 0.143*\"much\" + 0.106*\"bag\" + '\n",
            "  '0.100*\"low\" + 0.097*\"alternative\" + 0.024*\"allergy\" + 0.015*\"pay\" + '\n",
            "  '0.000*\"cookie\" + 0.000*\"treat\"')]\n"
          ]
        }
      ]
    },
    {
      "cell_type": "code",
      "source": [
        "# Compute Perplexity\n",
        "print('\\nPerplexity: ', lda_model.log_perplexity(corpus))  # a measure of how good the model is. lower the better.\n",
        "\n",
        "# Compute Coherence Score\n",
        "coherence_model_lda = CoherenceModel(model=lda_model, texts=data_lemmatized, dictionary=id2word, coherence='c_v')\n",
        "coherence_lda = coherence_model_lda.get_coherence()\n",
        "print('\\nCoherence Score: ', coherence_lda)"
      ],
      "metadata": {
        "colab": {
          "base_uri": "https://localhost:8080/"
        },
        "id": "RaWsWpdB_BSn",
        "outputId": "9413a435-99d4-4314-c076-d56030f8f8c9"
      },
      "execution_count": 86,
      "outputs": [
        {
          "output_type": "stream",
          "name": "stdout",
          "text": [
            "\n",
            "Perplexity:  -20.190326373755507\n",
            "\n",
            "Coherence Score:  0.2532206994263807\n"
          ]
        }
      ]
    },
    {
      "cell_type": "code",
      "source": [
        "def compute_coherence_values(dictionary, corpus, texts, limit, start=2, step=3):\n",
        "    \"\"\"\n",
        "    Compute c_v coherence for various number of topics\n",
        "\n",
        "    Parameters:\n",
        "    ----------\n",
        "    dictionary : Gensim dictionary\n",
        "    corpus : Gensim corpus\n",
        "    texts : List of input texts\n",
        "    limit : Max num of topics\n",
        "\n",
        "    Returns:\n",
        "    -------\n",
        "    model_list : List of LDA topic models\n",
        "    coherence_values : Coherence values corresponding to the LDA model with respective number of topics\n",
        "    \"\"\"\n",
        "    coherence_values = []\n",
        "    model_list = []\n",
        "    for num_topics in range(start, limit, step):\n",
        "        model = gensim.models.wrappers.LdaMallet(mallet_path, corpus=corpus, num_topics=num_topics, id2word=id2word)\n",
        "        model_list.append(model)\n",
        "        coherencemodel = CoherenceModel(model=model, texts=texts, dictionary=dictionary, coherence='c_v')\n",
        "        coherence_values.append(coherencemodel.get_coherence())\n",
        "\n",
        "    return model_list, coherence_values"
      ],
      "metadata": {
        "id": "BcrFVJRf_Nni"
      },
      "execution_count": 92,
      "outputs": []
    },
    {
      "cell_type": "code",
      "source": [
        "# Show graph\n",
        "limit=40; start=2; step=6;\n",
        "x = range(start, limit, step)\n",
        "plt.plot(x, coherence_values)\n",
        "plt.xlabel(\"Num Topics\")\n",
        "plt.ylabel(\"Coherence score\")\n",
        "plt.legend((\"coherence_values\"), loc='best')\n",
        "plt.show()"
      ],
      "metadata": {
        "id": "XtiZXUoq_7uB"
      },
      "execution_count": null,
      "outputs": []
    },
    {
      "cell_type": "code",
      "source": [
        "# Print the coherence scores\n",
        "for m, cv in zip(x, coherence_values):\n",
        "    print(\"Num Topics =\", m, \" has Coherence Value of\", round(cv, 4))"
      ],
      "metadata": {
        "id": "V0Jz8qXd_-vW"
      },
      "execution_count": null,
      "outputs": []
    },
    {
      "cell_type": "code",
      "source": [
        "# Select the model and print the topics\n",
        "optimal_model = model_list[3]\n",
        "model_topics = optimal_model.show_topics(formatted=False)\n",
        "pprint(optimal_model.print_topics(num_words=10))"
      ],
      "metadata": {
        "id": "OQ-juJhlAFjm"
      },
      "execution_count": null,
      "outputs": []
    },
    {
      "cell_type": "code",
      "source": [
        "def format_topics_sentences(ldamodel=lda_model, corpus=corpus, texts=data):\n",
        "    # Init output\n",
        "    sent_topics_df = pd.DataFrame()\n",
        "\n",
        "    # Get main topic in each document\n",
        "    for i, row in enumerate(ldamodel[corpus]):\n",
        "        row = sorted(row, key=lambda x: (x[1]), reverse=True)\n",
        "        # Get the Dominant topic, Perc Contribution and Keywords for each document\n",
        "        for j, (topic_num, prop_topic) in enumerate(row):\n",
        "                     if j == 0:  # => dominant topic\n",
        "                wp = ldamodel.show_topic(topic_num)\n",
        "                topic_keywords = \", \".join([word for word, prop in wp])\n",
        "                sent_topics_df = sent_topics_df.append(pd.Series([int(topic_num), round(prop_topic,4), topic_keywords]), ignore_index=True)\n",
        "            else:\n",
        "                break\n",
        "    sent_topics_df.columns = ['Dominant_Topic', 'Perc_Contribution', 'Topic_Keywords']\n",
        "\n",
        "    # Add original text to the end of the output\n",
        "    contents = pd.Series(texts)\n",
        "    sent_topics_df = pd.concat([sent_topics_df, contents], axis=1)\n",
        "    return(sent_topics_df)\n",
        "\n",
        "\n",
        "df_topic_sents_keywords = format_topics_sentences(ldamodel=optimal_model, corpus=corpus, texts=data)\n",
        "\n",
        "# Format\n",
        "df_dominant_topic = df_topic_sents_keywords.reset_index()\n",
        "df_dominant_topic.columns = ['Document_No', 'Dominant_Topic', 'Topic_Perc_Contrib', 'Keywords', 'Text']\n",
        "\n",
        "# Show\n",
        "df_dominant_topic.head(10)"
      ],
      "metadata": {
        "id": "KJLPG2lbAObV"
      },
      "execution_count": null,
      "outputs": []
    },
    {
      "cell_type": "markdown",
      "metadata": {
        "id": "WoGcdZHlhjD0"
      },
      "source": [
        "## (2) (10 points) Generate K topics by using LSA, the number of topics K should be decided by the coherence score, then summarize what are the topics.\n",
        "\n",
        "You may refer the code here:\n",
        "https://www.datacamp.com/community/tutorials/discovering-hidden-topics-python"
      ]
    },
    {
      "cell_type": "code",
      "execution_count": 132,
      "metadata": {
        "id": "DdQHe6PghjD0"
      },
      "outputs": [],
      "source": [
        "#import modules\n",
        "import os.path\n",
        "from gensim import corpora\n",
        "from gensim.models import LsiModel\n",
        "from nltk.tokenize import RegexpTokenizer\n",
        "from nltk.corpus import stopwords\n",
        "from nltk.stem.porter import PorterStemmer\n",
        "from gensim.models.coherencemodel import CoherenceModel\n",
        "import matplotlib.pyplot as plt\n",
        "number_of_topics:any\n",
        "\n",
        "\n",
        "\n",
        "\n"
      ]
    },
    {
      "cell_type": "code",
      "source": [
        "import os\n",
        "\n",
        "def load_data(path, file_name, max_lines=None):\n",
        "    \"\"\"\n",
        "    Input  : path and file_name\n",
        "             max_lines: Maximum number of lines to read from the file (None means read all)\n",
        "    Purpose: Loading text file with an option to limit the number of lines read\n",
        "    Output : List of paragraphs/documents and\n",
        "             title (initial 100 words considered as the title of the document)\n",
        "    \"\"\"\n",
        "    documents_list = []\n",
        "    titles = []\n",
        "    with open(os.path.join(path, file_name), \"r\") as fin:\n",
        "        for i, line in enumerate(fin):\n",
        "            if max_lines is not None and i >= max_lines:\n",
        "                break  # Stop reading after reaching the specified maximum lines\n",
        "            text = line.strip()\n",
        "            documents_list.append(text)\n",
        "            titles.append(text[0:min(len(text), 100)])\n",
        "\n",
        "    print(\"Total Number of Documents:\", len(documents_list))\n",
        "    print(titles)\n",
        "    return documents_list, titles"
      ],
      "metadata": {
        "id": "F88rxdgSKWI0"
      },
      "execution_count": 133,
      "outputs": []
    },
    {
      "cell_type": "code",
      "source": [
        "document_list,titles=load_data(\"\",\"Reviews.csv\", max_lines=1000)"
      ],
      "metadata": {
        "colab": {
          "base_uri": "https://localhost:8080/"
        },
        "id": "8jSBDT_vKXCh",
        "outputId": "e716ba30-b497-43d6-d935-07f4e5adb507"
      },
      "execution_count": 134,
      "outputs": [
        {
          "output_type": "stream",
          "name": "stdout",
          "text": [
            "Total Number of Documents: 1000\n",
            "['Id,ProductId,UserId,ProfileName,HelpfulnessNumerator,HelpfulnessDenominator,Score,Time,Summary,Text', '1,B001E4KFG0,A3SGXH7AUHU8GW,delmartian,1,1,5,1303862400,Good Quality Dog Food,I have bought several ', '2,B00813GRG4,A1D87F6ZCVE5NK,dll pa,0,0,1,1346976000,Not as Advertised,\"Product arrived labeled as Ju', '3,B000LQOCH0,ABXLMWJIXXAIN,\"Natalia Corres \"\"Natalia Corres\"\"\",1,1,4,1219017600,\"\"\"Delight\"\" says it', '4,B000UA0QIQ,A395BORC6FGVXV,Karl,3,3,2,1307923200,Cough Medicine,If you are looking for the secret i', '5,B006K2ZZ7K,A1UQRSCLF8GW1T,\"Michael D. Bigham \"\"M. Wassir\"\"\",0,0,5,1350777600,Great taffy,\"Great ta', '6,B006K2ZZ7K,ADT0SRK1MGOEU,Twoapennything,0,0,4,1342051200,Nice Taffy,\"I got a wild hair for taffy a', '7,B006K2ZZ7K,A1SP2KVKFXXRU1,David C. Sullivan,0,0,5,1340150400,Great!  Just as good as the expensive', '8,B006K2ZZ7K,A3JRGQVEQN31IQ,Pamela G. Williams,0,0,5,1336003200,\"Wonderful, tasty taffy\",This taffy ', \"9,B000E7L2R4,A1MZYO9TZK0BBI,R. James,1,1,5,1322006400,Yay Barley,Right now I'm mostly just sprouting\", '10,B00171APVA,A21BT40VZCCYT4,Carol A. Reed,0,0,5,1351209600,Healthy Dog Food,This is a very healthy ', '11,B0001PB9FE,A3HDKO7OW0QNK4,Canadian Fan,1,1,5,1107820800,The Best Hot Sauce in the World,\"I don\\'t ', '12,B0009XLVG0,A2725IB4YY9JEB,\"A Poeng \"\"SparkyGoHome\"\"\",4,4,5,1282867200,\"My cats LOVE this \"\"diet\"\"', '13,B0009XLVG0,A327PCT23YH90,LT,1,1,1,1339545600,My Cats Are Not Fans of the New Food,\"My cats have b', '14,B001GVISJM,A18ECVX2RJ7HUE,\"willie \"\"roadie\"\"\",2,2,4,1288915200,fresh and greasy!,good flavor! the', '15,B001GVISJM,A2MUGFV2TDQ47K,\"Lynrie \"\"Oh HELL no\"\"\",4,5,5,1268352000,Strawberry Twizzlers - Yummy,T', '16,B001GVISJM,A1CZX3CP8IKQIJ,Brian A. Lee,4,5,5,1262044800,\"Lots of twizzlers, just what you expect.', '17,B001GVISJM,A3KLWF6WQ5BNYO,Erica Neathery,0,0,2,1348099200,poor taste,I love eating them and they ', '18,B001GVISJM,AFKW14U97Z6QO,Becca,0,0,5,1345075200,Love it!,I am very satisfied with my Twizzler pur', '19,B001GVISJM,A2A9X58G2GTBLP,Wolfee1,0,0,5,1324598400,GREAT SWEET CANDY!,\"Twizzlers, Strawberry my c', '20,B001GVISJM,A3IV7CL2C13K2U,Greg,0,0,5,1318032000,Home delivered twizlers,Candy was delivered very ', '21,B001GVISJM,A1WO0KGLPR5PV6,mom2emma,0,0,5,1313452800,Always fresh,\"My husband is a Twizzlers addic', '22,B001GVISJM,AZOF9E17RGZH8,Tammy Anderson,0,0,5,1308960000,TWIZZLERS,\"I bought these for my husband', '23,B001GVISJM,ARYVQL4N737A1,Charles Brown,0,0,5,1304899200,Delicious product!,I can remember buying ', \"24,B001GVISJM,AJ613OLZZUG7V,Mare's,0,0,5,1304467200,Twizzlers,I love this candy.  After weight watch\", '25,B001GVISJM,A22P2J09NJ9HKE,\"S. Cabanaugh \"\"jilly pepper\"\"\",0,0,5,1295481600,Please sell these in M', '26,B001GVISJM,A3FONPR03H3PJS,\"Deborah S. Linzer \"\"Cat Lady\"\"\",0,0,5,1288310400,Twizzlers - Strawberr', '27,B001GVISJM,A3RXAU2N8KV45G,lady21,0,1,1,1332633600,Nasty No flavor,\"The candy is just red , No fla', '28,B001GVISJM,AAAS38B98HMIK,Heather Dube,0,1,4,1331856000,Great Bargain for the Price,I was so glad ', '29,B00144C10S,A2F4LZVGFLD1OB,DaisyH,0,0,5,1338854400,YUMMY!,\"I got this for my Mum who is not diabet', '30,B0001PB9FY,A3HDKO7OW0QNK4,Canadian Fan,1,1,5,1107820800,The Best Hot Sauce in the World,\"I don\\'t ', '31,B003F6UO7K,AFM0O9480F04W,Sherril,0,0,5,1297641600,Great machine!,\"I have never been a huge coffee', '32,B003F6UO7K,A31OQO709M20Y7,\"Molly V. Smith \"\"staral\"\"\",0,1,5,1288310400,THIS IS MY TASTE...,\"This ', '33,B001EO5QW8,AOVROBZ8BNTP7,S. Potter,19,19,4,1163376000,Best of the Instant Oatmeals,\"McCann\\'s Inst', '34,B001EO5QW8,A3PMM0NFVEJGK9,\"Megan \"\"Bad at Nicknames\"\"\",13,13,4,1166313600,Good Instant,\"This is a', '35,B001EO5QW8,A2EB6OGOWCRU5H,CorbyJames,9,9,5,1175212800,Great Irish oatmeal for those in a hurry!,\"', '36,B001EO5QW8,A2CI0RLADCRKPF,T. J. Ryan,3,3,4,1210464000,satisfying,\"McCann\\'s Instant Irish Oatmeal,', '37,B001EO5QW8,A1MYS9LFFBIYKM,\"Abby Chase \"\"gluten free\"\"\",2,2,5,1190851200,Love Gluten Free Oatmeal!', '38,B001EO5QW8,A3MGP2E1ZZ6GRB,\"Zardoz \"\"focuspuller\"\"\",1,1,5,1238457600,it\\'s oatmeal,\"What else do yo', '39,B001EO5QW8,A2GHZ2UTV2B0CD,JERRY REITH,0,0,4,1350777600,GOOD WAY TO START THE DAY....,\"I WAS VISIT', '40,B001EO5QW8,AO80AC8313NIZ,kYpondman,0,0,5,1317168000,Wife\\'s favorite Breakfast,\"I ordered this for', \"41,B001EO5QW8,AQCY5KRO7489S,Garrett,0,0,5,1303430400,Why wouldn't you buy oatmeal from Mcanns? Taste\", '42,B001EO5QW8,A1WK4ALVZDYPUE,\"Dick Baldwin \"\"christobe\"\"\",0,0,5,1302134400,Oatmeal For Oatmeal Lover', \"43,B001EO5QW8,A16XFOYQSJREL7,Roger Pugliese,0,0,5,1287014400,Food-Great,I have McCann's Oatmeal ever\", '44,B001EO5QW8,A17DW6SUOC70DJ,Mother of 9,0,0,5,1255392000,Good Hot Breakfast,\"McCann\\'s Oatmeal is a ', '45,B001EO5QW8,A2G7B7FKP2O2PU,D. Leschke,0,0,5,1209686400,Great taste and convenience,We really like ', '46,B001EO5QW8,A39Z97950MCTQE,K. A. Freel,0,0,3,1205193600,Hearty Oatmeal,\"This seems a little more w', '47,B001EO5QW8,AQLL2R1PPR46X,grumpyrainbow,0,0,5,1192752000,good,Good oatmeal.  I like the apple cinn', '48,B001EO5QW8,A26AY1TFK8BQXQ,\"kbogo \"\"shoelover\"\"\",1,2,3,1200096000,Mushy,\"The flavors are good.  Ho', \"49,B001EO5QW8,ALOR97KTZTK1P,knitty pants,1,2,4,1191715200,Very good but next time I won't order the \", '50,B001EO5QW8,A276999Y6VRSCQ,JMay,0,1,3,1334016000,Same stuff,This is the same stuff you can buy at ', '51,B001EO5QW8,A108P30XVUFKXY,Roberto A,0,7,1,1203379200,Don\\'t like it,\"This oatmeal is not good. Its', '52,B000G6RPMY,A3S5KJDA6ED2PS,Mike Kaser,4,4,5,1243900800,HOT!  And good!  Came back for more  :),\"Go', \"53,B000G6RPMY,A9L6L5H9BPEBO,Edwin C. Pauzer,1,1,4,1348876800,You'll go nuts over Ass-Kickin' Peanuts\", '54,B000G6RPMY,AQ9DWWYP2KJCQ,\"Roel Trevino \"\"protomex\"\"\",0,0,3,1278028800,not ass kickin,we\\'re used t', '55,B002GWHC0G,A1ND7WC5LXOU48,\"David Belton \"\"Proteus 1\"\"\",2,2,4,1322438400,Roasts up a smooth brew,\"', '56,B002GWHC0G,A2EFAW1P3DRXWO,TJ Fairfax,0,0,5,1349395200,Our guests love it!,\"We roast these in a la', '57,B004N5KULM,A202WR509428VF,amateur amazon shopper,2,2,5,1322438400,Awesome Deal!,Deal was awesome!', '58,B004N5KULM,ASCNNAJU6SXF8,S. Beck,1,1,5,1336176000,How can you go wrong!,\"It is chocolate, what ca', '59,B004N5KULM,A2A7KXM9B4XW90,\"P. Kelso \"\"Amazon all the way!\"\"\",0,0,5,1320364800,Awsome - Kids in ne', '60,B004N5KULM,A2QOGOXPOVKAJG,mimimc,0,0,5,1320105600,great deal.,\"Halloween is over but, I sent a ba', '61,B004N5KULM,A1ZR8O62VSU4OK,\"Lisa J. Szlosek \"\"lisa\"\"\",2,4,3,1318723200,Better price for this at Ta', '62,B004N5KULM,A7ZK2A3VIW7X9,Peggy,0,2,5,1319414400,pretty expensive,\"This bag of candy online is pre', '63,B001EO5TPM,A1E09XGZUR78C6,gary sturrock,2,2,1,1215302400,stale product.,Arrived in 6 days and wer', '64,B005DUM9UQ,A3HR0ZZOFKQ97N,RLC,3,3,5,1333497600,Hammer Nutrition \\'s Fizz Rocks!,\"I have used the e', '65,B005DUM9UQ,A2XIHNXODNZGV4,\"ChemProf \"\"chem professor\"\"\",1,1,5,1333584000,great source of electrol', '66,B005DUM9UQ,A3TWF9DQ6MU87E,dhy4b,1,1,5,1331510400,Great for preventing cramps,This stuff really wo', '67,B005DUM9UQ,AEFIZIJ1FK1BK,Doug,0,0,5,1345161600,Low Carb Alternative to Gatorade,\"For those of us ', '68,B005DUM9UQ,A8OFFIAL6XTOH,Bill Shirer,0,1,2,1338422400,Taste is not so good.,\"I purchased the Mang', '69,B000E7VI7S,A1KL2LAW08X6UQ,calmnsense,0,0,3,1169251200,How much would you pay for a bag of chocola', '70,B000E7VI7S,AWCBF2ZWIN57F,C. Salcido,0,2,5,1185753600,pretzel haven!,this was sooooo deliscious bu', '71,B001GVISJC,A27TKQHFW0FB5N,Chet,2,2,5,1254355200,Great Gummi!,\"These Albanese gummi bears and ring', '72,B001GVISJC,A3BDOAPSF96WGQ,2tall,1,1,5,1289260800,Bigger then other brands,\"Grape gummy bears are ', '73,B006SQBRMA,ATYMT48R62ENE,Marie,0,0,5,1327017600,Best ever latice tart,\"I ordered two of these and', '74,B0059WXJKM,A25VFHVGI4CFTP,Diana Robinson,0,1,1,1335744000,Warning!  WARNING!  -ALCOHOL SUGARS!,\"B', '75,B001EPPI84,A3Q0IDQ03S0158,Jen,0,0,2,1287705600,nothing special,It is okay.  I would not go out of', '76,B001EPPI84,A27TZ4WBU7N0YF,I. So,0,0,1,1275004800,No Tea Flavor,No tea flavor at all. Just whole b', '77,B004X2KR36,A2W3ABLWMJ84NS,Jessica Snyder,0,0,5,1348444800,Good,\"These looked like a perfect snack', '78,B004X2KR36,A26M5O53PHZTKN,\"Debs \"\"peanut\"\"\",0,0,5,1348185600,Taste great,These taste really good.', '79,B004X2KR36,A2AB7M9UCNBVN7,sharonh4,0,0,3,1346976000,Order only in cold weather,\"The taste was gre', '80,B005R8JE8O,A3H1EQD2PBC085,jmc,0,0,5,1344902400,this is the best,\"i know i cannot make tea this go', '81,B0066DMI6Y,AB30HQTI5VOLR,Melinda Bishop,1,1,5,1325116800,Delicious!,This peppermint stick is deli', '82,B0066DMI6Y,AZLONLC8OZPEC,John W. Hollis,1,1,4,1324598400,Great,\"Great gift for all ages! I purcha', '83,B003ZFRKGO,A2VOZX7YBT0D6D,\"Johnnycakes \"\"Johnnycakes\"\"\",15,15,5,1325635200,Forget Molecular Gastr', '84,B0019CW0HE,A1FD9E5C06UB6B,BRENDA DEMERS,5,5,3,1301011200,Natural Balance Lamb and Rice,\"While my ', '85,B0019CW0HE,AK2CXHH9VRZ2A,I. GLENN,4,4,3,1313193600,INCREASED MY DOGS ITCHING,\"Awesome dog food. H', '86,B0019CW0HE,A25BGFRHYHEZKK,Toby\\'s mom,4,4,5,1292889600,Great food!,\"We have three dogs and all of ', '87,B0019CW0HE,A37N9XZBB8JYOF,Ash52,1,1,5,1333670400,Great for my dogs allergies,\"My dog has a ton of', '88,B0019CW0HE,A1T4L0Q47OZ9N,Wendy,1,1,5,1320883200,Great for stomach problems!,My shepherd/collie mi', '89,B0019CW0HE,A3IMXZE9FCUNOC,Dana,1,1,5,1311638400,Better life for you dog!,Natural Balance Dry Dog ', '90,B0019CW0HE,A1EC57S6C2VLTL,\"Lorraine \"\"Agelechio\"\"\",0,0,5,1347408000,Great Food,\"Great food! I lov', '91,B0019CW0HE,A1OGD72Y2Y26CF,Lisas201,0,0,5,1335398400,Great food for my my dog who has a sensitive ', '92,B0019CW0HE,A7JWCYVPF7KCO,gare,0,0,5,1334966400,Great dog food,\"This is great dog food, my dog has', '93,B0019CW0HE,ABG53EBZBKD23,\"J. Romagnoli \"\"*jroma\"\"\",0,0,5,1333929600,Mmmmm  Mmmmm good.,This food ', '94,B0019CW0HE,A3AF72GP4GVRY1,John D. Meara,0,0,5,1330041600,Great Dog Food!,\"My golden retriever is ', '95,B0019CW0HE,A1DJAAKLPCJRZD,wendy,0,0,5,1329609600,So convenient,This is the same food we get at pe', \"96,B0019CW0HE,A1BFNM27629VAV,E. Triebe,0,0,5,1320105600,Good healthy dog food,I've been very pleased\", '97,B0019CW0HE,A18AAABCIJKC5Q,Rhiever,0,0,5,1303776000,Great dog food,\"My 1-1/2 year old basenji/jack', '98,B0019CW0HE,A3UII2114114PI,\"FuNky Faja \"\"SiLkk\"\"\",0,0,5,1297296000,\"Great allergy sensitive dog fo', '99,B0019CW0HE,ABZ9F0D94YK45,Amazon-tron 3000,0,0,5,1295308800,Perfect for our English Bulldog with A', '100,B0019CW0HE,A2P6ACFZ8FTNVV,Melissa Benjamin,0,1,1,1331164800,Bad,\"I fed this to my Golden Retriev', '101,B004K2IHUO,A1SYSKR79LA2CB,\"Mycroft \"\"Virture is its own punishment\"\"\",4,5,5,1233014400,Taste wis', '102,B004K2IHUO,A3D1TXE98KRKYO,\"Danny \"\"The Student\"\"\",2,3,4,1256515200,Great Support,\"Arrived slight', '103,B004K2IHUO,AVCA516CFZ9HF,S. Fowler,0,0,4,1335139200,TART!,\"The crust on these tarts are perfect.', '104,B004K2IHUO,A1P21J0DMTVGS7,Lovethemovies,0,0,5,1332028800,Omaha Apple Tartlets,\"These are absolut', '105,B004K2IHUO,AL3E5V6MXO9B0,pionex1796,0,0,5,1326412800,Loved these Tartlets,What a nice alternativ', '106,B004K2IHUO,A2O9G2521O626G,Rachel Westendorf,0,0,5,1308700800,The best,I like Creme Brulee. I lov', '107,B004K2IHUO,A1ZKFQLHFZAEH9,\"S. J. Monson \"\"world citizen\"\"\",2,8,3,1236384000,disappointing,not wh', '108,B001REEG6C,A30835UIR6F8KB,Adam E. Smith,2,2,5,1295308800,Wasting Vinegar on a Cucumber is a Sham', '109,B001REEG6C,A10EHUTGNC4BGP,M. Foell,1,1,5,1243728000,Asparagus Bliss,\"I love asparagus.  Up until', '110,B001REEG6C,AY12DBB0U420B,Gary Peterson,0,0,5,1316390400,My Idea of a Good Diet Food.,\"I\\'m presen', '111,B000J0HIT2,A1VKJN5Y1C7S5Y,\"Wilhelmina Robinson \"\"Wilhelmina Robinson &#34...\",2,2,2,1250812800,L', '112,B0037LW78C,A3VEYLW2KPZNGK,G. Simmons,3,3,5,1297814400,Delicious tea,I have been drinking this te', '113,B0037LW78C,A2F65U0UDY7TAW,Aldo,2,2,5,1337990400,My every day green tea,\"I have been drinking Roy', '114,B0037LW78C,AWNANZ5VUO7IB,John D. Zuccarino,1,1,5,1308960000,the best tea ever... freah bright cl', '115,B0037LW78C,A1Q4PJXI5HS5WT,ceecee,0,0,5,1333065600,Tea review,\"I love, love this green tea.  It i', '116,B0037LW78C,A2IX1B76ONTXEL,Cinderella,0,0,5,1326585600,Wonderful Tea,I love this tea. It helps cu', '117,B0026Y3YBK,A3P60QLFDDCHOY,\"Giordano \"\"GB\"\"\",2,2,5,1304899200,Great cookies,\"I\\'m Italian and I li', '118,B0026Y3YBK,A38BUM0OXH38VK,singlewinder,0,0,5,1347667200,Best everyday cookie!,\"In the 1980s I sp', '119,B003SE19UK,AD1WWGMEQ8FWW,Bob Rex,5,5,5,1290988800,So Far So Good,\"I had heard a little about thi', '120,B003SE19UK,A2PM49X61MWZJV,DamiKris,4,4,5,1324166400,Best Cat Food,\"I started buying this after I', '121,B003SE19UK,A3A52DETIFZNZS,Sarah Wilson,4,4,5,1309564800,Great food.,\"I have done a lot of resear', '122,B003SE19UK,A3L15C30CBPZOR,Cynthia G. Pate,2,2,5,1330992000,Perfect Cat Food For Older Cats!,This', '123,B003SE19UK,A29SUR9R8ZU54B,Alfbo,1,1,5,1313107200,Good for Feline UTI,\"I have a 4 year old male c', '124,B003SE19UK,A9GRWS6KP8SMA,Anne Kirkwood,1,1,5,1292544000,Palatable and healthy,\"Before I was educ', '125,B003SE19UK,ASOEVZ99YWPVL,PurpleGreen,0,0,5,1349049600,Healthy & They LOVE It!,\"My holistic vet r', '126,B003SE19UK,A1QAJ948PN36II,Winter Green,0,0,5,1341964800,Wonderful food - perfect for allergic ki', '127,B003SE19UK,A1LWFJRITZLYUG,PMG1,0,0,5,1334188800,Holistic select cat food,Our cats thrive extreme', '128,B003OB0IB8,A34UG2TNXIL0Y,Austin H.,4,4,4,1325808000,Tastes great. Love Hot & Spicy. Bad price he', '129,B003OB0IB8,A3NVZTGPORNPRW,B. Pearce,4,4,5,1314489600,My favorite ramen,\"I\\'ve been eating Ramen n', '130,B003OB0IB8,A28D854VMOEHGX,Benny,3,3,3,1329436800,It burns!,\"I LOVE spicy ramen, but for whatever', '131,B003OB0IB8,AISIYS3D2EAOX,RTyst,1,1,5,1330473600,Amazing to the last bite.,\"Always being a fan of', '132,B003OB0IB8,A2DLRG3YX6A2ZU,luckybabe,2,3,2,1323820800,Not for me,\"I must be a bit of a wuss, beca', '133,B003OB0IB8,A56HS2VNURVJ0,\"J. Espinoza \"\"jchav1980\"\"\",0,0,5,1343606400,Great spicy flavor,I reall', '134,B003OB0IB8,AOTEC8KEH8JGN,Seth S Moyers,0,0,5,1334880000,Great value and convenient ramen,\"Got th', '135,B003OB0IB8,A1D0URD0AL237J,Mother of Pearl,0,0,5,1334620800,great flavor,i have bought allot of d', '136,B003OB0IB8,A2BZNXMV0LC7OE,Alanna,0,0,4,1333756800,\"Tastes great, but is cheaper locally.\",\"I lov', '137,B002SRYRE8,A198FU6P1BVUNZ,Sarah,0,0,5,1349740800,Tastes awesome & looks beautiful,\"The BEST inve', '138,B002SRYRE8,A21E0OJ4DSKXNA,Smileface,0,0,5,1342051200,Happy Face,Delicious. I cannot get Australi', '139,B002SRYRE8,A1FJJQA34W0F4K,\"Gettin Real \"\"gettin real\"\"\",0,0,5,1329177600,Simply the BEST!,\"I kee', '140,B002SRYRE8,A20PK3OCKRRSA5,Mrs. J. Todd,0,0,5,1268265600,Excellent Product/Life Saver,\"My son has', '141,B001GVISJW,ARS5Q7LR6HWPG,\"N. Pine \"\"pcone\"\"\",0,0,4,1314489600,Nice snack,I bought this for our o', '142,B001GVISJW,A2YIO225BTKVPU,\"Angel_Boy \"\"Treat the people around you the wa...\",0,0,4,1301788800,G', '143,B001GVISJW,A1ROND7G1QTOFY,Karon Dixon,0,0,5,1285804800,I love these!!!!!!!!,\"I love these.......', '144,B001GVISJW,A1Z54EM24Y40LL,c2,0,0,5,1269129600,Great for the kids!,\"If you are looking for a less', '145,B001GVISJW,A281387UUS2IN5,Beantown Jim,0,1,3,1271548800,Bite sized,\"I might be mistaken, but it ', '146,B0017I8UME,A2NH6XPAZG881D,MarkD,2,2,5,1240012800,Sweet with a nice kick!,\"Being a fan of Newman\\'', '147,B0017I8UME,AKX0RW482WAFD,Barbie,2,2,2,1224633600,BROKEN BOTTLE BOTTOMS!,\"The SALSA smelled delic', '148,B0017I8UME,ATBE88PKKQTRA,Matthew R Lehmkuhler,0,0,5,1344384000,Love the salsa!!,This is one of t', '149,B0064KU9HO,AJFIH0DZYJF7T,Lisa Barton,0,0,3,1350345600,Ehhh...,These remind me of dog treats I ma', '150,B0037ZFEW4,ABTKZKAWOK4DC,huntersgun,3,3,5,1326153600,awesome cornmeal,\"This is the best cornmeal', '151,B00374XSVY,AC567LXSKDNC1,Teeebooo,0,0,5,1341446400,GREAT marinade!,\"This is a fabulous marinade!', '152,B00374XSVY,A2PW7DRW757OL0,Chris,0,0,5,1335052800,Awesome stuff,Works with chicken fish beef or p', '153,B005P0HHGK,AISCBGJRPPZ5G,\"KT \"\"loves to read\"\"\",0,0,4,1326585600,tastes good,Got this for my bro', '154,B002HQAXUW,A17ESTP5T7T1PH,Bumbeda1,1,1,1,1324944000,Rip off Price,\"These singles sell for $2.50 ', '155,B000SV90J8,A1CY94Z8YWQV12,Karas M. Stewart,1,1,5,1267401600,JELL-O,AWESOME!!! such a yummy flavo', '156,B000SV90J8,A3OO3TXDSIJDHY,pianolover,0,0,5,1323648000,Great flavor of Jell-o.,\"I went to 4 groce', '157,B0036VM05I,AUIVXYS8E4DEX,Dr. Christopher Lee,1,1,5,1327708800,Great Deal,What a deal this is the', '158,B0036VM05I,A335SFRERY214N,\"D. Melo \"\"Character Connoisseur\"\"\",0,0,5,1349481600,Great tasting sea', '159,B000ITVLE2,A3NID9D9WMIV01,\"Louie Arrighi \"\"Lou da Joo\"\"\",17,19,5,1260057600,tastes very fresh,\"<', \"160,B000ITVLE2,A395S4RA1X7BFB,Pen_Name123,3,3,5,1315872000,Simple but good,I've never heard of the S\", '161,B000ITVLE2,ADL44P8Z4A3M5,\"A. Goldsmith \"\"Media Hound\"\"\",2,2,5,1323043200,tasty!,\"these are the b', '162,B000ITVLE2,A1K37I9HWF3SAI,James R. Mckinney,1,1,3,1349222400,Not the greatest tasting..,\"I have ', '163,B000ITVLE2,A6Y8N2GHDH0ZO,Matty,0,0,4,1348272000,Not Bad,\"I\\'m not familiar with the Safcol brand ', '164,B000ITVLE2,A5X6PJANY4XW4,\"Tcat Houser \"\"A Customer\"\"\",0,0,5,1348099200,\"Right size, taste\",\"I fo', '165,B000ITVLE2,ARTBQH9WOZTIV,\"Billy Wilson \"\"amzrview\"\"\",0,4,1,1269216000,Tasteless but low calorie,', '166,B003TQQKFQ,A2TUJ3MOKXZVYK,Amy,1,1,5,1338508800,This stuff is sooooo good!,\"I read about pomegran', '167,B003TQQKFQ,A2QHQM3HHFUSHG,Catherine Lea,2,3,5,1334102400,Best Stuff Ever,\"Used this in Moroccan ', '168,B007B9J6G2,A34YK0ZTWOR858,NikkiBast,1,1,1,1345420800,Very Low quality,\"I don\\'t know how long the', '169,B0064KO0BU,A34D61RQILOKIJ,TampaBayGal,1,1,1,1350086400,Not Banana Runts,\"Besides being smaller t', '170,B0064KO0BU,AAV3AEI6YSYA2,sue,0,0,3,1345766400,Banana Heads Not Banana Runts,\"The item over all w', '171,B0064KO0BU,A104Y49ZQ4CYJ2,\"H. Adams \"\"hollya\"\"\",0,0,5,1344816000,Worked great!,\"I purchased as a', '172,B001IUKD76,A2KVCXTQVN18KI,\"A. Martin \"\"tony_fourbu\"\"\",3,3,5,1283299200,Ricore forever,\"I have dr', '173,B001IUKD76,A2K8UBI64T0BM8,A. Carriglio,3,3,5,1262131200,Delicious!,\"I first had this drink when ', '174,B0081XN2HQ,A3HUV0ZQPXO3V7,Pink Dandy Chatter,0,0,5,1344902400,\"Fluffy, Soft, Delicious and Sugar', '175,B0025VRCJY,A3PPOTV6659ATF,Jerald,5,6,4,1280793600,Great but not as good as it was back in the da', '176,B0025VRCJY,A2VYRRDJN2UKWB,\"Dario Quinonez \"\"aprilkid\"\"\",1,1,5,1299974400,EXCELLENT LEMON JUICE,\"', '177,B0025VRCJY,A2ACUGNVT36JYX,Lyannah,0,0,5,1325203200,Great Product,This lemon juice is a must in m', '178,B0025VRCJY,A3F8JQ5J29GWUV,qv240,0,0,5,1315526400,Handy,\"Fast delivery and good product. This is ', '179,B0025VRCJY,A3L9ZT7SRJYLVH,\"JDTexan \"\"JDTexan\"\"\",0,2,4,1293926400,ReaLemon Juice from Amazon.,\"Th', '180,B005CJVVJ8,A3O8ZE8BHREE0W,Tom Falcon,8,8,4,1314316800,\"relaxing, almost like something you smoke', '181,B005CJVVJ8,A3BSTFFIKK5YTW,\"BOATS99 \"\"BOATS99\"\"\",6,6,4,1327968000,Never paid that much !,I bought', \"182,B005CJVVJ8,A3F44FUPG97AA9,Monie,1,1,5,1339545600,Marley's Mellow Mood Lite - Half Tea Half Lemon\", '183,B005CJVVJ8,A1AL946PZ24084,Melinda K. Sanders,0,0,3,1334707200,Great product to help you sleep,\"W', '184,B001KUUNP6,A262Z0S6PT9U16,Lee Thombley,3,3,5,1292716800,Perfect for gluten-free chocolate chip c', '185,B001KUUNP6,A317BY3IPZ83MJ,\"James G. Colet \"\"psychocarp\"\"\",3,3,5,1235520000,Garbonzo  Bean Flour,', '186,B001KUUNP6,A18VJ0WOQAIZYD,Ean Behr,0,0,5,1337299200,yum falafel,\"We had trouble finding this loc', '187,B000NY8ODS,A1IU7S4HCK1XK0,Joanna Daneman,2,2,5,1333843200,\"Make a fresh fruit tart, light and be', '188,B00029XIZI,A2S72TUJDQUBMH,Nadia,0,0,5,1236124800,Miracle,\"My Scotties were full of hot spots and', '189,B004V6AH34,ATX44LVZL5JFV,Silvy,1,1,4,1314403200,not bad for instant healthy coffee,\"I bought thi', '190,B004V6AH34,A3AFVGFX175F9N,Gift Card Recipient,0,0,3,1340582400,It\\'s ok,\"The coffee is very finel', '191,B004V6AH34,AXAJ1GHE97YE2,\"Jasmin Song \"\"Jasmin Song\"\"\",0,0,5,1339027200,I love it!,\"This coffee ', '192,B004V6AH34,A3POAWC2JPQQQP,me,0,0,5,1338249600,great taste and has health benefits!,\"Like the oth', '193,B004V6AH34,AJZ2A9UOJK0RB,LK,0,0,5,1336089600,Tastes Great. Arrived in 2 days!,\"Tastes great, and', '194,B0028C44Z0,A19NGYCQ1NCF3W,S. Haney,2,2,5,1323820800,Great for after lunch,These little guys are ', '195,B0028C44Z0,A32DDKLY942A84,\"PrinterCPE \"\"damnsilly1\"\"\",2,2,4,1284249600,\"Nice little mints, but p', '196,B0028C44Z0,A3B6S35IUGOGW4,Rutt10,1,1,5,1300406400,Altoids mini mints tins,These little tins of s', '197,B0028C44Z0,AI7O5C9KBVSTF,i&#60;3pnutbutter,3,4,5,1274054400,Altoids Smalls-Wintergreen,\"Pros:<br', '198,B0028C44Z0,A4LL4KXLRBQHQ,stillgoinstrong,2,3,3,1278460800,Sugarfree...,\"Be careful not to eat to', '199,B0028C44Z0,A3U94LRA4I8YAL,\"Brenda Woodward \"\"love to read\"\"\",2,3,5,1265932800,Tasty!!,These mint', '200,B0028C44Z0,A1WTXY4MW3YDF2,Gordon,0,0,5,1344729600,These mints are awesome!,This is a huge supply', '201,B0028C44Z0,A1UF2VN3O50NGW,Lou,0,0,2,1330819200,Altoids Smalls,\"Even with small containers, they ', '202,B0028C44Z0,A3VAYCK681VZZO,Optimus,0,0,5,1320710400,Love these! And reusable containers,\"I love, ', '203,B0028C44Z0,A3TIC20I6XI297,dog lover,0,0,5,1320451200,Altoids,Received as shown. My mother in law', '204,B0028C44Z0,A2Q8F5N7HQXWDW,Bell Girl,0,0,4,1316908800,A huge hit at the office!,\"I keep a case of', '205,B0028C44Z0,A2RMYCQIST622H,Dan,1,2,5,1322438400,\"Love \\'em, they\\'re great!\",\"The tiny Altoids are ', '206,B0028C44Z0,A27D5IRAIGLOG5,Texan Gal,1,2,5,1271635200,Love these!,\"I loved these Wintergreen Alto', '207,B0028C44Z0,A5F7YR0G7H9HR,Ma J. Vargas Peña,0,1,5,1315180800,fresh!,Fresh scent and taste. Easy t', '208,B0028C44Z0,A2E0MNOYZI00VW,Deborah Laux,1,3,5,1314662400,Wintergreen Me,\"Hard to find the winterg', '209,B0028C44Z0,A3BJ9NS09YGQT5,\"Atl Chris \"\"Atl Chris\"\"\",0,3,1,1314489600,These just don\\'t do it for ', '210,B0009XLVGA,A3S84SEN2Z6DZU,\"EJ \"\"Seayhorse\"\"\",2,2,5,1299283200,\"better than average, more expensi', '211,B0009XLVGA,A2U3Z5S70AE80V,Margaret,2,2,5,1267920000,My cat loves it!,\"I started my cat on Felida', '212,B0009XLVGA,ATHUN0PJ0MG0P,\"R. Cross \"\"LVWolfman\"\"\",1,1,5,1315008000,Great For Fat Cats and Senior', '213,B0009XLVGA,A2LWOW7SO2QPML,JHexatthewheel,0,1,2,1310515200,Nearly killed the cats,\"Too much of a ', '214,B0009XLVGA,A1NHQNQ3TVXTZF,\"Desert Girl \"\"chrissylovesherhusband\"\"\",3,10,1,1220227200,CHANGED FOR', \"215,B002TDK0VK,A3FU8FVBZ8ZODD,D. Anthony,0,1,4,1320796800,Best by the case,Don't buy just a few of t\", '216,B002TDK0VK,A24HJWXL3LHULM,scott Smith,0,1,5,1289865600,Looking for a different flavor?,I order t', '217,B002TDK0VK,A3GRP8QRFGDH8T,Technically Proficient,1,4,1,1296086400,Price cannot be correct,\"Hey, ', '218,B0040WAG7Q,A19SDJ2TSSL8HI,K. McGee,0,0,3,1347667200,More Hot/Spicy than McCormick\\'s Brand,\"My hu', '219,B001EO5ZMO,AW497M5SEXAPQ,Neal Pollack,5,5,5,1266105600,Ahmad Loose Imperial Blend Tea is great f', '220,B001EO5ZMO,A3KQ1480MHXXCW,M\\'ville,3,3,5,1272412800,Nice tea,\"I love strong, full bodied quality ', '221,B001EO5ZMO,A8D27L5Q5BLRC,K. Kwan,0,0,5,1350864000,A fragrant tea,\"I drink this tea plain (withou', '222,B001EO5ZMO,A1C5SHU81SRARN,Sophia T,0,0,5,1310688000,Best Ahmad Tea,\"I\\'ve tried a variety of Ahma', '223,B001EO5ZMO,A3JP1UJAF8YY0F,Irish Stu,0,0,5,1308009600,My favorite tea,\"I have tried literally doz', '224,B001EO5ZMO,A8XEEORIXJNZL,Joseph Emmanuel,0,1,5,1330819200,Best tea ever!,This is an excellent te', '225,B001EO5ZMO,A3A4GAPXRX5SHM,markiz,1,3,2,1282435200,Not a real tea,Herbal additives in this blend ', '226,B001SATU8E,A1CR1DS15Z7XO1,Tiff D,0,0,4,1264377600,DELICIOUS,\"Makes a tasty, super easy meal, fas', '227,B007JFV6RK,A2WQBT7RS1HSSU,\"Wade Jackman \"\"wpjackman\"\"\",1,1,5,1346025600,Best Bloody Mary mixer,\"', '228,B007JFV6RK,A3LCMQ815MBJW9,Patty,1,1,5,1338163200,The Best,\"Might be a little spicy for some, but', '229,B007JFV6RK,A2UC5JUVHIF80L,Abendago,1,1,5,1334016000,Mcclures bloody Mary mix,Took me one or two ', '230,B001L4ELRW,A1AK335P17JXL0,Victoria Brown,0,0,1,1345593600,Not Good,This candy is not as describe', '231,B003SO503C,A2ODZ3CH8PMYTL,Nanette,0,0,5,1347235200,Love this tea!,\"I started drinking the power ', '232,B003SO503C,A3OXRFCJI67IMN,Bold Consumer,0,0,5,1333843200,Really Nice Taste!,\"I\\'m trying several ', '233,B003ZFXJDW,A2HL6876LDPJIM,flageolet,0,0,5,1343692800,just give me some watermelon and citron sea', '234,B003ZFXJDW,A2KPPGFMPD20M6,Linda Albert,0,0,1,1343692800,Furniture Polish Taste,\"Terrible! Artifi', '235,B003ZFXJDW,AJ94Y22SUFCGU,Gwenhwyfar,0,1,5,1303257600,Big tub o\\' salt,\"These things are huge! I l', '236,B001HTL6CY,A1KLA02LZXAT46,Dandelion,0,0,2,1302307200,\"Taste is neutral, quantity is DECEITFUL!\",', '237,B000WFRMRW,A2GN6W82DZNUN8,jackman,0,0,5,1341878400,Eukanuba puppy small breed dog food,\"This is ', '238,B000WFRMRW,A3Q7QBDSAZ670I,B. Barnett,0,0,4,1331251200,High Quality... But it gave my dog wicked ', '239,B001EO5ZME,AF72GTWZGAC61,Pinkhat,0,0,5,1330387200,Great tasting green tea and such a great deal.', '240,B0093NIWVO,A1JT114SOITFFO,Dan & Eileen,0,0,5,1350691200,OMG best chocolate jelly belly,\"Fresh,a ', '241,B001EO5ZMY,AF72GTWZGAC61,Pinkhat,3,3,5,1330732800,Excellent loose tea.,\"If you like the Ceylon t', '242,B001EO5ZMY,AOSK1PLKNT64,Mrclouky,1,1,5,1323820800,Good anytime hot tea,\"I\\'ve been enjoying this ', '243,B001EO5ZMY,A1DAHZRJTX5X1Z,Erfan,1,1,5,1302739200,My everyday cup of Tea,\"Hi, I have to have blac', '244,B001EO5ZMY,A7WE8ZWEJG34E,Kapitoshka,2,3,4,1272499200,This is what you get in the store,I have tr', '245,B001EO5ZMY,A1W4LZ4VZDF29Y,\"Guy S. Painter \"\"gspainter\"\"\",0,0,4,1275091200,Ahmad Tea,Ahmad Tea is', '246,B001EO5ZMY,A3E81HFGNME65J,suave,1,9,2,1245456000,Disappointed,\"I\\'ve been drinking this tea for t', '247,B007TFONH0,AMRNVZKWF6519,confettissimo,1,1,5,1338508800,Wonderful!,\"I love love love this deal -', '248,B007TFONH0,A10IFYN5U6X20R,onemagoo,0,0,5,1350172800,Best way to buy kcups,\"Once you\\'ve tried som', '249,B007TFONH0,A3ICO2ROSXHIPM,tightwad,0,0,5,1340755200,delicious,good products and fast shipping eq', '250,B000GGKQSO,A1OE23J37ZPDXE,Donald Edward Liberman,0,0,5,1270944000,keeps you out of the dentest c', '251,B007J32WX4,A3957BBBNL1TLJ,Susan Hannon,2,2,5,1334361600,Super!  SuperFoods are Super easy!,\"WOW!', '252,B0017129DC,A2EPNS38TTLZYN,tedebear,0,0,3,1312675200,Pok Chops,The pork chops from Omaha Steaks w', '253,B0002567IW,A1SSKFPX72MSMR,\"Janna M. Sicard \"\"missjanna\"\"\",0,0,1,1344556800,Sad outcome,\"Five min', '254,B0048IC328,ATY9Z65HYE0W6,mrsmaverick,0,0,4,1346889600,Best Energy Shot For Me,I am chemical sens', '255,B0048IC328,A1W867A8DSHFHC,no name,1,3,1,1339804800,Don\\'t Waste Your Money,\"I felt energized with', '256,B0048IC328,A375ZA7IJH2ZGQ,Jihan S.,3,7,2,1317772800,\"If you can\\'t handle caffeine, this is not f', '257,B0025WIAN0,A2WT4IIHNFJGYT,Diana KD,0,0,5,1347321600,\"Yum, Yummy, Yummier\",\"These Nature Valley N', '258,B00821UN4M,A332AAPB4P75L4,Heather Crimson,2,2,1,1348099200,Reeks like chemicals,\"I so wish I wou', '259,B00821UN4M,A3MQSTAAJSUGF9,mommy11,1,1,2,1345161600,Disappointed!,\"This product has a strong afte', '260,B00473RWXY,AE508CW7ON3EP,armommi,0,0,5,1348444800,Great for Gluten-free lifestyle!!,\"Had this sh', '261,B002MV23XM,A2M6O8YORUA8PW,Shirley Sacks,1,1,5,1337040000,my dog loves these,\"These are healthy a', '262,B002MV23XM,AQ7QJ1GWE2BSR,\"Alydar \"\"alydar\"\"\",1,1,5,1298592000,YUMMY,\"A great healthy chew for my', '263,B000LKZK7C,A3AER90E4ZWVN6,Al Abubakr Douglas,2,2,5,1196726400,sugar in the raw,\"I really enjoy t', '264,B000LKZK7C,A25YQEBU2FAD3M,Scott Dixon,4,5,3,1295222400,Manufacturing Problems Diminish Product,\"', '265,B000LKZK7C,A1T14KXM4GH14A,Karen Keauhou Chun,6,8,5,1339804800,Good product but terrible agricult', '266,B000LKZK7C,A1H9VU1FACOXLN,LK,1,1,5,1228089600,Sugar in the raw,Love this sugar.  I also get musc', '267,B000LKZK7C,AWJ1Z81HHB0MY,Zots,1,1,5,1217635200,Sugar in the raw,Product is exactly as advertised', '268,B000LKZK7C,A2NP8RNW9T5BQF,A. Brazhnykova,0,0,1,1343952000,Lie!!!!,\"I used to buy this sugar for ', '269,B000LKZK7C,A2JRK3K99168A1,djn,0,0,4,1336089600,It\\'s sugar..,\"It\\'s just sugar in the raw, it\\'s fl', '270,B000LKZK7C,A1L4RDILGM7D9E,Paula,0,0,4,1312934400,Excellent but not perfect,\"This is a delicious ', '271,B000LKZK7C,A2VUB6YYTF234O,Anel Lopez,0,0,4,1302739200,Good product,\"I only use raw sugar, it did', '272,B000LKZK7C,A21BLUM0I2Y3MW,Chipper,0,0,5,1297814400,You\\'ll never use white sugar again.,\"This sug', '273,B000LKZK7C,A1VKNACW03M5H7,Patilo,0,0,3,1296950400,Thanks for the review Scott,\"I thought this wa', '274,B000LKZK7C,A2582KMXLK2P06,B. E Jackson,0,0,5,1296777600,great,I really love this sugar and price', '275,B000LKZK7C,A34HSMRAQY5XKX,\"Nori Silverrage \"\"Nori\"\"\",0,0,5,1285718400,Awesome Sugar!,\"Love this ', '276,B000LKZK7C,AUUWUS51SMMT4,R. Symansky,0,0,4,1260835200,Great product - weak packaging,\"Can\\'t say ', '277,B000LKZK7C,A1YZV2UY0QDZTX,\"Loves to Cook \"\"Loves\"\"\",1,2,5,1253750400,Excellent!,Great service! I', '278,B001D07IPG,A3QN14A5DGUA0U,J. Kraayenbrink,0,0,5,1343692800,Excellent for G/F,\"Please ignore the ', \"279,B001D07IPG,ABHXONN9HSUZI,AmandaEve011,0,0,5,1315353600,Amazing!,Best flavor ever!  I'm addicted!\", '280,B001D07IPG,A3OM7Q1IVAGLUW,Pertigal,0,0,5,1275436800,Very tasty chips!,\"So many \"\"healthy\"\" produ', '281,B001D07IPG,A3BUE5AHX4M0FS,\"P. Clermont \"\"learning God\\'s word\"\"\",0,0,5,1272326400,YUMMY,\"I found ', '282,B001D07IPG,AQX8FF2YCO3J7,\"Little D, Nigel, and Oliver\\'s mom\",0,0,5,1247529600,Excellent Taste,Th', '283,B001D07IPG,A27UE9HJRZ22YI,\"Louie\\'s Mom \"\"Compulsive Reader\"\"\",0,1,1,1280880000,Over priced chips', '284,B000H13270,A3MBRJ5X24GXM9,sadhaka,3,4,5,1283817600,Rotel saves me on a daily basis,\"I use the Ro', '285,B000H13270,A3J6I70Z9Q0HRX,Lindey H. Magee,1,3,5,1261785600,\"it\\'s fabulous, but *not* from amazon', '286,B000H13270,A1YLOZQKBX3J1S,\"R. Lee Dailey \"\"Lee_Dailey\"\"\",1,4,3,1221177600,too expensive,\"howdy y', '287,B000H13270,AVQIRN6E7J7UA,imdebra,0,4,3,1280534400,Not mild enough for me lol,\"Nothing wrong with', '288,B001UJEN6C,A1XM65S80UQ2MD,Joseph Kagan,13,13,5,1276214400,Great Natural Energy,\"This is a fantas', '289,B001UJEN6C,AFUMZHRZJG0H0,Wonder Woman 89,6,6,5,1280188800,I like this stuff,\"I have to get up re', '290,B001UJEN6C,AIW47KAXVTR0X,\"C. Williams \"\"will5927\"\"\",7,8,5,1268092800,Great Energy,I bought these', '291,B001UJEN6C,A1R2P21ZYNJCFJ,\"Mare Laden \"\"Mare\"\"\",6,7,3,1258675200,Not sure,\"I am a energy junkie ', '292,B001UJEN6C,A37AO20OXS51QA,\"Roderic Rinehart \"\"Roderic\"\"\",3,3,5,1311292800,\"The best energy shot ', '293,B001UJEN6C,A3R6W1FEYDNT8V,R. Lewis,3,3,5,1299024000,\"Fantastic, natural energy\",\"I was looking f', '294,B001UJEN6C,A2VBZOK3SVSDWA,Jennifer Gray,3,3,5,1294790400,Way better than Guayaki!,\"I had tried b', \"295,B001UJEN6C,AREOHWLWVX0A8,John Erikson,5,6,3,1259971200,Doesn't taste that good but provides you \", '296,B001UJEN6C,ADWJAJZTHNYN6,D. J. Lawhead,2,2,5,1322697600,Rocket in a Bottle,\"I\\'ve been feeling ex', '297,B001UJEN6C,A3UD9G34YLWVXE,Thezwomann,2,2,4,1322265600,This stuff works!!!,\"The energy shot truly', '298,B001UJEN6C,A2Y4IWY1ZXLXH8,mase310,1,1,5,1335139200,Favorite energy shot and all natural too!,\"I\\'', '299,B001UJEN6C,AHAX3RWULQD6T,Kevin D. Schoeninger,1,1,5,1334793600,natural energy boost,\"If you\\'re l', '300,B001UJEN6C,A2LFHPZFG1OHBZ,Joanna Capello-Paul,2,3,5,1320451200,Best energy shot I have ever tast', '301,B001UJEN6C,A297HRGWRID7I6,Mariza R Barnes,0,0,5,1347321600,The Best,\"I have tried other energy s', '302,B001UJEN6C,AMYAHFQZI19LS,longlivedave,0,0,5,1345680000,Tested by a trucker,I drive OTR...Over th', '303,B001UJEN6C,A28VTF9FQ42SBV,jeremygiesel,0,0,5,1344729600,Good Stuff,\"Products takes pretty good, ', '304,B001UJEN6C,A2H03V8PAZDU9J,LMPGAP,0,0,5,1339200000,Great energy drink without artificial ingredie', '305,B001UJEN6C,AUXHG88OYWCGM,Nicholas Wagner,0,0,5,1333411200,\"Flavor getting better, energy is grea', '306,B001UJEN6C,ATN552TF5V40Z,Lh,1,5,1,1326758400,So awful I can barely describe,\"This is the first t', '307,B003EMU7EU,A3DSWITPB6NBT5,benvenutofam,0,0,4,1287619200,could use only once,\"I loved this mold! ', '308,B0064KOUNI,A215QEI3FPLVXU,\"Carol L. Chmiel \"\"Carol Chmiel\"\"\",0,0,5,1349136000,VANILLA TOOTSIE RO', '309,B003YDP5PA,AAZ084UMH8VZ2,\"D. L. Brown \"\"A Knower Of Good Things\"\"\",3,3,5,1299196800,One of my Fa', '310,B003YDP5PA,AFLLCB3F28N6A,FL-Gal,2,2,5,1320451200,Fantastic!,\"This tri-color couscous is really g', '311,B003YDP5PA,A3T8PIRVS2LX4P,MLadyJ,1,1,5,1305072000,WOW,\"I tried to find israeli couscous in a num', '312,B003YDP5PA,A18RVAXFLALN6E,\"DF \"\"Dinky\"\"\",0,0,1,1343520000,Very Dissapointed,\"The package came wi', \"313,B002X9JNYU,AVPSSODZIDABZ,HELfromBL,1,3,1,1323388800,what quantity is it!,I wouldn't even think o\", '314,B001EPQ0J0,A2RXRKRI8YSQWQ,Susan Toy,0,0,5,1341014400,Very Good Coffee,\"I love ordering whole bea', '315,B001EPQ0J0,A2KADAQBR8NG80,\"Maggi \"\"Mags\"\"\",0,0,5,1290384000,Very Tasty,\"I love this coffee. I do', '316,B001EPQ0J0,A2L3IECPFB956F,D. Alger,0,0,5,1268265600,Excellent coffee,\"This brand of coffee has b', '317,B000O9Y62A,A137DV4YVGWDCR,M. AIMINO,0,0,5,1332460800,Hot!,\"It is hot! I love it, tasty and a lit', '318,B000O9Y62A,A89KN0ADLUNPW,Scott E. Packard,0,0,5,1250208000,Hot and delicious,\"I consume about a ', '319,B00283TPYE,A1SH7OWQ98P6FI,Colleen Clark,0,0,5,1350691200,Swiss Chalet,\"service was great, but I ', '320,B001FB69YY,AJM8UGFV16NS8,dewalt66,0,0,5,1316736000,Oyster Sauce,\"Use frequently as we like to do', '321,B004OYBN7C,AVD1K8KU6Z86U,Jeffrey M. Moisan,1,1,5,1305417600,ABSOLUTELY DELICIOUS!,\"These individ', '322,B000JEHAHS,AJ7Q49CTJ1BOC,24fan,4,4,5,1168473600,Great gag gift,Put this in my husbands stocking ', '323,B000JEHAHS,A2MMFEZ728S1MA,Deborah A. Young,0,1,3,1232409600,arrived FAST,\"I was amazed at how qu', '324,B000JEHAHS,A1GUR2DMGWUIGL,\"Annie \"\"Annie\"\"\",1,4,3,1200182400,Penguin Pooper,Toy was typical qual', '325,B000JEHAHS,A2CU16YU1KEOUY,\"Hurricane Ridge \"\"Chris\"\"\",5,19,1,1168300800,Never Arrived,So we canc', '326,B003VTN95K,A6Y49ZNS6NPN0,Ute H. Bischoff,0,0,5,1345334400,coffee-mate coffee creamer hazelnut,i ', '327,B003VTN95K,A3G467T8H2U4F1,Breanna,0,0,5,1342137600,No broken creamers!,\"These creamers come in 4', '328,B003VTN95K,AKG4UJNVSHHAD,flowergirl,0,0,4,1340582400,Shipped great,\"Even though we are Internati', '329,B003VTN95K,A1J7ZSFU0SO3D4,ck,0,0,5,1336003200,Better Packaging,\"Besides the obvious convenience ', '330,B003VTN95K,A3GLQSR6MTHXGL,Donna Kelly,0,0,5,1330214400,coffee-mate creamer,\"This seller is very ', '331,B003VTN95K,A3KVJ2DVCLO0HB,Gadget girl,0,0,5,1326758400,Perfect for work,\"I purchased these coffe', '332,B007DJ0O9I,A24GM452AKJTT9,AMAZONGURL,0,0,1,1349827200,AWFUL,\"I received the items in a timely ma', '333,B007DJ0O9I,A328TUPI6HYZSF,Maplerise Mom,0,1,5,1336521600,Pop-Tarts Work of Art,\"I found these ne', '334,B00469VSJI,A28D8FT2NNCS2Z,calledoutwithwords,1,1,5,1320710400,\"Yes, this is real excellent coffe', '335,B00469VSJI,A2EVOV2OZBQU53,Explorer777,0,0,1,1336694400,Does not taste very good,\"Taste like it i', '336,B00469VSJI,A1447CDAPZGLYV,SANA AWAR,0,0,1,1326499200,No no,\"Serveice delivery with the seller wa', '337,B002SRAU80,A156LLD3VZJGC2,D. W. Knowlington,0,0,5,1350604800,The king of all seasoning salts.,\"T', '338,B0067LDV66,A1KZ67VEU7CJQ3,Bprice,1,1,5,1345334400,Toasted Sesame oil,\"The order arrived as adver', '339,B0067LDV66,A26EQ8U96JA92T,Jody,0,0,5,1347062400,\"Tasty, tasty tasty!\",\"I like a lot of sesame oi', '340,B000HKYP9A,A2CHZ5Q2EF3IR3,Mommy with an Opinion,2,2,5,1168905600,\"Love, Love, Love These!\",\"Boug', '341,B000HKYP9A,AD5WAUA14YD6N,M. Knapp,0,0,4,1281657600,\"great for eating whole foods, clean with veg', '342,B000HKYP9A,AHMKE1AJEHHS3,\"J. Ponce \"\"MPonce\"\"\",0,0,5,1190678400,Absolutely LOVE IT!!,\"What a GRE', '343,B000HKYP9A,A6VEEE9HOL004,\"Jaime M \"\"Luc\\'s Mom\"\"\",0,0,3,1180224000,Only good for ice,This product', '344,B000HKYP9A,A3JBI5QDS32UEM,J. Foreman,0,0,5,1173484800,Great for teething,\"I loved this product f', '345,B000HKYP9A,AMNCDXFZKL6MZ,C. Lamberts,0,0,3,1173484800,Wonderful idea-difficult to clean.,\"I love', '346,B000HKYP9A,A2B7A8FJBT0HDX,\"S. Nayeem \"\"Hanaa\\'s mommy\"\"\",0,0,3,1171584000,I wasn\\'t that impressed', '347,B000HKYP9A,AEIAXBIMAO9T0,\"Heidi \"\"Hydez54\"\"\",0,0,4,1168473600,Love the Fresh Food Feeder!!,\"This', '348,B00067AD4U,A2OB1BFAEPAYBM,R. C. Wilkins,1,1,5,1207440000,Great Beans!!!,I ordered these for my c', '349,B00067AD4U,A3GT3KCGY9EYF4,Siri J,1,1,5,1198195200,Good stuff!,\"\"\"These are delicious! The chocol', '350,B00067AD4U,A2LYOWC3FC73XK,\"Michael Ekstrum \"\"expresso bean fan\"\"\",1,1,5,1178928000,excellent - e', '351,B00067AD4U,A7DSY3M6P6RG3,taza052007,0,0,5,1181692800,These are the Best!,\"These chocolate covere', '352,B0029OWDAU,A1DTDSL1J6C05F,\"Heartsinohio \"\"Heartsinohio\"\"\",0,0,5,1347667200,Love Love Love,\"Popch', '353,B000SEJ84M,A19Y7MSOR2J7XP,G. Macleod,0,0,5,1258588800,The product is great but the price is out ', '354,B001LMNXFA,ATBV3QRAVD2PJ,\"Michelle L. West \"\"Paisleymll\"\"\",3,3,5,1280361600,Swedish Pearl is not', '355,B001LMNXFA,A226DRVTNFWM28,\"Proud Mom of Two \"\"Bigounets\"\"\",2,2,5,1291680000,Perfect!,\"That\\'s exa', '356,B002J2DO8W,ASIAOU4JW8LUG,K. Gohokar,0,0,5,1331596800,great taste,This is what I was looking for ', '357,B000U9V5AU,A2VOVLKP603R1T,D. J. Brown,7,7,5,1297468800,Taste-tested by a wine maker,\"I bought th', '358,B001SB099M,A2XADCFYDXH7IV,Thomas A. Johnson,1,1,4,1320969600,Excellent Everyday Olive Oil,\"Great', '359,B0041QJSJS,A1KZUXE70GYNGO,talonmedic,0,0,4,1347926400,\"Love Weavers, I am a fan.\",\"I hadn\\'t trie', '360,B0041QJSJS,A221AFCU6AE0QO,Sarah Bowman,3,5,5,1318204800,Make My Day,\"Having always been a strict', '361,B0041QJSJS,A2BAVWMHL130WY,Bruce L. Ishimatsu,2,4,5,1318723200,Treat yourself to the best coffee!', '362,B0041QJSJS,A20B2BU1ZPY9AW,Mr Coffee,0,1,1,1345507200,Bitter,\"A very bitter tasting coffee even w', '363,B0041QJSJS,A2T68P9I05KBFT,Rusy,0,1,5,1328054400,\"Drinking it now, love the latin america \"\"aroma', '364,B00437JI8Q,A2SLZMD0UYRT5X,cat\\'s food,1,1,5,1323993600,GREAT SNACK,\"I like eating these whenever ', '365,B00437JI8Q,A3UM3M6WSUN5BR,S. Smith,1,1,5,1316217600,Best Bar,These are my favorite bars ever. Th', '366,B00437JI8Q,A4TLHOUT1PHTL,Alison,0,0,5,1346198400,Can\\'t find anywhere else!,\"My fiance loves thes', '367,B00437JI8Q,A3DKCBKDEO2GS3,Moviegeek,0,0,5,1338768000,My New Granola Bar,\"I was buying Quaker Oat', '368,B00437JI8Q,A1J87LOAYSMHO9,\"P. Parchman \"\"Savvy Shopper\"\"\",0,0,5,1306368000,Another Husband Favor', '369,B002O3VHXU,A1OIMIM4FHT4IG,\"Jerry Perkins \"\"Nevada Perky\"\"\",2,2,4,1283817600,Price surprise,\"\"\"Na', '370,B002O3VHXU,A3OXHLG6DIBRW8,\"C. F. Hill \"\"CFH\"\"\",1,1,5,1282176000,Very Smooth Coffee - Highly Reco', '371,B002O3VHXU,A2TJG4N8LNJW23,Blythe Dresser,0,0,4,1327104000,A saving grace for Green Mountain Coff', '372,B002O3VHXU,A2129VQGGHR150,Carol C.,0,0,5,1313366400,My favorite,Green Mountain is my favorite br', '373,B002O3VHXU,A1HQV09XG1Z0YW,Joy2talk2U,0,0,4,1305676800,Good Coffee,\"I was looking for a replaceme', '374,B002O3VHXU,A2ZNLPYMZOXLGX,\"Michael Kelly \"\"kelly\"\"\",0,0,5,1299024000,Nantucket blend k-cups,\"One', '375,B0057FTBYO,A5IWYNX8RHRKL,\"J. D. Laughead \"\"jdlaughead\"\"\",0,0,5,1347840000,Fantastic Chicken Nood', '376,B0087HW5E2,A139RTDNMU3WY5,blanket lady,2,2,5,1339977600,Greatest Oil since slice bread !!!!!!!,\"', '377,B003YXWAF8,A212PEJ8E3TS3V,MsMargo,5,7,5,1312588800,Best Ever!,\"Oh my gosh, is this good!  Like m', '378,B003YXWAF8,AS89BWXQRDAMV,crpar,2,3,5,1335139200,Deliciously scrumptious,\"Sir Kensington\\'s did a ', '379,B003YXWAF8,A3OOAICYUJT8EL,Corvette &#34;Terry&#34;,0,0,5,1350172800,Heinz no more!,\"This is ridi', '380,B003YXWAF8,AMN6JEQ31G052,Brandonius,0,1,5,1336521600,This is really good stuff,The tomatoes are ', '381,B003YXWAF8,A35G909LKGM6R1,Jeanjae,1,3,3,1336176000,Disappointing,\"The spicy version of this ketc', '382,B003YXWAF8,A1KQXO716WOOD6,Allison Beegle,7,13,1,1309305600,Waste of money,These condiments are o', '383,B000UXA3L8,A3AEEQSKFVN9NB,waydeps,2,2,5,1313020800,Porcini Mushrooms an excellent product,\"I hav', '384,B000UXA3L8,A25C2M3QF9G7OQ,Comdet,0,0,5,1335139200,\"Excellent flavor, mostly large pieces\",\"I was', '385,B004AVYUOW,A1ZZMVHSLQSE7R,Murdy,1,1,5,1325376000,The Best,\"If you are a peanut lover, these are ', '386,B001ESOQAM,A37RRNHOYQ7JPH,Judy,0,0,5,1323993600,Good for the money,\"The cashews were nice and bi', '387,B001ESOQAM,AQDT2YOPW35IU,Ammers,0,0,4,1319068800,\"not the highest quality, but good for the pric', '388,B001ESOQAM,A2JH47KQUPWVRO,Cashew nutter,0,0,5,1312243200,Fresh - Whole.. perfect,\"I ordered thes', '389,B001ESOQAM,A2609IIYREBZRT,Duchess in Denim,0,0,5,1295481600,Fresh and Tasty,These nuts arrived f', '390,B001ESOQA2,AC8PTTE9SEU9E,T,0,0,4,1234828800,Valentine gift winner,\"I bought these for my boyfrie', '391,B003XT4AV0,A2FZRO46DF0UHN,\"D. Mertins \"\"AUDIOGURU\"\"\",1,1,2,1292630400,Cat won\\'t go near it!,\"My ', '392,B003XT4AV0,A1FERORG6RB1ZP,Darcy,1,1,5,1292630400,Simply WIld Chick & Brown RIce for Cats,Got thi', '393,B001FA1MCO,A1H2R3U6I562W,Charles W Brown,2,2,5,1306022400,Ham Base,This is a great ham soup base', \"394,B001FA1MCO,A30WKTJDBRD5UA,Peg,0,0,1,1347148800,MSG Ham Base,I haven't used the ham base. It is l\", '395,B001ELL6O8,A13T2G4T8LR8XA,First Time Mom,2,2,5,1189296000,Delisious Pancakes,Before I discover t', '396,B001ELL6O8,A72H1W5S6UFMY,\"King of Breakfasts \"\"King\"\"\",1,1,5,1278460800,A Great All Around Mix,I', '397,B001ELL6O8,A1PTPN5SY7C7SW,Leonard Kocurek,1,1,5,1215648000,Great mix,\"Arrowhead Mills Buttermilk', '398,B001ELL6O8,AZ7289G0ILRFF,Stephanie Reid-Simons,1,1,5,1209427200,Perfect mix for egg-allergic!,Th', '399,B001ELL6O8,ALSAOZ1V546VT,\"A Research It Maven \"\"Just the facts please\"\"\",1,1,5,1200182400,Arrowh', '400,B001ELL6O8,A1ORGHJ9LSZB03,\"A. Lehmann \"\"sweetnotes\"\"\",0,0,4,1259280000,Good for Egg Allergy,We a', '401,B001ELL6O8,A1JM25M2PSVPXE,G. Erikson,1,4,3,1186790400,Love the product disappointed in the shipp', '402,B001ELL6O8,A12T0F58OKHCIW,\"fishaholic \"\"hearyeethis\"\"\",1,4,1,1184025600,poor item packaging,This', '403,B001ELL6O8,A2APBHKZCMD6DO,X,0,6,1,1207353600,Awful,\"Just awful!  I thought food was supposed to ', '404,B006CGURWM,A3F5EUYWKVWPJ6,southernboy,0,0,1,1342915200,disappointing,\"Perhaps the worst bottle o', '405,B00250I0EG,A2VJBGSGUC78FB,\"Joy L. Breegle \"\"Joy B.\"\"\",1,1,5,1258156800,Great Healthy Snack,A goo', '406,B000C21OOM,A1T61QP7QHYBRQ,an honest reviewer,6,7,5,1199059200,Sweet and Soothing,\"This is a wond', '407,B003D4O92K,A2KTYAKU1PEVCI,D. E. Leslie,3,3,5,1288396800,minty flavor,\"This is one of the best mi', '408,B003D4O92K,A3K24YL6ORL11F,Calizian,0,0,5,1339545600,Ingredients take about 2 seconds to read,\"Th', '409,B001IZM8A6,AVI998S4IX2Y1,\"Melissa N. Connor \"\"rare maven\"\"\",1,1,5,1257897600,A Fantastic & Healt', '410,B001IZM8A6,A2ANZVA56T7RAG,Patricia,0,0,5,1343260800,Great product,\"I ordered this product at the', '411,B0089PI9OC,ARYNM1E978YX8,Bill,0,0,5,1341360000,Excellent tea!,\"This tea tastes almost as good as', '412,B00061KYVI,A28RMYGO9RGA0K,marilyn,0,0,5,1328140800,french\\'s roast\\'n bags,\"i love this product ca', '413,B00061KYVI,A3JE18D4XD2PYF,pattymelt,0,0,5,1282521600,best roast ever,This is the best way to coo', '414,B00061KYVI,A29ZSRDOYVO735,\"Robert Ames \"\"Spenser_man\"\"\",0,0,5,1264809600,Franch\\'s is the best,It', '415,B003XV5LHK,A197O1VYM9B8A3,LDA,0,0,5,1302307200,Double the pleasure!,\"If you like Oreo\\'s or the O', '416,B005WU7V00,A3UV9TOZW3XXPV,tacoland,1,1,5,1336521600,VERY GOOD! Great taste and easy for a single', '417,B005CFC9XY,A250IZTJ5UN2EI,Ian Harmer,0,0,5,1344816000,An acquired taste!,\"The thing about Marmit', '418,B000SEJ842,A2IJOBHJXEZSS2,mosslake,0,0,1,1312934400,Look elsewhere for your whole grains,\"A vile', '419,B004X8TK8I,A3U2QAY7SVE9AI,W. Smith,0,0,5,1344988800,Hey!,Whats there to say about a fantastic ch', '420,B004X8TK8I,A3GIMXLOEPFJBV,Samuel Spade,0,0,4,1342396800,These are Famous for a reason.,These arr', '421,B004X8TK8I,AMRMK86X3PKXD,R. Thomasson,0,0,5,1337644800,Wow,\"I was not expecting to like these co', '422,B004X8TK8I,A1TYA1IYI3LGUC,John Snell,0,0,5,1335398400,\"God, I love these cookies!!!\",\"They aren\\'', '423,B000G6RYNE,A2NO1TXXS9T0EE,BruteNStones,0,0,4,1335398400,Hard,\"Great if you are cutting back on f', '424,B000G6RYNE,A1IRN1M05TPOVT,\"Sharon M. Helfand \"\"Scrapper\"\"\",0,0,5,1334620800,Kettle potato chips:', '425,B000G6RYNE,ARONI7W0W677H,Peter N,0,0,5,1334275200,\"Fresh, Lightly-Spiced, Crunchy Kettle Chips. ', '426,B000G6RYNE,A1Y3XPZK9ZADFW,albinocrow,0,0,4,1334016000,glad to find them in 1 oz size,\"I buy most', '427,B000G6RYNE,A1Y3XPZK9ZADFW,albinocrow,0,0,4,1334016000,\"pretty good, could be better\",Glad to fin', '428,B000G6RYNE,A1ELZC3WXWILX2,B. Carter,0,0,5,1333670400,a slight taste of jalapeno,\"one of the best', '429,B000G6RYNE,A1X5RAIMX4ZSLJ,BadPotato,0,0,5,1331856000,Best chips ever,\"The title says it all. Gre', '430,B000G6RYNE,A1IRN1M05TPOVT,\"Sharon M. Helfand \"\"Scrapper\"\"\",0,0,5,1331078400,Kettle potato chips:', '431,B000G6RYNE,A1S8ELUE383P8E,\"John F. Peters \"\"John Peters\"\"\",0,0,5,1330905600,Ridiculously Good,\"I', '432,B000G6RYNE,A2OEUROGZDTXUJ,J. Graves,0,0,5,1327881600,Delicious!,\"Now, I haven\\'t done a side-by-s', '433,B000G6RYNE,A17V3UVYMI69TE,Patrick Tran,0,0,4,1327363200,PUCKER UP,\"I love Kettle Brand Chips!<br', '434,B000G6RYNE,A22PUBSSNP54L,\"G. Little \"\"value seeker\"\"\",0,0,5,1326672000,I love these chips.  They', '435,B000G6RYNE,A15USNEAJUXOSH,L. Schrank,0,0,4,1326067200,Quite good,\"I enjoy these chips. I got the', '436,B000G6RYNE,A15USNEAJUXOSH,L. Schrank,0,0,5,1326067200,Delicious,\"I love these chips, I buy the 2', '437,B000G6RYNE,A2BLJGGWN8GTXQ,Sean,0,0,5,1325721600,Salty and vinegary!!!,\"These are the strongest t', '438,B000G6RYNE,A1FXCNUVQ6FOMC,suzieg2,0,0,5,1322784000,WOW!!!!,\"I have been ordering the sea salt ch', '439,B000G6RYNE,A926YP1BSD72Y,Shopper11,0,0,5,1321747200,Best gluten-free dairy-free chips,These are ', '440,B000G6RYNE,A33PLZ7SD5MCG0,Patty Kaye,0,0,4,1315699200,A unique flavor for fans of Thai food,\"The', '441,B000G6RYNE,A3EEBE82C3HYRD,David,0,0,3,1304726400,\"Honey Dijon leaves bad aftertaste, NY Cheddar ', '442,B000G6RYNE,A35JPD8Q492FJC,Firefly,0,0,5,1304640000,Yowzah!!,\"For me, Kettle is the best brand on', '443,B000G6RYNE,A391CLP4UMXJQG,Dane King,0,0,4,1300924800,Very good.,Salt and vinegar chips are defin', '444,B000G6RYNE,AYB4ELCS5AM8P,\"John B. Goode \"\"JBG\"\"\",0,0,5,1300579200,Excellent!,\"What I like about ', '445,B000G6RYNE,A2GOE7ITDGYVE,Lee Brownell,0,0,5,1297900800,Tangy goodness.,\"These are so tangy it pr', '446,B000G6RYNE,A19G8B2QYETD7W,NyahNyah,0,0,3,1297555200,Heavy on the Vinegar,\"I usually love Kettle ', '447,B000G6RYNE,A3PZ4AXTY9J1DZ,Jason Ralsky,0,0,4,1295913600,\"A delicious, crisp chip with good flavo', '448,B000G6RYNE,ACFPHOYVB71V4,karob,0,0,5,1292630400,BEST BUY in BBQ Chips,Tried many varieties of BB', '449,B000G6RYNE,A1H80WDFOR94Q5,Injured Panda,0,0,5,1290556800,Love Them!,\"Kettle chis are the best ev', '450,B000G6RYNE,A3Q5YZNYGGUP8W,cppme,0,0,5,1290297600,Crunchy and Tasty,\"These chips have the right a', '451,B000G6RYNE,AKRLMISQPL8QW,B. Sanders,0,0,5,1289174400,Convenience at low cost,\"I subscribed to th', '452,B000G6RYNE,A2MUGFV2TDQ47K,\"Lynrie \"\"Oh HELL no\"\"\",0,0,3,1288915200,An Acquired Taste,\"OK,I did r', '453,B000G6RYNE,A1465JH39KR5O5,persia,0,0,5,1287360000,Best deal ever!,\"This was the best deal ever. ', '454,B000G6RYNE,A1L17QW3R7A519,The Boom,0,0,5,1281571200,Yum!,My husband and I LOVE these chips! Pers', '455,B000G6RYNE,AOSFLVLMAG0N5,\"Gloria E. Clements \"\"thistle809\"\"\",0,0,5,1266710400,Barbeque perfectio', '456,B000G6RYNE,A2H2Q5RW1K56AI,a Thai living in MN,0,0,5,1263945600,Excellent Thai-flavored chip,\"I w', '457,B000G6RYNE,A13VD7TJDWVOEC,Deborah E. Bumpus,0,0,5,1258329600,Best Kettle Chips!,\"As a profession', '458,B000G6RYNE,AKKQKYX8ODUAF,\"Jordan B. Sanders \"\"Vortigern Trygil\"\"\",0,0,5,1258070400,The Supreme S', '459,B000G6RYNE,A3RB0YBBYGXBYE,\"Matt C. \"\"Mattman\"\"\",0,0,5,1256083200,Delicious as always!,\"Oh, I lov', '460,B000G6RYNE,A3492ZW10B65ON,\"P. Young \"\"Sugahplumm\"\"\",0,0,5,1250640000,OooH Yummy!,\"I LOVE these c', '461,B000G6RYNE,A2ZEFDVX4X5TPX,\"Thomas A. Roberts \"\"tomrgalvtx\"\"\",0,0,4,1249430400,Not quite the best', '462,B000G6RYNE,A2MMTWKCJET6S,T. judy,0,0,4,1245110400,want to gaain twenty pounds with no control wh', '463,B000G6RYNE,A3RMGIKUWGPZOK,Jean Visnefski,0,0,5,1245024000,One of Their Best Flavors,\"Kettle Chip', '464,B000G6RYNE,A1E2Y40TTPL8YK,EJH,0,0,5,1244678400,Love these chips!,\"We bought these chips at a lit', '465,B000G6RYNE,A56JFSLUCHI4J,\"Chi \"\"Who loves to find bargains and lives a g...\",0,0,5,1237334400,Hi', '466,B000G6RYNE,A1DW1FK1H3F2TM,EuReka,0,0,5,1231977600,These are AWESOME!,These are some of the best ', '467,B000G6RYNE,A3PJZ8TU8FDQ1K,Jared Castle,0,0,5,1231718400,\"One bite and you\\'ll become a \"\"chippois', '468,B000G6RYNE,A3PJZ8TU8FDQ1K,Jared Castle,0,0,5,1231718400,\"Crunchy, salty, sweet...finally, a Supe', '469,B000G6RYNE,AU3VZDTQH0J4M,C. Charles,0,0,5,1231545600,These chips make me weak at the knees,These', '470,B000G6RYNE,A3B0HXAUWCLSZO,MisterStorm,0,0,5,1221436800,By far my favorite chips,\"These are by fa', '471,B000G6RYNE,A17UR3NRLARXCH,\"W. Muckelroy \"\"Chawk68\"\"\",0,0,4,1221091200,\"Good chips, more cheese\",', '472,B000G6RYNE,A31N6KB160O508,Fran W.,0,0,4,1219795200,Pretty good tasting chip,It took a while to g', '473,B000G6RYNE,A339FKUBFG0VLX,the Poodle,0,0,4,1217376000,Yummy chips,\"These are delicious.  The 2 o', '474,B000G6RYNE,A3MLESXA2VGWJC,CV,0,0,4,1217376000,Best sour cream & onion chip I\\'ve had,\"I recently ', '475,B000G6RYNE,A3UCO7B9HP42BG,Denise Graner,0,0,5,1217203200,Great chips,\"We are always pleased with', '476,B000G6RYNE,A1DOBB5XZ1KMZ5,\"A. M. L. Hentz \"\"AnneMarie\"\"\",0,0,5,1217030400,Fabulous!,\"These chips', '477,B000G6RYNE,A3I96LKK3S15D0,\"R. Wheeler \"\"Pryd\"\"\",0,0,5,1215993600,Box-o-Chips,\"These chips were a', '478,B000G6RYNE,A2LS9RBSI8SDZF,Ashish Shah,0,0,5,1215475200,fantastic!you can not beat this taste and', '479,B000G6RYNE,A324FVIOYCWNSB,\"Eric BVD \"\"Eric\"\"\",0,0,4,1215302400,An addictive potato chip,Eat at y', '480,B000G6RYNE,A1RRHET1QIP1YK,Daniel Hill,0,0,5,1215302400,Great Chip!,\"I don\\'t eat many chips, but ', '481,B000G6RYNE,A12OF4IM7A8YS,\"Norman Tang \"\"Amazon Norman\"\"\",0,0,5,1215216000,\"Excellent balance of ', '482,B000G6RYNE,AUHS7PQNAHNDI,\"C. Graube \"\"pup friend\"\"\",0,0,5,1215216000,Yum,Bought this box of chip', '483,B000G6RYNE,A26ONAQEIUEMV4,\"Dolores Swan \"\"Swannie\"\"\",0,0,5,1215129600,Very good chips at a great', '484,B000G6RYNE,AOHRHPJP38LLT,\"S. Samoranos \"\"Inspired cook\"\"\",0,0,2,1214784000,70% of the chips in t', '485,B000G6RYNE,A1AXXMJQ3NDIFK,Barbara A. Puckett,0,0,5,1214697600,Great chips!,For some reason Amazo', '486,B000G6RYNE,A31N6KB160O508,Fran W.,0,0,4,1214006400,Not bad but a little hard to get used to,\"My ', '487,B000G6RYNE,A31N6KB160O508,Fran W.,0,0,4,1214006400,Firm quality chip,\"Just got this order and it', '488,B000G6RYNE,A1WQ3UGXPT15VI,\"JavaJewel \"\"It\\'s all  water under the bridge...\"\"\",0,0,2,1213920000,N', '489,B000G6RYNE,A1B05INWIDZ74O,M. A. Ramos,0,0,3,1213142400,Prefer other flavors,\"I took one and said', '490,B000G6RYNE,A1B05INWIDZ74O,M. A. Ramos,0,0,5,1212451200,These will be habit forming!,\"I took one ', '491,B000G6RYNE,A3TEMXOLE1APPZ,\"A. Nichols \"\"upteeajn2\"\"\",0,0,2,1210809600,Good and tangy,\"I agree wi', '492,B000G6RYNE,A2OAYIM13WIXCH,\"Mary D. Haper \"\"Gramma to 3 boys\"\"\",0,0,5,1206662400,the best chips e', '493,B000G6RYNE,A2BFFXK7TEINBE,Paul D. Ossman,0,0,5,1203638400,I do not even like kettle chips and I ', '494,B000G6RYNE,A3N9DN0V2YXAXA,musicalcharge,0,0,5,1203638400,You have to love sea salt and vinegar a', '495,B000G6RYNE,A2C5BWOM7329UD,Jason T. Stevens,0,0,5,1203465600,Addictive,\"These are the best potato', '496,B000G6RYNE,APGAA43E3WPN7,Darren,0,0,5,1201392000,amazing chips,\"i rarely eat chips but i saw the', '497,B000G6RYNE,ABR7HU5H1KNE,Keith,0,0,5,1196726400,Best Chip Ever,\"This is easily the best potato ch', '498,B000G6RYNE,AJQD2WWJYOYFQ,bubbles,0,0,4,1186617600,\"Tangy, spicy, and sweet- oh my!\",\"Kettle Chip', '499,B000G6RYNE,A16YH487W9ZYO0,Bruce G. Lindsay,0,0,4,1184198400,An indulgence with a bite,\"Okay, I s', '500,B000G6RYNE,A83YQC1XOU4CS,J. Baker,0,0,5,1183420800,The best I\\'ve had,\"I don\\'t write very many re', '501,B000G6RYNE,A2LGWBIT9WCTVA,D. Gesswein,0,0,5,1173312000,Excellent chip!,\"I bought these for the o', '502,B000G6RYNE,A3TX8RH943OLBM,annie,3,5,2,1214006400,salt and vinegar chips,It was a great value and', '503,B000G6RYNE,A3L4OZ0U0A5UDH,Linda Mullings,1,2,5,1349136000,Delicious!!,Perfect!! They are my favo', '504,B000G6RYNE,A2OEUROGZDTXUJ,J. Graves,1,2,4,1327968000,I like them.,\"Amazon\\'s suggestion for a 4 s', '505,B000G6RYNE,A30H2335OM7RD6,\"apoem \"\"apoem\"\"\",1,2,5,1316649600,Love Kettle Chips,\"These are a favo', '506,B000G6RYNE,A2SYKMR242D0X6,Summer,1,2,5,1292544000,Best unsalted chips,These are the best unsalte', '507,B000G6RYNE,A27YPCR3ZXWVFE,Tiny Tim,1,2,5,1287792000,So Delicious...Yet my companions wont touch ', '508,B000G6RYNE,A39Y59C6FTC0GL,Christine,1,2,2,1247788800,\"Love Kettle Chips, but not this flavor!\",I', '509,B000G6RYNE,A3I5AT1101AS3A,Nikolette Tripp,1,2,1,1233360000,Maybe the worst chips ever.,\"These ar', '510,B000G6RYNE,A22LENLDTGQIU7,R. Yamaoka,4,7,1,1252713600,Surprise 1  It\\'s different...,\"Kettle chip', '511,B000G6RYNE,A2ZCD6KO2YY9IZ,A. Crawford,2,4,5,1200700800,Tasty,Great price for an excellent chip. ', '512,B000G6RYNE,A2C18CH1YC6BYT,Sophie,0,1,4,1314403200,Crisp,\"I love these chips, which is why I boug', '513,B000G6RYNE,A2M8JQ3AME7878,\"Tom Z. \"\"tzphotos.com\"\"\",0,1,3,1297036800,Vinegar... Not my taste!,Th', '514,B000G6RYNE,A3B6TOEXSQVO24,\"S. brown \"\"shiney lady\"\"\",0,1,5,1292457600,spicy thai chips,\"TOTALLY ', '515,B000G6RYNE,A16S0NQ3MWJXFL,ObsidianGT,0,1,5,1291248000,\"Delicious, what else did you expect?\",\"Se', '516,B000G6RYNE,A1UM73T71CFPSY,Rich,0,1,5,1291075200,Great Value,\"Despite coming in an extremely larg', '517,B000G6RYNE,A38KP1POQ191WT,\"Judy Schinske \"\"Veronica\"\"\",0,1,1,1279065600,\"I have had better \"\"Jal', '518,B000G6RYNE,A1AVLKAXW55QQA,M. Simpson,0,1,4,1264982400,Spicy but good,\"If you like spicy, then th', '519,B000G6RYNE,A2DQBXU2LEVWWA,V. Lowe,0,1,3,1261699200,boulder salt and malt vinegar chips are way b', '520,B000G6RYNE,A4NDPXCYKRCY2,Janet R. Miles,0,1,2,1258588800,POTATO CHIPS,\"Being a salt-free product', '521,B000G6RYNE,A3TK2IOP8UQ087,\"Alabaster Jones \"\"perpenhopher\"\"\",0,1,5,1255219200,\"Lightly Salted, H', '522,B000G6RYNE,AYBYYDVV5ABJE,retrodog,0,1,3,1251244800,Too Much Flavor,\"These things are just too da', '523,B000G6RYNE,A3MFU0GVZUVH3K,\"Betty L. Dravis \"\"BETTY DRAVIS, author/reviewer\"\"\",43,47,5,1207094400', '524,B000G6RYNE,A27C44BIRQH3QW,Stan Miastkowski,13,15,5,1185580800,The Best Chips...PERIOD!,\"You don\\'', '525,B000G6RYNE,ACYR6O588USK,\"\\'  Groovin\\' guy \"\"music historian\"\"\",14,17,5,1200614400,Delicious Extra', '526,B000G6RYNE,A13SOXNMWXQVNU,ClickmeClickme,4,4,5,1231632000,Chip snob alert!,\"It feels strange to ', '527,B000G6RYNE,A1MFG9E45RX5OW,dolphins,4,4,5,1202688000,Best Salt & Vinegar!,I have tried a lot of S', '528,B000G6RYNE,A2L9028WTVFL1I,James J. Bell,11,14,5,1174694400,Gourmet powerful Salt & Vinegar chips', '529,B000G6RYNE,A1BXG0K7UD9CTD,\"MicTrik \"\"mictrik\"\"\",20,27,1,1254009600,They changed the Chips now th', '530,B000G6RYNE,AY1EF0GOH80EK,Natasha Stryker,3,3,5,1327708800,Do not miss the salt!,\"Someone brought', '531,B000G6RYNE,AWLK6NSSV0YNA,Midwest Mommy,3,3,5,1234915200,Great deal,These Backyard BBQ Kettle Chi', '532,B000G6RYNE,A15U6JW86FB9OV,P. Bangera,3,3,5,1214611200,Best Chips out there!!!,\"I have tried Herr', '533,B000G6RYNE,ALCKGM3XF391,Dustin J. Fender,0,1,4,1220140800,\"Great price, but not as tangy as I ex', '534,B000G6RYNE,A1LERBW69A3FDS,Jeanne Luster,0,1,3,1214092800,burnt,These bags had a lot of overcooke', '535,B000G6RYNE,A3CN9CCJUNIPKT,DJ Joe Sixpack,0,1,3,1184198400,\"Gaaak!  An \"\"extreme\"\" potato chip...', '536,B000G6RYNE,A3P8OWYR65G9UF,M. Martin,3,6,2,1285200000,Kettle Chips,\"Got these Kettle Chips Sea Sa', '537,B000G6RYNE,A2EMS62FCYODRS,Thel,1,3,5,1337385600,\"Absotively, Posilutely Delicious\",\"Chilling in ', '538,B000G6RYNE,A18VDAH788BOAC,Geeb,1,3,1,1331856000,Gone down hill,\"When originally produced in Engl', '539,B000G6RYNE,A2NI99G9BANORP,cgoldsmith19,1,3,1,1328572800,completely ripped off,after opening nume', '540,B000G6RYNE,A2A1XYSB692L6J,\"Patricia \"\"A Reader\"\"\",1,3,5,1309046400,C H I P.....C H I P.....H O O', '541,B000G6RYNE,A3RMGIKUWGPZOK,Jean Visnefski,1,3,3,1245024000,Not the Best,\"These chips are okay.  P', '542,B000G6RYNE,A2TN9C5E4A0I3F,Jimmy,4,8,1,1285632000,STALE.  Beware buying these on special!,\"I\\'ve b', '543,B000G6RYNE,A2LN5DDGT21310,\"A. cotton \"\"CaramelCandy1978\"\"\",2,5,4,1208995200,THESE ARE VERY GOOD,', '544,B000G6RYNE,A3GJQ3W0T0KWEO,\"tatcol \"\"tatcol\"\"\",0,2,1,1328918400,USED to be my favorite chips,\"Ket', '545,B000G6RYNE,A1PGMT8XLL4FPM,TZ1 GUY,0,2,1,1328400000,\"Stale, Rancid Oil Taste, And if You Like Eve', '546,B000G6RYNE,A4XCTURC8URLE,Molly Yarber,0,2,1,1306886400,Disgusting,\"These chips are nasty.  I tho', '547,B000G6RYNE,A21D8LH2CD2EIZ,Tim,1,4,2,1286928000,\"Taste terrible, way too strong\",\"Unless you like', '548,B000G6RYNE,A14SOW889A4TAT,J. Tan,1,4,1,1262044800,Over-fried,I bought this brand as a trial sinc', '549,B000G6RYNE,A6UFSCD6O8JMT,\"qualquan \"\"qualquan\"\"\",1,4,4,1257033600,No salt Kettle chips.,They are', '550,B000G6RYNE,A14HZ5EMD2WCG,\"K. Schoeneman \"\"Grape nut\"\"\",1,4,3,1199577600,Not as good as the Engli', '551,B000G6RYNE,A3ARC3UIY3Z1KQ,\"Patricia A. Cioffi \"\"SHOPPING JUNKIE\"\"\",2,6,1,1238976000,VERY DISAPPO', '552,B000G6RYNE,A2B5OI74EHGVH1,\"Jane \"\"jdeaton2\"\"\",3,8,1,1273017600,dripping in oil,\"I purchased thes', '553,B000G6RYNE,ATZ0P4653KL13,The REAL Radiodude,1,5,2,1284768000,Not so good.,\"If you are looking fo', '554,B000G6RYNE,A2GDBBZMMBX1L,M. Barron,1,5,2,1235001600,Bags O\\' Salt with chips added.,\"I don\\'t know', '555,B000G6RYNE,A35KU4XNOVV194,Carole Niehaus,2,7,1,1215475200,Chips,\"These chips are greasy and tast', '556,B000G6RYNE,A3D7FUBG14QWKX,Linda,0,4,1,1330732800,Garbage,\"Don\\'t waste your money on any of the K', '557,B000G6RYNE,APA1GLNHF6K9H,\"Godess MOM \"\"Goddess MOM\"\"\",0,5,1,1226880000,They\\'re Not Madhouse Munc', '558,B000G6RYNE,A31MZR41SM9JU5,Mye,1,7,1,1288828800,Too SOUR!,\"I love sour food but this one I can\\'t ', '559,B000G6RYNE,A1RUS8VOWCIC28,ComputerGuy,0,7,1,1286236800,AWFUL TASTE,\"Unless you really really rea', '560,B000G6RYNE,A10RJEQN64ATXU,\"Paul Rodney Williams \"\"Higher Lifestyle\"\"\",3,3,5,1188777600,delicious', '561,B000G6RYNE,A2OLJKXJBAYBTY,J. Day,7,9,1,1302307200,\"Kettle has sold out, the chips are horrible n', '562,B000G6RYNE,A3UFRBCC1CSCSJ,mel,7,9,1,1298764800,The bags were damaged with holes and stains.,\"The', '563,B000G6RYNE,AR7TAEEUDHMUB,Kathryn S. Leon,7,9,1,1294272000,Kettle Chips Make Great Mouse Food,\"Af', '564,B000G6RYNE,A320QA9HJFUOZO,Zach Morris,7,9,5,1203984000,orgasmic,\"Kettle Chips are the best potat', '565,B000G6RYNE,A1GBZCL326K4GN,\"GFCFmom \"\"GFCFmom\"\"\",7,9,5,1192406400,A tang that packs a punch!,\"My ', '566,B000G6RYNE,ADS5APY1NKTL4,\"D. Pawl \"\"Dani\"\"\",7,9,5,1175040000,great (hot) new flavor....,\"I am a ', '567,B000G6RYNE,A3ARZW7S96SESC,Lillie Walker,2,2,1,1333670400,HORRIBLE I CANT BELIEVE THIS!,\"Terrible', '568,B000G6RYNE,A2JFHMA59G55MJ,MisterJym,2,2,5,1329091200,Favorite Kettle flavor and a great value!,\"', \"569,B000G6RYNE,AJWLSDYCSQNBL,Imelda'sFetish,2,2,1,1325894400,Kettle Brand Potato Chips - New York Ch\", '570,B000G6RYNE,AG7EF0SVBQOUX,\"WriterGirl \"\"WriterGirl\"\"\",2,2,5,1323388800,My favorite flavor,I am gl', '571,B000G6RYNE,A1FAHUMEJO9S1K,superjoe,2,2,5,1317772800,So much flavor your farts will smell like sw', '572,B000G6RYNE,A3RMGIKUWGPZOK,Jean Visnefski,2,2,5,1252108800,Great Chip!,\"With Kettle Chips, you re', '573,B000G6RYNE,AWM1SL1PYY3A3,Joseph Orellano,2,2,5,1240272000,Awesome and delicious!,\"These are amon', '574,B000G6RYNE,AW11YEHZRZ4D1,The Swatster,2,2,5,1238284800,The only thing I have ever been addicted ', '575,B000G6RYNE,A3PJZ8TU8FDQ1K,Jared Castle,2,2,5,1231718400,\"One bite and you\\'ll become a \"\"chippois', '576,B000G6RYNE,AX7K82LNPVATT,Marc2912,2,2,5,1222992000,Good chips,I bought these when on sale throug', \"577,B000G6RYNE,A2VQWV1HMW99AS,What's4dinner?,4,5,1,1317686400,what happened? the recipe has changed,\", '578,B000G6RYNE,A1Q7A78VSQ5GQ4,\"Nice Lady \"\"a reasonable person\"\"\",4,5,5,1249344000,\"YUM! If you want', '579,B000G6RYNE,AV51MFS5XJXFP,candy lady,1,1,5,1349740800,a good buy,This is a real good product.I lo', '580,B000G6RYNE,A20K6K9TZGX7RQ,Yoli,1,1,5,1349222400,Yoli,I love these chips and now the whole family', \"581,B000G6RYNE,A2A8KWCE8RKB9T,David Glazer,1,1,4,1348704000,Good chips,I don't know what to say that\", \"582,B000G6RYNE,A27GRVH9ZJGXLT,patent_lawyer,1,1,5,1348185600,Awesome,If you're looking at this you p\", '583,B000G6RYNE,A2E74M662DXAAR,\"Randy Hardwick \"\"randyontheglobe\"\"\",1,1,1,1344038400,burns the skin o', '584,B000G6RYNE,A3JJI4J8XAMK5Y,Mark H. Klemme,1,1,5,1338681600,Great chips with very low sodium,\"Only', '585,B000G6RYNE,A1CMTRQCJFV8L3,GLO,1,1,5,1334016000,Kettle Chips,\"I have found this product, Kettle C', '586,B000G6RYNE,A2R9GBWL1CDBN1,Rae K.,1,1,4,1333670400,Spicy Thai,\"When I saw the Spicy Thai chips, I', '587,B000G6RYNE,A3PSJEB2O37G8U,Amazon Fan,1,1,5,1328140800,smiles,\"Smiles... Thank you Lord, for I ha', '588,B000G6RYNE,A2OEUROGZDTXUJ,J. Graves,1,1,5,1327968000,My favorite Kettle Chip,\"These are my favor', '589,B000G6RYNE,A2933AO5D7O1T6,C. Blackwell,1,1,5,1327622400,Best salt & vinegar chips out there!,Sal', '590,B000G6RYNE,A2NO1TXXS9T0EE,BruteNStones,1,1,5,1327536000,Amazing Service,\"Package arrived DOUBLE ', '591,B000G6RYNE,A2II09GQGWOMTQ,\"Brian Nallick \"\"METALMANMN\"\"\",1,1,5,1309478400,Crunchy and spicy.,If ', '592,B000G6RYNE,AQQLWCMRNDFGI,Steven A. Peterson,1,1,4,1306540800,Pretty tasty and decently spiced. .', '593,B000G6RYNE,A24ZV048V7J0MT,\"Murphy \"\"Goldenmom\"\"\",1,1,5,1293408000,Great Tasting Chips,\"After loo', '594,B000G6RYNE,A3L5L1NZIKLSJU,\"E. Demir \"\"emiko\"\"\",1,1,2,1289433600,\"Kettle Chips, Sea Salt\",\"There ', '595,B000G6RYNE,A5U1K1NRQEZW9,\"L. Wang \"\"L. Wang\"\"\",1,1,3,1288310400,Good deal but close expiration d', '596,B000G6RYNE,A216YA3CYXIOGI,lady in the south,1,1,5,1280620800,GREAT TASTING CHIPS,\"This is the se', '597,B000G6RYNE,A20FQULBVVWA8B,\"L. Ljunghammar \"\"Eclectic Scout\"\"\",1,1,5,1266796800,\"Buy These, Eat T', '598,B000G6RYNE,A1LFB8KRBI9IE2,\"Kenneth Holmes \"\"flippper60\"\"\",1,1,5,1257206400,Eating them for years', '599,B000G6RYNE,A2N10M1J3KJZK4,MT_Soul,1,1,5,1249084800,These chips will make you fat,But you will en', '600,B000G6RYNE,A3NXBP212KFH5X,Andrew D. Vorrath,1,1,5,1246406400,Like Spice? Get these,\"These are th', '601,B000G6RYNE,A3RMGIKUWGPZOK,Jean Visnefski,1,1,5,1245024000,Fantastic,\"I\\'ve eaten other brands of ', '602,B000G6RYNE,A3PM9DMVYG9HDK,\"Yuni \"\"nut_stud\"\"\",1,1,5,1242259200,\"Sweet, salty, tangy: the way a s', '603,B000G6RYNE,A3PJZ8TU8FDQ1K,Jared Castle,1,1,5,1237075200,\"One bite and you\\'ll become a \"\"chippois', '604,B000G6RYNE,A3PJZ8TU8FDQ1K,Jared Castle,1,1,5,1229385600,\"One bite and you\\'ll become a \"\"chippois', '605,B000G6RYNE,A2TMSO255FQBBU,Brian H. Goldberg,1,1,5,1218758400,Some of the best chips anywhere,\"Ke', '606,B000G6RYNE,A20ORC60J05BP3,M. Novak,1,1,5,1217289600,the defacto standard for Salt and Vinegar ch', '607,B000G6RYNE,AYSEXV27DPQ3E,\"Jilla \"\"Jilla\"\"\",1,1,5,1217203200,Yummy!,\"Tasted good. Spicy. Those th', '608,B000G6RYNE,AX668BUQRHI7C,stephie,1,1,4,1216598400,Delicious!,\"These are seriously delicious, esp', '609,B000G6RYNE,A3MPHBL698EET7,Alex D. Berg,1,1,5,1215475200,\"Lightly salted, yet tasty\",\"This bags a', '610,B000G6RYNE,A1LA5T5SXLGFZQ,\"Halcyon Moses \"\"GoGreenMart&More.com\"\"\",1,1,5,1215129600,YUMMY!,\"Kett', '611,B000G6RYNE,A2YKWYC3WQJX5J,\"Shannie \"\"Shan\"\"\",1,1,5,1212451200,Caution: Kettle Chips are addictiv', '612,B000G6RYNE,A1JBB01LAK69LV,Rubyred,1,1,4,1212105600,The chip with a kiss of salt,\"These chips are', '613,B000G6RYNE,AKMEY1BSHSDG7,J. Arena,1,1,5,1202774400,Crunch. Wow!,\"Not too salty like regular supe', '614,B000G6RYNE,A2F7GUZ4UMVHFL,James Walters,1,1,5,1186876800,Great strong flavor,\"I agree with the c', '615,B000G6RYNE,A3RO3CGZ9MWA1I,L. Cabrera,1,1,5,1178236800,yummy for your tummy,\"The New York Cheddar', '616,B000G6RYNE,A37D5847LN3WQ,Wildcat Fan,3,4,4,1211414400,Best Chips Out There!,These are my new fav', '617,B000G6RYNE,A1GV4HEM6XZC06,Catherine Taylor,3,4,5,1197936000,These chips tasted good,These chips ', '618,B000G6RYNE,ABCXJIXC6Q6EB,Arthur Kang,3,4,5,1194307200,awesome chips,these are the best chips out', '619,B000G6RYNE,A3MTY0ZE9WYJHL,\"Earl M. Rce \"\"ezdouble07\"\"\",3,4,3,1191110400,I dont know if...,I dont', '620,B000G6RYNE,A3E9OJWHMXMYYF,AnneSAHM,3,4,5,1180310400,Delicious!,\"At first I was thinking, \"\"chees', '621,B000G6RYNE,A2PYL0PSX5MQYQ,JS from Maryland,5,7,2,1306281600,Kettle Foods Spicy Thai Chips,\"The S', '622,B000G6RYNE,A2J4K5SCKZH38C,T. Nelson,5,7,1,1297900800,Expired stock,\"I Was sent 3 week past \"\"Fre', '623,B000G6RYNE,ADS5APY1NKTL4,\"D. Pawl \"\"Dani\"\"\",5,7,5,1175040000,these potato chips are yummy....,\"I', '624,B000G6RYNE,AKGQ6RM68SQY1,\"Catherine Diane \"\"CDI\"\"\",2,3,1,1336521600,ONLY awful because SOMETIMES', '625,B000G6RYNE,A3TA1UJWRJF9NC,jschristian44,2,3,4,1283472000,4 Stars for price and taste,\"I got the ', '626,B000G6RYNE,A3M174IC0VXOS2,Gail Cooke,2,3,5,1245024000,\"CRISPY, CRUNCHY, AND ROBUST\",\"We\\'ve long ', '627,B000G6RYNE,A2FVD05Z2FYW1P,J. Silva,2,3,4,1243987200,Tangy and delicious snack,\"For those who lov', '628,B000G6RYNE,A3M2VGWFJGRUOH,Eco-Friendly Interior Designer,2,3,5,1217980800,Best Chip,\"Kettle ligh', '629,B000G6RYNE,A28HKCWJ7YF2AI,Punim,2,3,3,1198195200,Not low salt,\"These chips are tasty but not wha', '630,B000G6RYNE,A36QQYEW0AMJEO,\"Desperado \"\"Ron\"\"\",2,3,5,1193443200,Best Chips I\\'ve Ever Tasted,\"Fant', '631,B000G6RYNE,A1IVFBJA9KAI1M,Shane Martin,2,3,4,1191369600,Tasty!,\"The chips come in a large box wi', '632,B000G6RYNE,A16Q0OV7CIPQC0,Steffanee Holt,0,0,5,1350345600,Love the smaller bags!,My 8 yo is a Ke', '633,B000G6RYNE,A2OL5WLCNZVD9K,nonpareil,0,0,3,1347408000,Things you need to know,\"Yes, they are good', '634,B000G6RYNE,A1I29JSIGJNWKH,\"John G. Edwards \"\"homiedog\"\"\",0,0,5,1347062400,I made a mistake.....,', \"635,B000G6RYNE,A28870VSBU9LDQ,Brian Bean,0,0,3,1344902400,Ok but Miss Vickie's Are Better,Miss Vicki\", '636,B000G6RYNE,A2Y0FKOY6WE0NQ,Meg,0,0,3,1338163200,\"Do they have to \"\"bite back\"\"?\",\"I want to like ', '637,B000G6RYNE,ACJW2YSBG2HA1,i am me,0,0,4,1336694400,These chips are awesome if not best but....,I ', '638,B000G6RYNE,A1J5HHOPXZ6UNF,Chris,0,0,4,1336608000,kettle chips,\"This kettle chips taste \"\"Good , ', '639,B000G6RYNE,A2W1A5GK4A03ZT,\"M. Gonzales \"\"emelgee\"\"\",0,0,5,1336262400,GREAT DEAL,I knew my family', '640,B001EPPFGO,A1RZ4VH27NLDGS,\"Jeremy Morgan \"\"A good book on your shelf is a...\",0,0,5,1334534400,W', '641,B001EPPFGO,ARMHQHFZZII2S,\"Anil \"\"Anil O.\"\"\",0,0,5,1326499200,delicious,\"I bought this tea as an ', '642,B001EPPFGO,AXSDHRCTHLA7V,hans heinsbroek,0,0,5,1322006400,Great well balanced Earl Grey,The tea ', '643,B001EPPFGO,A4RC31AVN5LWJ,\"Zoran Dzeletovic \"\"dzela\"\"\",0,0,5,1309910400,Best Earl Grey ever,\"Pros', '644,B001EPPFGO,AZ2NEHE8TNRUW,prb in California,0,0,5,1295568000,favorite Earl Grey tea,\"After a life', '645,B007F96QQQ,A3TXK9O5IP3CWQ,Evelyn,0,0,5,1339804800,Delicious,\"These biscuits are delicious, not t', '646,B002HQH04O,ATGPKFUEPU3UU,Judith Mariani,0,0,5,1325462400,The best,\"Excellent, lo-fat, lo- calori', '647,B002HQH04O,A2ZP7F2XXKGUCR,S. Block,0,0,5,1309132800,A HUGE Success,\"My male Maltese dog had been', '648,B0025Z7CGI,A36FYX8CUVHD7A,\"J. arroyo \"\"GOLF NUT\"\"\",1,5,5,1323388800,For your Health,This product', '649,B007SESJWC,ADC5ZCN8OLFO1,Gillian B. McArthur,0,0,5,1335052800,Shrimp stir fry,\"Love this with a ', '650,B001EPPCNK,AY1EF0GOH80EK,Natasha Stryker,0,0,4,1349395200,Do not taste from bottle! Mix with van', '651,B001EPPCNK,A2DLQ100P4PBMM,\"Bill \"\"whuebl\"\"\",0,0,5,1298851200,Bavarian Creme Flavor Oil,\"We make ', '652,B002U56JXU,AR1T36GLLAFFX,Scott FS,0,0,5,1330560000,The oldest soft drink is still the best!,\"I\\'m', '653,B002U56JXU,A6GMEO3VRY51S,microjoe,0,0,5,1294272000,Made in Michigan since 1866,\"I like \"\"Vernor\\'', '654,B002BCD2OG,A2ZE5ICI6LWAZ0,\"Debra Schiff \"\"http://hereandthere123.blogspot...\",27,27,5,1259193600', '655,B002BCD2OG,A2LYOW4YW8R2HO,Richard C. Washburn,12,12,4,1292371200,These weigh 46 oz. NOT 46 fluid', '656,B002BCD2OG,A18TQ3KJY1J015,\"P. Ernst \"\"4beanerboy\"\"\",8,8,5,1265241600,Great buy!,First time I\\'ve ', '657,B002BCD2OG,A1Q1AUJ3E43I8G,purple lotus,1,1,5,1288656000,excellent sweetner,\"This sweetner is the', '658,B002BCD2OG,A3U58GFUQAOZLE,Jani Hager,1,1,5,1287100800,Agave syrup,I love this stuff.  It sweeten', '659,B002BCD2OG,AUI3N3A5AYO3M,\"P. Clifford \"\"RN2B\"\"\",1,1,5,1274227200,Sugar Substitute,\"I finally hav', '660,B002BCD2OG,A2V82V20LFSWD7,J A,0,0,4,1347321600,\"Good, but container could be better\",\"I used to ', '661,B002BCD2OG,A3NM3RXJ8HI5TC,C. Gibbs,0,0,5,1344297600,Great stuff!,\"I love using this to sweeten t', '662,B002BCD2OG,AINFLXJIMS32P,\"Timothy L. Tulewski \"\"T. McDonald\"\"\",0,0,5,1342483200,Healthy Sweetene', '663,B002BCD2OG,AQRS0R3YWIMD1,Omar,0,0,5,1341446400,Great way replacing the sugar,\"I really like this', '664,B002BCD2OG,A11QUNPSCNHY62,N. R. Evans,0,0,4,1339891200,Great substitute sweetener,\"We have been ', '665,B002BCD2OG,AAZ084UMH8VZ2,\"D. L. Brown \"\"A Knower Of Good Things\"\"\",0,0,5,1332028800,My Go to swe', '666,B002BCD2OG,A2WUBQNGNGWHG5,Cowgirlhardware2011,0,0,5,1331683200,The Best,\"I love this product! It', '667,B002BCD2OG,A1TQ9QG6ZXLFVV,1catlover,0,0,5,1329436800,YUMMY,\"I have been using Agave Nectar for s', '668,B002BCD2OG,A30GTV8XR6ZGTC,\"R. Pompei Navarre \"\"Bull Runner\"\"\",0,0,5,1326672000,Healthy Stuff,\"Th', '669,B002BCD2OG,A3HZG65Z2BHCT3,Bill,0,0,5,1322524800,Agave Nectar,\"Save a little money buying in larg', '670,B002BCD2OG,A3042WJDYJ22S8,\"Sunny Side Up \"\"CoffeeBuzz\"\"\",0,0,5,1314230400,Sweet success,\"This is', '671,B002BCD2OG,AA83QXB39NF8B,Debra Gifford,0,0,5,1312761600,great product,thank you for this product', '672,B002BCD2OG,AUAXNVACC3MJL,A. Sarich,0,0,5,1311120000,Best price on agave nectar that I\\'ve found,\"', '673,B002BCD2OG,A3IJP7JXMWEPB1,adzam,1,8,1,1308355200,How this could be good?,I am very disappointed ', '674,B00112B9T2,A2CFBLKI8YMK24,Atlantis,0,0,5,1245110400,Best tea I ever had,\"I was out to dinner wit', '675,B000G6MBX2,A1IRCA0BTW0LLD,Smart,4,4,5,1178928000,That\\'s a spicy!,\"If you\\'ve tried the convention', '676,B000G6MBX2,A2UFC8M91UFRX9,\"HH \"\"h_squared\"\"\",5,6,5,1177891200,Who needs salsa when chips taste t', '677,B000G6MBX2,A3QFVEQNX2FQ8P,\"Deja Vu \"\"Angela\"\"\",2,2,5,1261526400,Delicious!,\"These potato chips a', '678,B000G6MBX2,A181BEPNIVQWB1,\"mendomom \"\"mendomom\"\"\",2,2,4,1208649600,Organic yummy chips what more', '679,B000G6MBX2,A1UJ6I72N22HT7,\"S. Andrews \"\"Sunsh!ne\"\"\",2,2,4,1207612800,Very different flavor,\"I lo', '680,B000G6MBX2,A386PFEJWL73X5,L. Hulse,2,2,5,1185062400,These are the best widely available bbq chip', '681,B000G6MBX2,A2MIJOZVTWEXP2,\"TG \"\"Tigris\"\"\",4,5,5,1187740800,My favorite chips from Kettle!!,Just ', '682,B000G6MBX2,A4AYT6I29WTPY,\"Chip Lover \"\"Leisa\"\"\",4,5,5,1158537600,\"Amazing Taste, Best Chip Ever!', '683,B000G6MBX2,A1UDFKEKTO70NX,Tiffany,1,1,4,1245110400,tasty,\"These chips are perfect for snacking w', \"684,B000G6MBX2,A471XPKNUEJGU,Joe133,1,1,4,1219536000,Plocky's Sweet Smokey Chipotle Whole Grain Tort\", '685,B000G6MBX2,A3UCO7B9HP42BG,Denise Graner,1,1,5,1217203200,Yummy chips,\"These are the best chips I', '686,B000G6MBX2,A28A3KLKV22OAJ,C. Young,1,1,5,1215043200,Tasty!,A nice case of chips that are quite t', '687,B000G6MBX2,A1WX42M589VAMQ,Mir,3,4,5,1209686400,So Faboo: Dangerous for those prone to Chips Bing', '688,B000G6MBX2,ARUQJLJBXS88,Karen E. Emanuel,3,4,5,1184371200,The spice will grow!,\"At first you thi', '689,B000G6MBX2,A3MKD1JZEYH8J3,\"P. Werwie \"\"Punchneedle Chick\"\"\",2,3,5,1256342400,The best tortilla c', '690,B000G6MBX2,A1ZH9LWMX5UCFJ,\"K. Stuckey \"\"kateling\"\"\",2,3,5,1202169600,Such an excellent chip,\"My ', '691,B000G6MBX2,AK5DB61C13CN7,Seraxia,0,0,1,1344384000,WRONG FLAVOR - got Country BBQ instead of Chil', '692,B000G6MBX2,A3AIHN7XBD816P,Kathryn Waldrup,0,0,5,1284681600,Great,\"We love these chips. They can ', '693,B000G6MBX2,AWZG8HXBE8PNB,doraima,0,0,5,1278633600,Plocky\\'s Rice and Beans Tortilla Chips,\"I boug', '694,B000G6MBX2,A3QAZDJ7NYH2C6,M. Esmail,0,0,5,1265500800,Huge fan of these chips!,\"I Love these chip', '695,B000G6MBX2,A2OPEDFVLL22TP,\"B Healthy \"\"Healthy eater\"\"\",0,0,4,1256169600,Plocky\\'s tortilla chips', '696,B000G6MBX2,A2M7DO3ICXZWF1,\"Mary K. Herman \"\"Marushka\"\"\",0,0,5,1250035200,Plocky\\'s Three Grain To', '697,B000G6MBX2,A1KTR92SDR33GZ,\"P. Herbert \"\"cal_herbie\"\"\",0,0,4,1248652800,\"Tasty, but make sure you', '698,B000G6MBX2,A1DMR4TXV10JBB,\"A. Chrzanowski \"\"Dwarf Mama\"\"\",0,0,5,1246665600,Don\\'t stop carrying t', '699,B000G6MBX2,A15UN7OK3WRFXE,Rich Wang,0,0,5,1244678400,OM NOM NOM NOM!,\"These chips are delicious.', '700,B000G6MBX2,A31UITXO8QXG3H,Jay M. Clayton,0,0,5,1243987200,delicious and healthy,\"I used to buy t', '701,B000G6MBX2,AQAEOMJX8ON8A,Russell Oelschlager,0,0,5,1241136000,Unique schrumshist and tasty Torti', '702,B000G6MBX2,A4FVWK4UTFQVT,\"Cow \"\"cowguy6\"\"\",0,0,5,1236384000,Music to My Palate,We like Plockys<b', '703,B000G6MBX2,A2D8K0GPVMMSER,\"Yummycheetos25 \"\"LeLe\"\"\",0,0,5,1236124800,yummy!,\"I Love these potato', '704,B000G6MBX2,A2U3DAB0WI8BLZ,Dennis Wright,0,0,5,1230595200,Kettle Organic Chipotle potato chips,Th', '705,B000G6MBX2,A3SV6IWK26XK6B,S. Doubek,0,0,5,1220140800,Best kept secret.,I love this product.  All', '706,B000G6MBX2,ACNON4BZACUUL,\"mommyofchristopher \"\"mommyofchristopher\"\"\",0,0,5,1217030400,Delicious ', '707,B000G6MBX2,A1UDZGQRPFHB5Y,\"Jason G. Godin \"\"Dog lover\"\"\",0,0,5,1215993600,FANFREAKINTASTIC,These', \"708,B000G6MBX2,A2ZCD6KO2YY9IZ,A. Crawford,0,0,5,1214265600,Smokin',Nice amount of heat and smoke. Ve\", '709,B000G6MBX2,A34ZI3K5DNDSNE,Lisa M. Redington,0,0,5,1211673600,really good chips,These chips are s', '710,B000G6MBX2,A1Y1O4GJA3HXQF,\"Jelcy Romberg \"\"Chocolate Breath\"\"\",0,0,5,1210204800,\"Plocky\\'s Tortil', '711,B000G6MBX2,A2TW6FWJYTF8QM,Nancy Walsh,0,0,5,1209686400,\"\"\"Simply THE BEST\"\"\",\"I was first introd', '712,B000G6MBX2,AISIJIUHHZNHQ,\"GG \"\"reading tutor\"\"\",0,0,5,1201651200,Addicted,\"Ok. If you don\\'t want', '713,B000G6MBX2,AC82F5LXJCR22,kimberly,0,0,5,1199577600,Perfect tortilla chip goodness!,\"My husband (', '714,B000G6MBX2,A3I7NZC5LUVPPW,Carolyn Waters,0,0,5,1198886400,These chips are addictive!,\"<a href=\"\"', '715,B000G6MBX2,A14B8M117EUBLK,Shelly Kenyon,0,0,5,1180656000,Best tortilla chips ever!!!,We like the', '716,B000G6MBX2,A228P3VH7SFBHG,J,1,2,2,1219449600,Meh,\"I guess there\\'s no telling what will tickle th', '717,B000G6MBX2,A1AQ2W2R4SOVGN,De Profundis,6,10,1,1195084800,\"The \"\"Organic\"\" Label is Misleading\",\"', '718,B000G6MBX2,A3NCTCNAUYCH6H,jesse girl,0,1,3,1278374400,Kind of Bland,\"These were not flavorful en', '719,B000G6MBX2,ADD87VB66Y0DQ,\"L. Pray \"\"bargainqueen\"\"\",0,1,5,1277337600,Delicious chips,\"Plocky\\'s c', '720,B000G6MBX2,A2GS0QUCV2KVMP,Stephanie J. Myers,0,1,4,1209686400,Broken chips but tasty,I love thes', '721,B000G6MBX2,A1D0P49A1MQO1O,\"JSY9951 \"\"JSY9951\"\"\",0,1,5,1209340800,The best chips ever!!!,\"I recei', '722,B000G6MBX2,A3J6N95DIJTPVH,\"B. P. Mayeux \"\"bpmayeux\"\"\",0,1,5,1203811200,Excellent Tortilla chips,', '723,B000G6MBX2,A3MALNCOVF5COP,Overseas Mom,0,1,5,1203206400,Black Beans Never Tasted So Good!!!,\"The', '724,B000G6MBX2,A1ABDQ02BCIGYQ,HM,3,7,2,1173830400,\"Not, my favorite chip\",\"I did not like these pota', '725,B000G6MBX2,A1KBNKFKAWYV7L,Charles R. Bock,0,2,5,1186704000,Very Timely Delivery,They did a very ', '726,B000G6MBX2,ARLTWKV2AUJ2F,koboilila,1,4,2,1237939200,Very Tasty - BUT BEWARE,\"Long story short - ', '727,B001F33UPI,AGXEFR3PWFEM,Steph,0,0,5,1345939200,Great candy,\"Wonderful candy, hard to find.  I go', '728,B001F33UPI,ACPABFZ8DBLDG,Sonya Milliron,0,0,4,1322438400,Candy,I bought thi9s for my dad for a s', '729,B008BEGP9W,A2L0EIYNODCZ9U,good dog,0,0,5,1346371200,\"cute ,cute, cute!\",\"So surprised to find th', '730,B008BEGP9W,A1MJ0MF2OFIU4D,Chris,0,0,4,1340496000,A Surprising Find,\"I really like the pineapple ', '731,B002U56JXK,A1PIDGL665V5QP,Rod Jonse,2,2,5,1303862400,Unparalleled taste,\"I purchased this 24 pac', '732,B002U56JXK,ASC04R0BT3TO4,\"the BURNiNATOR \"\"raggle fraggle\"\"\",2,2,5,1303862400,Amazing,\"Well bein', '733,B007P2PSKS,AFSFFRR7JMPZ8,Dissapointed,0,0,3,1348617600,a bit on the stale side,\"Expiration date ', '734,B004A8QK98,A2QWGB918P1HU0,Runriverrun,1,1,5,1325894400,Delicious!,This cinnamon cake loaf has a ', '735,B004A8QK98,A2FZE965O64BXJ,Grandma LU,0,1,1,1342742400,Disappointed!,\"Unfortunately having ordere', '736,B001HTKZ5S,ARQ2DJUU4XB1V,Cooking  Mama,2,2,1,1263686400,Perhaps something was wrong with the bat', '737,B001HTKZ5S,A2AF5SS29LC4BB,\"Andrea Zalesakova \"\"AZ\"\"\",1,1,2,1269993600,$4 down the drain,\"Well, I', '738,B001HTKZ5S,A3KJ6JZ8MWERPG,RnnrGrl,1,1,1,1264896000,Big Disappointment,\"I love Cherrybrook Kitche', '739,B001HTKZ5S,A1USXH72S0TD4B,Michelle M. White,0,0,1,1287100800,Worst Frosting Ever,\"This product w', '740,B001HTKZ5S,A1ZE87EABE7FVQ,\"ClaraP \"\"BookHooked\"\"\",0,0,1,1284249600,worst frosting ever,\"I am gla', '741,B001HTKZ5S,A2USOYPY0M1R6X,Colleen,0,0,1,1282608000,Cherrybrook Kitchen Vanilla Frosting,\"I recen', '742,B001HTKZ5S,AOHGLP2W3B3I4,Scott Schrantz,0,0,1,1281312000,\"Do Not Buy This \"\"Frosting\"\"\",\"I can h', '743,B001BB3LW6,A388FLQFOEM0IO,Diana Solomon,4,4,5,1276732800,Dum Dums for all!!,I work in college Fi', '744,B001BB3LW6,A1ZS6CRXGZX4YE,R. Martin,1,1,4,1308182400,Lots of pops!,Well worth the money. I did t', '745,B005Y0DXBO,A21TGZU9EXJ272,mizztanya,2,2,5,1336435200,\"when you have no fridge but want meat, wha', '746,B001LO4ZWI,A1K7OUOZGT6EG3,\"Zak Rudy \"\"muzak\"\"\",5,6,5,1328659200,Anti-Oxidant Smoothie,\"Bear with', '747,B001LO4ZWI,A2M687HYOW9JFW,dream factory,2,2,1,1334448000,Perversion of taste,\"A watered down per', \"748,B000QWXG9O,ANUUF3N6B9NTA,Tabitha,0,0,3,1348185600,Annie's Homegrown Organic Whole Wheat Shells &\", '749,B000Y2EJHY,A7IFA2NZR7YV0,pmen123,1,1,5,1344902400,The flavor of the gods,\"If this flavor lasted ', '750,B000Y2EJHY,A11V8XN8SUHPOV,\"Marilyn Demaio \"\"mumsie\"\"\",5,10,5,1263945600,cuttiest gum of the cent', '751,B004WJAUBE,A2DYZJ8D7QD1KE,Debs,0,0,2,1327536000,\"City Steam, not much steam in this brew.\",\"My h', '752,B0035YE9CS,A3K0UVMET7SEWE,Electric Leaf,10,12,4,1283644800,\"Good soy sauce, but not special. Mai', '753,B0035YE9CS,A2PXWG7EVCNJ9H,Robert,2,2,5,1305244800,What a surprise,\"I watched an episode o \"\"How ', '754,B0035YE9CS,A7H19XVU8BGKB,Robert Ritter,1,1,5,1314489600,Gets My Vote,\"My bottle arrived just in ', '755,B0035YE9CS,A34O62IDVYW7X9,\"Mark P. Stevens \"\"Utard\"\"\",0,0,5,1348876800,And I though kikkoman was', '756,B0035YE9CS,A3GK03NK0A7GHQ,\"J. Lyman \"\"amazon addict\"\"\",0,0,5,1348704000,Better than anything in ', '757,B0035YE9CS,A1MG1L05INR6K,\"ertrstso \"\"furbabies\"\"\",0,0,5,1346371200,Best Soy Sauce Ever!!!,\"This ', '758,B0035YE9CS,A2ZVXWYWGSEIVF,\"Teresa C. Holder \"\"Cook book Gatherer\"\"\",0,0,5,1305072000,Great sauce', '759,B0035YE9CS,AGXFRN1RZKI4J,Earl Hudson,0,1,5,1321228800,Outstanding Product!,\"Saw this on How it i', '760,B0035YE9CS,A1Z1RVRG9CFCB7,taostalk,0,2,4,1343779200,non GMO,most soy sauce is from Japan but the', '761,B006JWQFC0,A2C9XE9I8RSKNX,J. Johnson,0,0,5,1351036800,Amazingly true to flavors...,\"I\\'m pleased ', '762,B006JWQFC0,A1WWAQFIYLCL0Y,\"Richard L. Costello \"\"rbjrev\"\"\",0,0,1,1350259200,IT\\'S A LAXATIVE,\"Thi', '763,B009HINRX8,A3N9477PUE6WMR,patc477,4,4,5,1323302400,Good Tasting cup o\\' joe,\"This is a bold blend', '764,B009HINRX8,ADDBLG0CFY9AI,S.A.D.,1,1,5,1326758400,Best of the Tassimo\\'s,\"We\\'ve tried many Tassimo', '765,B009HINRX8,A1OEL4UZT3KKI4,\"coffee drinker in PA \"\"coffee drinker in PA\"\"\",0,0,5,1344988800,great', '766,B009HINRX8,A39BLB42U7M6BD,James Brooks,0,0,4,1344643200,One of the better T-Discs,\"I have tried ', '767,B009HINRX8,ATNQNZEHWMR9U,Kokopelli,0,0,3,1337385600,Note: Rating both coffee and seller,\"This co', '768,B009HINRX8,A2CAZG1CQ8BQI5,Patricia J. Nohalty,0,0,5,1337212800,Kona for Tassimo,Of all the coffe', '769,B0016J4QKO,A1MEI40LLXKQF6,S. Walton,0,0,5,1348963200,Best wafers,I think these are my favorite c', '770,B001EPPE42,A17PGKUKZB9XD,don,1,3,1,1330646400,Tao of Tea ...!Don\\'t get it,\"This kind of tea not ', '771,B000NF69ZM,A3FVAWZNKW9GX,\"A.Trendl HungarianBookstore.com \"\"What should ...\",3,3,4,1243123200,Pe', '772,B000NF69ZM,A2MSYPB6Z5RWK0,amanda,0,0,5,1340323200,Dad really liked these.,\"I ordered for my dad ', '773,B000NF69ZM,A1USMRT33PBEKJ,DNK,0,0,4,1337817600,Great candy my family loved it,\"Great candy and o', '774,B005YNDIAW,AGE88BOVVQ22J,MJ,0,0,5,1340582400,Yummy!,\"I eat mustard with everything, this is hand', '775,B005MZIJBU,A1SNAYITRIW75P,\"Rizearcher \"\"CrazyAboutReviews\"\"\",0,0,1,1348790400,Horrible .. dont b', '776,B002KXDK48,A3GW42Z2T2K1IF,\"Chuckster \"\"Chuck\"\"\",1,1,5,1266278400,Kleri Tea works great!,This pro', '777,B001FKQQDO,A2TN9C5E4A0I3F,Jimmy,0,0,3,1345161600,Where are the cranberries?,Bought this at a loc', '778,B000WFM204,A2NH6AZFB199O1,DocBeiter,0,0,5,1329955200,Our ferret loves this...,\"Our ferret loves ', '779,B007ZENY5W,AQZ9FQYW60HJ4,Home schooler,1,1,5,1339718400,Fantastic!,\"My son made this.  He didn\\'t', '780,B002ONIVX4,A2AZIBY2PKLW96,LuvBeingAMommy75,0,0,5,1283212800,Great little treats,\"These were grea', '781,B002GUWBMC,A2J0QB01UVSH0Q,Trishelle Duncan,0,1,1,1328400000,NOT edible!,This is NOT Disco Dust w', '782,B0018DQFPC,A2CYNULOBYISAZ,Angel L. Maki,3,3,3,1262995200,speedy shipping,I was very happy with t', '783,B0018DQFPC,A36MP37DITBU6F,\"Enchanted  In  Dixie \"\"Enchanted\"\"\",3,3,4,1247875200,\"My sons 9 & 11 ', '784,B0018DQFPC,AEC3FERY6U28I,BigCityLady,1,1,4,1293408000,Spongetastic!,My son is a SB fanatic so I ', '785,B0018DQFPC,A5EQO6GVEIT4M,lazylana05,1,1,2,1291852800,not as easy as it looks,\"this isn\\'t as easy', '786,B0018DQFPC,A18OUU4I29BU9F,\"Jennifer L. Eidsvold \"\"ShaylaRed\"\"\",2,3,1,1262649600,Not one but twic', '787,B0018DQFPC,A13HTFH4ZY0NCE,NatalieVee,0,0,5,1291161600,Rudolph Gingerbread House,\"I was pleasantl', '788,B0018DQFPC,AAX6FRNBEU9PK,\"Susan Clinton \"\"gammer\"\"\",0,0,4,1289865600,Fun to paint,\"These cookies', '789,B0018DQFPC,A3111G3DOYIV2A,BB,1,2,2,1290211200,disappointment,\"I was disappointed in this product', '790,B0018DQFPC,A3JO81AUCLO2U7,Sara_Aiden,1,2,2,1290038400,Cute Item... but expired!,\"The whole idea ', '791,B000UZMJZO,A2V71J7J3DTB5B,Vehred,2,3,1,1196121600,If I could give a rating under one-star...,\"Th', '792,B000UZMJZO,A31WPNRPB608EC,\"D. Clark \"\"Auroresand\"\"\",1,2,1,1265500800,Horrid,\"If it were possible', '793,B000UZMJZO,A1KG9W0FX5STMR,Emiliy Marino,1,2,4,1209254400,delicious,\"This tea is the best tea i\\'v', '794,B000UZMJZO,AZ3FPU1QSFBC6,annifree,0,1,5,1299974400,I love this tea - to each her own taste buds!', '795,B00285FF6O,A2S244KFX0745K,Alan Edward Creager,3,3,5,1285718400,There is none greater.,\"The best ', '796,B00285FF6O,A2FOXRMJA0T9M7,kupres,1,1,5,1285113600,Caramel chocolate,This is a good quality brand', '797,B00285FF6O,ARXORJX86X1J2,Yvette Mendoza,0,0,5,1327017600,Chocolate heaven,\"My mother and father ', '798,B00285FF6O,A372X206KVOQWQ,\"Isehara \"\"isehara2\"\"\",0,0,5,1326931200,Heavenly Action,\"This is the b', '799,B00285FF6O,A1O4VI7N94CK4L,SpencerMom,0,0,3,1325289600,Great chocolate...,\"Of course, we all know', '800,B00285FF6O,AJTSE4IPHREL4,Aaron De Leon,0,0,5,1315526400,Great item,This chocolate treat is a gre', '801,B00285FF6O,AQ9M45GUGWJ9N,Susan C. Fowler,0,0,5,1276387200,choclate,the first time i ordered this', '802,B00285FF6O,AXXCSX5J1YGEH,Jelly,0,1,3,1335052800,is this serious??? 10 bucks??,Are people really ', '803,B0067R3Q9M,A35RALTOLCAJLH,\"Marie C. Majumdar \"\"Catherine\"\"\",0,0,5,1330819200,Yum!,Low calorie an', '804,B004S0AQHA,A3AV5XEJ25KVF4,\"Castlecat \"\"castlecat\"\"\",9,10,3,1310774400,\"Overpriced, Even on Gold ', '805,B004S0AQHA,A1JYQTN8CN3CY2,JC in ABQ,9,10,3,1310428800,Even at $15 seems a little overpriced.,\"It', '806,B004S0AQHA,A3R66N9FR8HMJ7,Kdpsnake,2,2,5,1311120000,Quick arrival great basket!,Purchased this a', '807,B004S0AQHA,A1ZYO3FOEXVCJS,Catherine Odegard,1,1,5,1312329600,Adorable basket-makes nice presenta', '808,B0030C9A60,A3BH49ZKESHDID,Fred Camfield,1,1,5,1290038400,Specialty party item,\"These small choco', '809,B0030C9A60,A23WVMQ6J7BZ61,B. Rickerd,0,0,5,1334793600,Delicious!,I bought these chocolate liquor', '810,B0030C9A60,A22SF4XQI6LLUS,\"Michael Mcadams \"\"Scout collector\"\"\",0,0,5,1326758400,Chocolate - How', '811,B0030C9A60,A30MMUR0DMHYCG,M. Veenstra,0,0,5,1324771200,chocolate liquor cups,\"Delicious chocolat', '812,B0030C9A60,APNMGFU73W7ZC,Sharon Knibbe,0,0,5,1323388800,Scottie,The holiday liquor cups were exa', '813,B004ET7MG8,AH7LB9HXLYL25,william,2,2,4,1327104000,has a very good flavor,\"strawberry twist has a', '814,B004ET7MG8,A3OXHLG6DIBRW8,\"C. F. Hill \"\"CFH\"\"\",3,4,2,1272240000,Odd Fake Flavor - Not Recommende', '815,B004ET7MG8,A33VG37SOTA0YS,Daxvieor,0,0,3,1345507200,\"Good sugarless gum, with stronger gum for b', '816,B004ET7MG8,AI7W7S3IK45KV,\"Young Professional \"\"Becca P\"\"\",0,0,5,1344211200,Great Gum,I love this', '817,B004ET7MG8,A3THFR9NVPSUIP,D. S. MD,2,4,5,1293926400,Delicious IMO and.... helps weight loss,\"If ', '818,B003AO5DLO,A26HBK5Y0EL8XQ,\"R. Fauvelle \"\"wintering texan\"\"\",4,4,5,1289001600,ROYAL CANIN COCKER,', '819,B003AO5DLO,A1O82ZI2GB22WZ,\"T. Cammarata \"\"TLC\"\"\",2,2,5,1321488000,Perfect for Cockers!,\"My fathe', '820,B003AO5DLO,A228Q0U7S4D88X,Harley Quinn,2,2,5,1314144000,My dog loves this food!,\"Our Spaniel has', '821,B003AO5DLO,A3BEO6VFOO8FRB,AggieSpaniel,2,2,5,1307664000,Great deal!,\"Royal Canin was recommended', '822,B003AO5DLO,A30QZ7UKDUJHBB,\"Olga Kochar \"\"Olga Kochar\"\"\",2,2,5,1304380800,Great food!,This is foo', '823,B003AO5DLO,A20HTVL7JE0JG2,Reginald H. Arthur,1,1,5,1342656000,Buster Loves this dog food,\"I tire', '824,B003AO5DLO,A36D2ED3Q81YEQ,Atheenas,1,1,4,1332806400,Happy Dogs,\"I bought this for my one year ol', '825,B003AO5DLO,A1DYP6HZQ3AGZU,hnryan,1,1,5,1318896000,\"Fast and great service,\",\"fast and great serv', '826,B003AO5DLO,A1SCDZZWN02VVN,Mickey &amp; Moose,0,0,5,1350864000,GOOD FOOD!,\"We are Chocolate Moose', '827,B003AO5DLO,A3IQFDK2A3APGE,SH,0,0,5,1350086400,Happy Dog,My 7 year old Cocker Spaniel loves this ', '828,B0007NG56I,A1HHS1SELWW6NY,Clancey,16,17,5,1242000000,Great way to order,\"My 50lb bag of oatmeal ', '829,B0007NG56I,AMQ8L5JWWDGIA,anon63,12,13,5,1269129600,\"Good quality, delivered on time, human edibl', '830,B0007NG56I,AN808YPCW2C2F,Chef Victoria,4,5,5,1333065600,Rave Review for Rolled Oats,Honeyville R', '831,B001EQ55BI,A3JMLZS0QJCD5N,Mary Swinn,0,0,5,1323216000,Excellent,\"Nice flavor, not too bitter.  W', \"832,B000IXUISS,A212N0TUR007EK,Anshuman Arun,11,11,1,1274745600,Very Different taste from the 'Made i\", '833,B000IXUISS,A19YEVVAPRW51R,Craig Cook,7,7,1,1285545600,Not like other countries Cadbury,\"Cadbury ', '834,B001ELL9X6,A298O68DGTCC48,Anthro Mom,9,9,5,1198022400,Great deal on great tea,\"My first taste of', '835,B001ELL9X6,A2EOU0LXAOMPG,\"Edith Faile \"\"sewcrabby\"\"\",1,1,5,1271289600,Best Breakfast Tea ever,Th', '836,B001ELL9X6,A38OVPNVBVUO9Y,\"T. Burton \"\"Hakalau Tom\"\"\",0,0,5,1349222400,great organic tea at a gr', '837,B001ELL9X6,A397CWU6DM3O5G,ganka,0,0,3,1348617600,\"Mediocre, but cheap\",\"The taste is harsh as it', '838,B001ELL9X6,A2IRN7AVMV5PPL,Louis,0,0,5,1346284800,Delicious and consistently good quality,\"I\\'ve u', '839,B001ELL9X6,A2SSX0VOP3CHZW,\"D. Umeno \"\"discerning consumer\"\"\",0,0,4,1305417600,Nice flavorful tea', '840,B001ELL9X6,ALNSBHX0BCMBJ,afficionado,0,0,5,1300406400,the best tea,\"It always amazes me that the', '841,B001ELL9X6,A2E3Q8U8364F5P,\"Walker \"\"Qzrx\"\"\",0,0,5,1299801600,Great Tea,I hardly ever write revie', '842,B001ELL9X6,A3BXNABYRR66IN,\"Barry Tegeler \"\"Barry\"\"\",0,0,5,1270080000,\"This is a very fine tastin', '843,B000UWSQT0,A1LWILWU3AAFPG,\"Christine Giles \"\"shazzypupp\"\"\",0,0,3,1262304000,not creamy...,\"To my', '844,B000UWSQT0,A1A0JJPS4JAZHI,JJ,0,0,5,1233619200,This caramel is fantastic!!!,\"Having eaten (and re', '845,B000UWSQT0,AHYRTWABDAG1H,\"E. Thomsen \"\"arvig\"\"\",0,0,5,1226275200,Great caramels,\"Although I did ', '846,B000UWSQT0,AL7ASCO6NWTJ6,Aristides P. Caringal,0,0,5,1217808000,Where Has This Candy Been?,This ', '847,B000UWSQT0,A1LO4ME566EKLC,Show Me,0,1,1,1227916800,not for traditional caramel lovers,\"Not my id', '848,B0041CKRJC,A4MPDQF63WAEO,vintage,2,2,4,1324684800,soda,being an old chemist with a spectrophotom', '849,B0041CKRJC,A2EIIDTYMJAEXV,\"Tattletails \"\"Bonny\"\"\",1,1,5,1346198400,Aluminum Free!,\"This baking s', '850,B0041CKRJC,A13G8CNY7VX57F,Poppie,1,1,5,1322870400,This baking soda is the \\'bomb!\\',\"I recently st', '851,B0041CKRJC,A3OFVFM2H4XQPT,naturechef,1,2,3,1347321600,Interesting info about baking soda,\"If you', '852,B0007NG568,A2YPBLSWGVCGVL,\"Thom Reece \"\"Marketing Consultant\"\"\",4,4,5,1278720000,\"Excellent qual', '853,B0007NG568,AEFA52M4MT4H6,rr707,2,2,5,1311465600,\"Good oatmeal, I\\'m on my second bag\",\"I\\'m happy ', '854,B0007NG568,A8AJFY7BX21SS,brewer,2,2,5,1302825600,mm mm oats,\"Product is fresh, good and I\\'m not ', '855,B0007NG568,A2BF7B1EJBMNSY,Vanessa Malone,0,0,5,1319673600,Loved the Oats!!,\"Good quality oats. P', '856,B0007NG568,A1XDNMQMY5PYFZ,\"D. Berghorst \"\"denab\"\"\",0,2,2,1311811200,Funny taste,\"I can\\'t eat the', '857,B000VKYKTG,AYMV2T86WIXVD,Nathan K. Arnold,5,5,4,1220745600,awsome,\"I looooove pocky, got once at', '858,B000VKYKTG,A1PZN8AP463DG,spoiler09,2,2,5,1295827200,Very Happy with Pocky Sticks,\"Of the many pu', '859,B000VKYKTG,A1VMGTCTZUKHV6,Bulldog,2,2,5,1294790400,These are great!,\"Got these for my kids as Ch', '860,B000VKYKTG,A3CFKMOCU5C5UR,M. Thompson,2,2,5,1292112000,I love this snack!,\"I\\'m not sure how you ', '861,B000VKYKTG,A1O9O18AE5HIOL,Sweet Tooth,2,2,3,1283472000,Chocolate was all melt,The chocolate on t', '862,B000VKYKTG,A3UAHFFUHXJ7Z0,Carlos,2,2,5,1259539200,This Item Is Awesome!!!!,\"First of all, I love', '863,B000VKYKTG,A3KTOA1CBPBBC0,Donuts,1,1,5,1308787200,Great tasting snack...if you get the Japanese ', '864,B000VKYKTG,A16V3EN9C3K83W,Sweetiewee,1,1,5,1308700800,Great product,Bought these for my daughter', '865,B000VKYKTG,A32OZFDUK07WLV,\"R. G. Pickering \"\"ritapick\"\"\",1,1,4,1280534400,Delicious,Everyone in ', '866,B000VKYKTG,A1WX42M589VAMQ,Mir,1,1,5,1278288000,\"Fun \"\"popping-crispy\"\" sticks dipped in chocolat', '867,B000VKYKTG,A3EGP5QU70NRKA,S. Srinivasan,1,1,5,1251936000,Yummy,\"Pocky is an incredibly good snac', '868,B000VKYKTG,A3LRR63WLQ3N3O,YOToyo,0,0,2,1351123200,Doesn\\'t taste as it should,\"I think the Pocky ', '869,B000VKYKTG,A35MKC4WRQ8M8F,Grael,0,0,5,1346716800,Pocky!!,Everyone loves Pocky and if they say th', '870,B000VKYKTG,A1C1Y0S6QPBM4W,R. Dzuris,0,0,5,1231286400,Great Buy,\"These where great couldnt stop e', '871,B000VKYKTG,A11VPI6WLMQ2ZQ,\"Lee A. Vercoe \"\"TangSooPap\"\"\",0,0,5,1199059200,Good stuff,\"I had boug', '872,B000VKYKTG,A9T4HGTPSJ27N,Rolland M. Favre,1,2,2,1277596800,Pocky sticks together,The individual ', '873,B000HDMUQ2,A1I985U2CK6R97,\"Steve B \"\"Steve\"\"\",7,8,1,1276646400,Really wanted to like these...,\"T', '874,B000HDMUQ2,A2E3WMF9RWW2X2,K. Duvall,3,3,5,1225670400,\"Good berry flavor, excellent price.\",This ', '875,B000HDMUQ2,AJY5Y3SHROG5C,A. Grillet,3,3,2,1215561600,The chocolate ones are much better,\"I have ', '876,B000HDMUQ2,AJW40ZXGT8ITY,K. ULLRICH,2,2,1,1293753600,Something has changed,\"My daughter had exte', '877,B000HDMUQ2,AGC3K4KSI67RI,Joanne Macek,2,2,5,1184544000,Good berry flavor,My son with multiple fo', '878,B000HDMUQ2,A30NECNFHHBT3H,lp,0,0,4,1340236800,great taste But size it smaller,i love them. not t', '879,B000HDMUQ2,A1TCNR6ULOEDOQ,Nursebabe,0,0,2,1329782400,\"Cheaper Ingredients, Lowered Quality\",\"I w', '880,B000HDMUQ2,A3SM576V5911MB,M. Tempel,0,0,1,1325030400,Not a Fan,Refer to the picture I posted abo', '881,B000HDMUQ2,A3223MR0RBJG6H,\"AlmondJoy \"\"almondjoy\"\"\",0,0,4,1317254400,Perfect Size,\"With all the ', '882,B000HDMUQ2,A1Y1L56592H2ZX,Kimmy in Valencia,0,0,4,1314057600,Pretty good overall,\"I\\'m new to foo', '883,B000HDMUQ2,A3NH41GQPFMGQS,\"Kimberly A. Shuber \"\"Kimshu\"\"\",0,0,5,1291420800,My child LOVES them!,', '884,B000HDMUQ2,A2D293ADQ5HCLF,Blish,0,0,4,1274832000,small but good,\"Tasty, convenient bars for peop', \"885,B000HDMUQ2,A17Q17AR5GN2SH,S. Hartman,0,0,5,1268611200,You can't go wrong,If you are looking for \", '886,B000HDMUQ2,A3W4RLOQQ2R4RT,\"Courtney Aie \"\"Court ;)\"\"\",0,0,4,1268352000,\"Yummy, but small...\",\"Th', '887,B000HDMUQ2,A2AV6EYCQ5OA30,grandMOM,0,0,3,1267142400,Be Very Berry Wary.,\"They are OK, but my hus', '888,B000HDMUQ2,AR37BG23UFBF6,\"Cheryl Walser \"\"cello jello\"\"\",0,0,5,1242691200,Highly recomended!,Gre', '889,B000HDMUQ2,A2EZOWS34XH567,\"Koehler \"\"bonnierabbit\"\"\",0,0,5,1235692800,Very Berry Snack Bars,\"Rec', '890,B000HDMUQ2,ACSALMTTUS776,Best Busy Boys,0,0,4,1216166400,Great snack,\"My son Loves these \"\"fruit', '891,B000HDMUQ2,A1XKHPDL7JJBK5,\"Pamela Garland \"\"celiac\"\"\",0,0,5,1206835200,Great bars for gluten-fre', '892,B000HDMUQ2,A1B1QMGK8VYG80,Dan Seidman,1,3,1,1308787200,ABSOLUTELY VILE!!!,\"Imagine taking some k', '893,B0041QIHC2,A2KHRJZDOQUK4Y,Andrew C,0,0,5,1326153600,Fantastic Coffee!!  Best I\\'ve ever had,\"My b', '894,B0041QIHC2,AK09TO4RIP6IR,Kristen Alexander,0,0,5,1284681600,Strictly the Best!,\"This is the best', \"895,B0041QIHC2,A3L9WUD9W8TAFT,Julie Sisk,1,2,5,1284595200,Best Coffee!,This is the best coffee we've\", '896,B001ELL9XG,A2W9I628I6SE1U,\"Kort \"\"Art, Music, Book & Movie Enthusiast\"\"\",0,0,4,1288310400,Beauti', '897,B001ELL9XG,AOQT2JCYZ1UWP,C. Murphy,0,0,2,1201392000,Break Easily,\"The first ball worked pretty w', '898,B001ELL9XG,A2U4N0SDPQQ884,Cecilia,0,0,4,1198886400,Wonderful Tea!,\"Numi has a winner here with t', '899,B002DXZI40,AYZZSRYAIXNOS,\"I Heart Amazon \"\"I heart Shopping\"\"\",0,0,5,1296432000,I can\\'t take the', '900,B000ER6YO0,A3NHUQ33CFH3VM,Citizen John,8,8,3,1248912000,\"Our twins love this one. With the subsc', '901,B000ER6YO0,A3NHUQ33CFH3VM,Citizen John,6,6,4,1255651200,Dessert to Them.  But is it Nutritional ', '902,B000ER6YO0,A3NHUQ33CFH3VM,Citizen John,5,5,3,1255651200,Repeated deliveries of broken jars.  Gre', '903,B000ER6YO0,A6LAMY7Z10BBJ,Amazon Shopper,4,4,4,1286928000,\"Good flavor, too runny though\",\"Baby l', '904,B000ER6YO0,A3NHUQ33CFH3VM,Citizen John,3,3,3,1255651200,12% Protein and 50% Vitamin A,\"Earth\\'s B', '905,B000ER6YO0,A1K4TZD6TPLKOC,Lisa Schaal Robinson,1,1,5,1337731200,Baby Lilly says 2 thumbs up!,\"My', '906,B000ER6YO0,ABO66JJKQBGID,Brianne,1,1,5,1324252800,Earth\\'s Best Rice & Lentil dinner,\"Its my daug', '907,B000ER6YO0,A1UTKYFGM2ITLU,B. Citron,1,1,1,1321142400,Plastic in the food!,\"Wow, i am shocked to ', \"908,B000ER6YO0,AWBKE3QTB3BWX,Nessie,1,1,4,1315958400,My baby's favorite 2nd stage food so far and gr\", '909,B000ER6YO0,ACM3Z9NLSE8S9,Tracy,1,1,5,1314835200,Sons Favorite Dinner!!!,\"This is my son\\'s favori', '910,B000ER6YO0,A7INGAHQIWQ1,Samylee00,1,1,5,1306972800,No Issues,\"I don\\'t know how everyone else got', \"911,B000ER6YO0,A3TUTIAVU7Q2E2,AV,1,1,3,1302307200,Too thin,Would be a quality product if it weren't \", '912,B000ER6YO0,A3MA4VWLFOCJ41,ARMorris,1,1,5,1289865600,A great place to start,\"I would love to say ', '913,B000ER6YO0,A26L4JZZ9C1GT5,Alison Denton Jones,1,1,4,1287964800,good for you but not best flavor,', '914,B000ER6YO0,AOIW6NFHHPT78,\"Sarathetis \"\"Sarathetis\"\"\",1,1,5,1284336000,A favorite!,Soft smooth te', '915,B000ER6YO0,AB0BXP1IKDBIA,TreGemellini,1,1,1,1278892800,Runny and odd-tasting,\"My triplets will n', '916,B000ER6YO0,AH5GCNH82ZU0C,\"*~*~*Valley*~*~* \"\"Val\"\"\",1,1,3,1277337600,Too runny...,\"My baby LOVES', '917,B000ER6YO0,A3T7LFZQGL24A5,JuliaB,0,0,4,1350259200,\"Great taste for a picky baby, but very thin c', '918,B000ER6YO0,AYAU6OMJ81Q7Z,Happinesslikeabutterfly,0,0,5,1348012800,Great stuff,This is the only f', '919,B000ER6YO0,AXKXFB6C9Z9BH,JFMile,0,0,5,1346803200,Son loves it,My son loves the rice and lentil j', '920,B000ER6YO0,A1KB35ZYR2Z9RL,Ellen123,0,0,5,1341532800,Love it,\"I have twin girls, they both loved ', '921,B000ER6YO0,A1ERHEVGUWLRBB,Aviva Chil,0,0,1,1341360000,FOUND SHREDDED PLASTIC IN THE BABY FOOD!!!', '922,B000ER6YO0,A39YEZ676YGFI7,\"Jill Boileau \"\"Jill Boileau\"\"\",0,0,5,1337212800,My son loves it!,My s', '923,B000ER6YO0,A3SFS8R1T6JJM9,PolyOWannaCracker,0,0,3,1318032000,Meh.  My daughter eats most everyth', '924,B000ER6YO0,AWBKE3QTB3BWX,Nessie,0,0,3,1315958400,Not as yummy as Earth\\'s Best\\'s other flavors,\"W', \"925,B000ER6YO0,ACM3Z9NLSE8S9,Tracy,0,0,5,1314835200,Son's 2nd Favorite Dish,I love the fact that the\", '926,B000ER6YO0,AKSSGVF9DMJDU,\"Gretchen Rowley \"\"Gretchen Rowley\"\"\",0,0,1,1299542400,Had to toss 9 ou', '927,B000ER6YO0,A2F0WNTW3QQZYS,Ruth,0,0,5,1298505600,One of our favorites,\"This is one of my son\\'s fa', '928,B000ER6YO0,A2NQKBC54RAZL5,Keribeth,0,0,4,1297296000,Our Baby Likes it,\"For whatever reason, our ', \"929,B000ER6YO0,A2NQKBC54RAZL5,Keribeth,0,0,5,1297296000,Our Baby's Favorite Dinner,The Rice and Lent\", '930,B000ER6YO0,A11LJJL1SOH6W0,\"Sarah Ross \"\"Mamasaurus Rex\"\"\",0,0,4,1296259200,My daughter\\'s favorit', '931,B000ER6YO0,A2UY1O1FBGKIE6,\"U. Kane \"\"UBK\"\"\",0,0,5,1293840000,yum,I always try the food before I ', '932,B000ER6YO0,A11UPZ6LI1UJZY,Pono,0,0,5,1293580800,the only jarred baby food my son ate,\"From 6 mon', '933,B000ER6YO0,A88OW6BJKW3Q3,\"Amazon PrimeTime \"\"Brandi\"\"\",0,0,3,1291248000,A little more watery tha', '934,B000ER6YO0,A3NXCL9NJTL3TF,Target Shopaholic,0,0,5,1286496000,50 calories of yumminess,\"This tast', '935,B000ER6YO0,ATIHDHZYNQ0EI,\"Kristen O\\'donnell \"\"twinsmom\"\"\",0,0,5,1270425600,Organic and tasty.,\"I', '936,B000ER6YO0,A13EBBWOMC0FUI,\"Sherean Malekzadeh \"\"Sherean\"\"\",0,0,5,1263168000,One of my son\\'s favo', '937,B000ER6YO0,A3HI6N7GG4B2SW,K. Weaver,0,0,5,1262649600,Great,My baby loves Rice and Lentil and is ', '938,B000ER6YO0,A34AHOC0OXMR2K,\"T. Hunter \"\"T. Hunter\"\"\",0,0,5,1257897600,They make the best baby foo', '939,B000ER6YO0,A2RERXI7RH3CIA,Rebecca P. Baron,0,0,5,1249344000,A favorite,\"My daughter is outgrowin', '940,B000ER6YO0,AP8QHMD5LS6KF,\"Rochelle J. Flinn \"\"Rochelle Flinn\"\"\",0,0,5,1246838400,Geat Product,My', '941,B000ER6YO0,A1ESDLEDR9Y0JX,A. Spencer,1,2,1,1310256000,the garbanzo beans in it give horrible gas', '942,B000ER6YO0,A2KTFTRTY0ONWF,CarlaVeg,1,2,2,1294531200,Baby didn\\'t like it,\"I usually make my baby\\'', '943,B000ER6YO0,A62UHEAJJE7E,A. Peckinpaugh,1,2,5,1240704000,My baby\\'s favorite dinner,\"My six month ', '944,B000ER6YO0,A2U138G3VKRZSL,\"Art \"\"NYC guy\"\"\",0,1,1,1312675200,\"Baby loves it, but there is plasti', '945,B000ER6YO0,A6LAMY7Z10BBJ,Amazon Shopper,0,1,5,1286928000,Baby likes this one,\"The earths best he', '946,B000ER6YO0,ATIHDHZYNQ0EI,\"Kristen O\\'donnell \"\"twinsmom\"\"\",0,1,5,1270425600,Organic and Tasty,I\\'d', \"947,B000ER6YO0,A16XMNOX8N0DOQ,Momjules,1,3,4,1319760000,My baby liked it,I didn't eat any but my bab\", '948,B000ER6YO0,A20DF2DTZYI8TQ,H Harkins,0,2,1,1302048000,moms (and dads) beware of plastic in the fo', '949,B003KDCJYY,APP2IYVGIG5S1,Jazz Man,0,0,4,1344124800,Allday Energy,Pretty good product.  The taste', '950,B000MTIYF2,A3MYS4YDU2QXCP,D. Lee,0,0,5,1175558400,The best!,\"I am a true Seattle coffee addict, ', '951,B002E0RIHM,A349HIGB6SOU8K,M. C. Young,1,1,4,1264118400,Tasty Fruit,Sent this basket to my father', '952,B002E0RIHM,A2AOA8DG9W8YFD,\"Dharana St James \"\"dharana fantasy\"\"\",1,1,5,1264032000,Beautiful fres', '953,B002E0RIHM,A2RUIW6J2R3QEI,Scott Huber,1,1,5,1261440000,\"Fresh Fruit, Dark Chocolate\",\"I got it f', '954,B000S806VM,A3QYHVYQLU8MJC,Patti Henson,4,4,5,1276128000,Sassafras Tea Bags,As a child my facorit', '955,B000S806VM,A2HF72GRWTRW35,\"James H. Walder \"\"Jim Walder\"\"\",3,3,4,1299196800,sassafrass tea,\"I gr', '956,B000S806VM,AIR7BNZFT751N,Paul K. Williams,2,2,4,1251849600,Good tasten tea.,I ordered this on-li', '957,B000S806VM,ATWQP9EU3V9V7,Melissa M. Mertz,1,1,5,1326585600,hard to find tea,\"I purchased this te', '958,B000S806VM,A3MMB5RKFP57N1,J. Kelly,1,1,5,1306195200,Better Taste Than I Expected,I heard some gr', '959,B000S806VM,AL4M4T6T3JHY3,candiceemoe,2,3,5,1327881600,lovely!,\"bought this for my dad. for about', '960,B000S806VM,A3FIUP4KF49FOH,K,0,0,1,1347926400,K,\"I first tasted Sassafras tea in a local restaura', '961,B000S806VM,A2DN52HYY0X7XM,kimmi,0,0,5,1338336000,Great product.,Great tasting tea I have been lo', '962,B000S806VM,A3UX4TYSZJBJ3R,LuLu,0,0,2,1335398400,Sass Tea,\"I did not care for this product at all', '963,B000S806VM,A3S4IWXSZCN9N7,\"Janise \"\"Amazon shopper\"\"\",1,4,2,1246665600,The most awful taste,\"I p', '964,B000YT5DBS,ANMPK1PSQDQ2L,\"Bob M. \"\"Bob\"\"\",1,2,2,1249171200,\"These are good, but ...\",\"These are ', '965,B005NEXK6Y,A33B2PH7Y4WC6,reviewer777,0,0,5,1350345600,Great product!,\"I love Panang Curry but wo', '966,B005NEXK6Y,A737WEUQM1K1H,MaC,0,0,3,1346976000,Great Paste BUT Way Overpriced like 3x more,\"I pur', '967,B005NEXK6Y,A263ZEDYD50VAT,sbmiller,0,0,5,1327968000,so easy to use,\"Best paste I have tried! So ', '968,B00448SNSA,A2VTNMSQLKUPFA,innocent_sweetiepie,0,0,1,1344729600,OMG DO NOT BUY!!!,\"OMG I would lo', '969,B0002XIB2Y,A3NV17B17PFB7G,Susan,3,3,5,1228176000,WONDERFUL gravy!,\"This gravy mix is excellent .', '970,B0002XIB2Y,A1O3WOX0KBBV3W,MATHEW Geib,1,1,5,1260057600,YEEEEE HAWWW!,\"I\\'m not from the south, bu', '971,B0002XIB2Y,A2DRQBOGCTC5HP,\"TL \"\"TerryLea\"\"\",2,3,5,1191715200,Best white gravy !,Nothing easier. ', '972,B0002XIB2Y,A1891H0TIXLDXA,Donald M. Bridges,1,2,5,1250294400,Pioneer Gravy is GREAT!,\"I have use', '973,B000F0G75W,A3QOSBTILZ84HY,\"Junie \"\"finaj\"\"\",0,0,5,1173312000,Eco sugar,\"Its great to be able to ', '974,B001EQ4DVQ,AHMCLSA49GPHK,David Boston,7,7,5,1265673600,More expensive online,\"I am a coffee fana', '975,B001EQ4DVQ,AXZTWAX77RHPG,William Strickler,3,3,4,1194998400,Very Convenient and far better than ', '976,B001EQ4DVQ,A3RB2ZB2KGRZVE,\"Jacki Gunter \"\"good movie or book lover\"\"\",1,1,5,1243728000,No-Pot Fr', '977,B001EQ4DVQ,A37FCSX7K7GEFT,K. Li,1,1,4,1182038400,Simple. Convenient,I live in the dorms without ', '978,B001EQ4DVQ,A680RUE1FDO8B,Jerry Saperstein,0,0,5,1259452800,Brews an excellent cup of coffee quic', '979,B001EQ4DVQ,A23Q6TN6OK1U51,\"T.Kriel \"\"World Traveller & Mother of 4\"\"\",0,0,5,1253750400,Very Conv', '980,B001EQ4DVQ,A38FWXBFJX210N,Terri,0,0,5,1252713600,Great taste,\"These are great for at work, just ', '981,B001EQ4DVQ,A1AMCR6ISCN2Z6,\"William C. Diemer \"\"wcd53\"\"\",0,0,5,1181606400,DELISH!!!!,\"Fast, easy ', '982,B004DTNJU2,A1C3LSDRPLFZ62,Hank Schwartz,3,3,5,1297814400,new to rooibos tea,\"I gave this tea a t', '983,B004DTNJU2,A4D9AIUP1NNIY,HotRod,0,0,5,1341705600,Tasted better than loose leaf rooibos,\"I tried ', '984,B004DTNJU2,A1YQORA01YBBLS,MD_JD,0,0,5,1325635200,Best matcha quality and price,\"I previously tri', '985,B00473OV2E,A7HKP7RBH88IU,Dick Dipuccio,0,0,5,1330992000,The Best,\"This is the very best marinade', '986,B00473OV2E,A13KWQGEI9MHG0,Book Dame,0,0,5,1307577600,\"Moore\\'s Marinade, Gluten, low sodium and M', '987,B0048IACB2,A16UWS8G26PDN8,Peter J. Koulikourdis,0,0,5,1309737600,Great Tasting Diet Tea with all', '988,B006F2NYI2,A36GDATSF85X7W,Matt Waz,2,2,5,1326499200,Awesome Sauce,\"This hot sauce is one of my f', '989,B006F2NYI2,A36WE3X9G0DZUZ,Gale P,2,2,5,1324339200,love this hot sauce,\"I was never much of a hot', '990,B006F2NYI2,A2ZP8BJR5PYLG7,sparrow,2,2,5,1324252800,Great hot sauce!,This is my favorite hot sauc', '991,B006F2NYI2,AFN9QJ7IE89N4,C Bonner,2,2,5,1323993600,Love This Stuff,\"They have this in a local di', '992,B006F2NYI2,AN85IOOEI9IYB,Jdub,2,2,5,1323734400,Best sauce around,\"I was browsing around on Amazo', '993,B006F2NYI2,AHSURYHM6ZZXC,nuttmeg,2,2,5,1323734400,Tasty hot sauce!,This is my favorite hot sauce', '994,B006F2NYI2,A1KFUVZ3BZ59R1,merplinger,2,2,5,1323734400,Best all around hot sauce,So far I have ha', '995,B006F2NYI2,A1T5CH6SHV989P,a biemold,2,2,5,1323734400,best hot sauce around,\"absolutely love the ', '996,B006F2NYI2,A1D3F6UI1RTXO0,Swopes,1,1,5,1331856000,Hot & Flavorful,\"BLACK MARKET HOT SAUCE IS WON', '997,B006F2NYI2,AF50D40Y85TV3,Mike A.,1,1,5,1328140800,Great Hot Sauce and people who run it!,\"Man wh', '998,B006F2NYI2,A3G313KLWDG3PW,kefka82,1,1,5,1324252800,this sauce is the shiznit,\"this sauce is so g', '999,B006F2NYI2,A3NIDDT7E7JIFW,V. B. Brookshaw,1,2,1,1336089600,Not Hot,\"Not hot at all. Like the oth']\n"
          ]
        }
      ]
    },
    {
      "cell_type": "code",
      "source": [
        "# Download the stopwords resource\n",
        "import nltk\n",
        "nltk.download('stopwords')\n",
        "\n",
        "# Now you can proceed with your text preprocessing\n",
        "from nltk.corpus import stopwords\n",
        "\n"
      ],
      "metadata": {
        "colab": {
          "base_uri": "https://localhost:8080/"
        },
        "id": "YvF6LkWkKZ14",
        "outputId": "520b58cf-2ccd-4040-c2f2-951c693c31ef"
      },
      "execution_count": 135,
      "outputs": [
        {
          "output_type": "stream",
          "name": "stderr",
          "text": [
            "[nltk_data] Downloading package stopwords to /root/nltk_data...\n",
            "[nltk_data]   Package stopwords is already up-to-date!\n"
          ]
        }
      ]
    },
    {
      "cell_type": "code",
      "source": [
        "def preprocess_data(doc_set):\n",
        "    \"\"\"\n",
        "    Input  : docuemnt list\n",
        "    Purpose: preprocess text (tokenize, removing stopwords, and stemming)\n",
        "    Output : preprocessed text\n",
        "    \"\"\"\n",
        "    # initialize regex tokenizer\n",
        "    tokenizer = RegexpTokenizer(r'\\w+')\n",
        "    # create English stop words list\n",
        "    en_stop = set(stopwords.words('english'))\n",
        "    # Create p_stemmer of class PorterStemmer\n",
        "    p_stemmer = PorterStemmer()\n",
        "    # list for tokenized documents in loop\n",
        "    texts = []\n",
        "    # loop through document list\n",
        "    for i in doc_set:\n",
        "        # clean and tokenize document string\n",
        "        raw = i.lower()\n",
        "        tokens = tokenizer.tokenize(raw)\n",
        "        # remove stop words from tokens\n",
        "        stopped_tokens = [i for i in tokens if not i in en_stop]\n",
        "        # stem tokens\n",
        "        stemmed_tokens = [p_stemmer.stem(i) for i in stopped_tokens]\n",
        "        # add tokens to list\n",
        "        texts.append(stemmed_tokens)\n",
        "    return texts"
      ],
      "metadata": {
        "id": "HTD8boDXKcq7"
      },
      "execution_count": 136,
      "outputs": []
    },
    {
      "cell_type": "code",
      "source": [
        "clean_text=preprocess_data(document_list)"
      ],
      "metadata": {
        "id": "rJrD7zIjKf7z"
      },
      "execution_count": 137,
      "outputs": []
    },
    {
      "cell_type": "code",
      "source": [
        "def prepare_corpus(doc_clean):\n",
        "    \"\"\"\n",
        "    Input  : clean document\n",
        "    Purpose: create term dictionary of our courpus and Converting list of documents (corpus) into Document Term Matrix\n",
        "    Output : term dictionary and Document Term Matrix\n",
        "    \"\"\"\n",
        "    # Creating the term dictionary of our courpus, where every unique term is assigned an index. dictionary = corpora.Dictionary(doc_clean)\n",
        "    dictionary = corpora.Dictionary(doc_clean)\n",
        "    # Converting list of documents (corpus) into Document Term Matrix using dictionary prepared above.\n",
        "    doc_term_matrix = [dictionary.doc2bow(doc) for doc in doc_clean]\n",
        "    # generate LDA model\n",
        "    return dictionary,doc_term_matrix"
      ],
      "metadata": {
        "id": "_Rj0fMrTKnWe"
      },
      "execution_count": 138,
      "outputs": []
    },
    {
      "cell_type": "code",
      "source": [
        "def compute_coherence_values(dictionary, doc_term_matrix, doc_clean, stop, start=2, step=3):\n",
        "    \"\"\"\n",
        "    Input   : dictionary : Gensim dictionary\n",
        "              corpus : Gensim corpus\n",
        "              texts : List of input texts\n",
        "              stop : Max num of topics\n",
        "    purpose : Compute c_v coherence for various numbers of topics\n",
        "    Output  : model_list : List of LSA topic models\n",
        "              coherence_values : Coherence values corresponding to the LDA model with respective number of topics\n",
        "    \"\"\"\n",
        "    coherence_values = []\n",
        "    model_list = []\n",
        "    for num_topics in range(start, stop, step):\n",
        "        # Generate LSA model\n",
        "        model = LsiModel(doc_term_matrix, num_topics=num_topics, id2word=dictionary)  # Train model\n",
        "        model_list.append(model)\n",
        "        coherencemodel = CoherenceModel(model=model, texts=doc_clean, dictionary=dictionary, coherence='c_v')\n",
        "        coherence_values.append(coherencemodel.get_coherence())\n",
        "    return model_list, coherence_values\n"
      ],
      "metadata": {
        "id": "cpn5w8eXKrj4"
      },
      "execution_count": 142,
      "outputs": []
    },
    {
      "cell_type": "code",
      "source": [
        "def plot_graph(doc_clean,start, stop, step):\n",
        "    dictionary,doc_term_matrix=prepare_corpus(doc_clean)\n",
        "    model_list, coherence_values = compute_coherence_values(dictionary, doc_term_matrix,doc_clean,\n",
        "                                                            stop, start, step)\n",
        "    # Show graph\n",
        "    x = range(start, stop, step)\n",
        "    plt.plot(x, coherence_values)\n",
        "    plt.xlabel(\"Number of Topics\")\n",
        "    plt.ylabel(\"Coherence score\")\n",
        "    plt.legend((\"coherence_values\"), loc='best')\n",
        "    plt.show()\n",
        "\n"
      ],
      "metadata": {
        "id": "o8GRcYsDKvDo"
      },
      "execution_count": 143,
      "outputs": []
    },
    {
      "cell_type": "code",
      "source": [
        "plot_graph(clean_text,2,12,1)"
      ],
      "metadata": {
        "colab": {
          "base_uri": "https://localhost:8080/",
          "height": 449
        },
        "id": "bC0FjU9MZZy3",
        "outputId": "b1516b4e-b964-4f4d-c63e-2cee5c6a21f8"
      },
      "execution_count": 144,
      "outputs": [
        {
          "output_type": "display_data",
          "data": {
            "text/plain": [
              "<Figure size 640x480 with 1 Axes>"
            ],
            "image/png": "[encoded data removed]"
          },
          "metadata": {}
        }
      ]
    },
    {
      "cell_type": "code",
      "source": [
        "def create_gensim_lsa_model(doc_clean,number_of_topics,words):\n",
        "    \"\"\"\n",
        "    Input  : clean document, number of topics and number of words associated with each topic\n",
        "    Purpose: create LSA model using gensim\n",
        "    Output : return LSA model\n",
        "    \"\"\"\n",
        "    dictionary,doc_term_matrix=prepare_corpus(doc_clean)\n",
        "    number_of_topics = int\n",
        "    # generate LSA model\n",
        "    lsamodel = LsiModel(doc_term_matrix, num_topics=number_of_topics, id2word = dictionary)  # train model\n",
        "    print(lsamodel.print_topics(num_topics=number_of_topics, num_words=words))\n",
        "    return lsamodel\n"
      ],
      "metadata": {
        "id": "eSeByHpSKykE"
      },
      "execution_count": 126,
      "outputs": []
    },
    {
      "cell_type": "code",
      "source": [
        "model=create_gensim_lsa_model(clean_text,5,10)"
      ],
      "metadata": {
        "colab": {
          "base_uri": "https://localhost:8080/"
        },
        "id": "G3IpEq7tK3Xw",
        "outputId": "e147c1ff-a28a-4e63-e64e-c7e9e828f489"
      },
      "execution_count": 121,
      "outputs": [
        {
          "output_type": "stream",
          "name": "stdout",
          "text": [
            "[(0, '0.713*\"br\" + 0.337*\"chip\" + 0.140*\"0\" + 0.136*\"flavor\" + 0.134*\"like\" + 0.132*\"5\" + 0.128*\"kettl\" + 0.123*\"bag\" + 0.122*\"potato\" + 0.121*\"tast\"'), (1, '-0.608*\"chip\" + 0.566*\"br\" + -0.201*\"kettl\" + -0.200*\"0\" + -0.172*\"flavor\" + -0.144*\"brand\" + -0.119*\"bag\" + -0.118*\"b000g6ryne\" + 0.101*\"organ\" + -0.089*\"great\"'), (2, '-0.408*\"0\" + 0.394*\"chip\" + -0.251*\"5\" + 0.225*\"br\" + -0.195*\"food\" + 0.189*\"kettl\" + -0.167*\"tast\" + -0.162*\"tea\" + 0.161*\"potato\" + -0.159*\"like\"'), (3, '-0.643*\"tea\" + 0.457*\"food\" + 0.209*\"1\" + -0.186*\"0\" + 0.182*\"dog\" + -0.169*\"drink\" + 0.159*\"cat\" + -0.129*\"coffe\" + -0.124*\"tast\" + 0.117*\"eat\"'), (4, '-0.313*\"flavor\" + -0.307*\"0\" + 0.270*\"tea\" + 0.253*\"bag\" + 0.226*\"1\" + 0.222*\"food\" + 0.219*\"flavour\" + -0.193*\"organ\" + 0.167*\"potato\" + 0.150*\"eat\"')]\n"
          ]
        }
      ]
    },
    {
      "cell_type": "markdown",
      "metadata": {
        "id": "aBHv9hEbhjD1"
      },
      "source": [
        "## (3) (10 points) Generate K topics by using  lda2vec, the number of topics K should be decided by the coherence score, then summarize what are the topics.\n",
        "\n",
        "You may refer the code here:\n",
        "https://nbviewer.org/github/cemoody/lda2vec/blob/master/examples/twenty_newsgroups/lda2vec/lda2vec.ipynb"
      ]
    },
    {
      "cell_type": "code",
      "execution_count": null,
      "metadata": {
        "id": "lC-a_gerhjD1"
      },
      "outputs": [],
      "source": [
        "# Write your code here\n",
        "\n",
        "# Install and import libraries\n",
        "!pip install lda2vec\n",
        "!pip install --upgrade lda2vec\n",
        "\n",
        "import numpy as np\n",
        "import pandas as pd\n",
        "from lda2vec import preprocess, Corpus\n",
        "from lda2vec import LDA2Vec\n",
        "import pyLDAvis\n",
        "import pyLDAvis.gensim_models as gensimvis\n",
        "\n",
        "# Load and preprocess your text data\n",
        "# Load your data into a DataFrame\n",
        "data = pd.read_csv(\"Reviews.csv\")\n",
        "\n",
        "# Preprocess the text data as needed (e.g., tokenization, stop-word removal)\n",
        "documents = data['Text'].values\n",
        "\n",
        "# Create a document-term matrix (DTM)\n",
        "tokenized_documents, vocab = preprocess.tokenize(documents)\n",
        "corpus = Corpus()\n",
        "corpus.update(tokenized_documents, vocab)\n",
        "\n",
        "# Calculate coherence scores for different values of K\n",
        "coherence_scores = []\n",
        "for k in range(2, 21):  # You can adjust the range as needed\n",
        "    model = LDA2Vec(n_topics=k, n_doc=corpus.num_docs, n_vocab=len(vocab))\n",
        "    model.fit(corpus, n_samples=1000, log_fn=None)\n",
        "\n",
        "    # Calculate coherence score (you can use your preferred coherence measure)\n",
        "    coherence_score = model.calculate_coherence()\n",
        "    coherence_scores.append(coherence_score)\n",
        "\n",
        "# Find the optimal number of topics (K)\n",
        "optimal_k = np.argmax(coherence_scores) + 2  # Add 2 because we started from K=2\n",
        "\n",
        "# Train LDA2Vec with the optimal number of topics\n",
        "model = LDA2Vec(n_topics=optimal_k, n_doc=corpus.num_docs, n_vocab=len(vocab))\n",
        "model.fit(corpus, n_samples=1000, log_fn=None)\n",
        "\n",
        "# Visualize and summarize the topics\n",
        "vis_data = gensimvis.prepare(model, corpus, corpus.id2word)\n",
        "pyLDAvis.display(vis_data)\n",
        "\n",
        "# Summarize the topics\n",
        "topic_words = model.topic_words\n",
        "for i, words in enumerate(topic_words):\n",
        "    print(f\"Topic {i}: {', '.join(words)}\")\n",
        "\n",
        "\n"
      ]
    },
    {
      "cell_type": "markdown",
      "metadata": {
        "id": "X43w7JtahjD2"
      },
      "source": [
        "## (4) (10 points) Generate K topics by using BERTopic, the number of topics K should be decided by the coherence score, then summarize what are the topics.\n",
        "\n",
        "You may refer the code here:\n",
        "https://colab.research.google.com/drive/1FieRA9fLdkQEGDIMYl0I3MCjSUKVF8C-?usp=sharing"
      ]
    },
    {
      "cell_type": "code",
      "execution_count": 145,
      "metadata": {
        "id": "URiSoYHghjD2"
      },
      "outputs": [],
      "source": [
        "# Write your code here\n",
        "%%capture\n",
        "!pip install bertopic\n",
        "\n",
        "\n",
        "\n"
      ]
    },
    {
      "cell_type": "code",
      "source": [
        "document= pd.read_csv(\"Reviews.csv\")\n",
        "# Select specific rows (e.g., rows 10 to 20)\n",
        "selected_rows = df.iloc[1:100]\n",
        "docs = data['Text'].values\n",
        "\n",
        "print(docs.head())"
      ],
      "metadata": {
        "id": "scVr8FbXQg4x"
      },
      "execution_count": null,
      "outputs": []
    },
    {
      "cell_type": "code",
      "source": [
        "from bertopic import BERTopic\n",
        "\n",
        "topic_model = BERTopic(language=\"english\", calculate_probabilities=True, verbose=True)\n",
        "topics, probs = topic_model.fit_transform(docs)"
      ],
      "metadata": {
        "id": "Z6a-oevHQwLL"
      },
      "execution_count": null,
      "outputs": []
    },
    {
      "cell_type": "code",
      "source": [
        "freq = topic_model.get_topic_info(); freq.head(5)"
      ],
      "metadata": {
        "id": "0k4idOO-QxE0"
      },
      "execution_count": null,
      "outputs": []
    },
    {
      "cell_type": "code",
      "source": [
        "topic_model.get_topic(0)  # Select the most frequent topic"
      ],
      "metadata": {
        "id": "phLSbrRiQ0lW"
      },
      "execution_count": null,
      "outputs": []
    },
    {
      "cell_type": "code",
      "source": [
        "topic_model.topics_[:10]"
      ],
      "metadata": {
        "id": "D4gPA2zUQ3wx"
      },
      "execution_count": null,
      "outputs": []
    },
    {
      "cell_type": "code",
      "source": [
        "topic_model.visualize_topics()"
      ],
      "metadata": {
        "id": "JNo5Vm2QQ8QG"
      },
      "execution_count": null,
      "outputs": []
    },
    {
      "cell_type": "code",
      "source": [
        "topic_model.visualize_distribution(probs[200], min_probability=0.015)"
      ],
      "metadata": {
        "id": "2bumfypHRA3w"
      },
      "execution_count": null,
      "outputs": []
    },
    {
      "cell_type": "code",
      "source": [
        "topic_model.visualize_hierarchy(top_n_topics=50)"
      ],
      "metadata": {
        "id": "mbeOpMFFRFYA"
      },
      "execution_count": null,
      "outputs": []
    },
    {
      "cell_type": "code",
      "source": [
        "topic_model.visualize_barchart(top_n_topics=5)"
      ],
      "metadata": {
        "id": "PR6pGHixRIAf"
      },
      "execution_count": null,
      "outputs": []
    },
    {
      "cell_type": "code",
      "source": [
        "topic_model.visualize_heatmap(n_clusters=20, width=1000, height=1000)"
      ],
      "metadata": {
        "id": "i7jr2aAvRK-e"
      },
      "execution_count": null,
      "outputs": []
    },
    {
      "cell_type": "code",
      "source": [
        "topic_model.visualize_term_rank()"
      ],
      "metadata": {
        "id": "IU7MWJFvRNtS"
      },
      "execution_count": null,
      "outputs": []
    },
    {
      "cell_type": "code",
      "source": [
        "topic_model.update_topics(docs, n_gram_range=(1, 2))"
      ],
      "metadata": {
        "id": "sfYmiqYnRRBK"
      },
      "execution_count": null,
      "outputs": []
    },
    {
      "cell_type": "code",
      "source": [
        "topic_model.get_topic(0)"
      ],
      "metadata": {
        "id": "5hgXlviKRT1_"
      },
      "execution_count": null,
      "outputs": []
    },
    {
      "cell_type": "code",
      "source": [
        "topic_model.reduce_topics(docs, nr_topics=60)"
      ],
      "metadata": {
        "id": "597TNHylRgyO"
      },
      "execution_count": null,
      "outputs": []
    },
    {
      "cell_type": "code",
      "source": [
        "# Access the newly updated topics with:\n",
        "print(topic_model.topics_)"
      ],
      "metadata": {
        "id": "OskWJu3URhgF"
      },
      "execution_count": null,
      "outputs": []
    },
    {
      "cell_type": "code",
      "source": [
        "similar_topics, similarity = topic_model.find_topics(\"vehicle\", top_n=5); similar_topics"
      ],
      "metadata": {
        "id": "x6Mq5sQSRmL-"
      },
      "execution_count": null,
      "outputs": []
    },
    {
      "cell_type": "code",
      "source": [
        "topic_model.get_topic(71)"
      ],
      "metadata": {
        "id": "RlqYOkOuRm1v"
      },
      "execution_count": null,
      "outputs": []
    },
    {
      "cell_type": "code",
      "source": [
        "# Save model\n",
        "topic_model.save(\"my_model\")"
      ],
      "metadata": {
        "id": "tJmq8PK-RpDQ"
      },
      "execution_count": null,
      "outputs": []
    },
    {
      "cell_type": "code",
      "source": [
        "# Load model\n",
        "my_model = BERTopic.load(\"my_model\")"
      ],
      "metadata": {
        "id": "SkL9fpHmRr_k"
      },
      "execution_count": null,
      "outputs": []
    },
    {
      "cell_type": "code",
      "source": [
        "topic_model = BERTopic(embedding_model=\"xlm-r-bert-base-nli-stsb-mean-tokens\")"
      ],
      "metadata": {
        "id": "QU3Lqyb0RuhE"
      },
      "execution_count": null,
      "outputs": []
    },
    {
      "cell_type": "code",
      "source": [
        "from sentence_transformers import SentenceTransformer\n",
        "\n",
        "sentence_model = SentenceTransformer(\"distilbert-base-nli-mean-tokens\", device=\"cpu\")\n",
        "topic_model = BERTopic(embedding_model=sentence_model, verbose=True)"
      ],
      "metadata": {
        "id": "IV65spMQRycJ"
      },
      "execution_count": null,
      "outputs": []
    },
    {
      "cell_type": "markdown",
      "metadata": {
        "id": "m7tQQENUhjD2"
      },
      "source": [
        "## (5) (10 extra points) Compare the results generated by the four topic modeling algorithms, which one is better? You should explain the reasons in details.\n",
        "\n",
        "Follow the guidelines from the essay to enhance your explanation:\n",
        "\n",
        "* Writing logic\n",
        "\n",
        "  Pay attention to how you express your thoughts. For example:\n",
        "\n",
        "  * Weak Writing Logic: “Artificial Intelligence is risky because it is new technology.”\n",
        "\n",
        "  * Strong Writing Logic: “Artificial Intelligence presents ethical risks such as data privacy concerns and algorithmic bias, which necessitate cautious implementation and regulation.”\n",
        "\n",
        "* Topic of sentences\n",
        "\n",
        "  * Focus and Direction: It provides a focus and sets the direction for the paragraph, ensuring that the reader knows what to expect.\n",
        "  * Reader Guidance: It serves as a guidepost for the reader, making it easier to follow the flow of ideas and arguments in the document.\n",
        "  * Support for Thesis: In academic papers, topic sentences help in elaborating or providing evidence for the thesis statement or research question.\n",
        "\n",
        "* Writing flow\n",
        "\n",
        "  * Transition: Smooth and logical transitions between sentences, paragraphs, and sections.\n",
        "  * Rhythm: Variation in sentence length and structure to maintain reader engagement.\n",
        "  * Sequence: The order of points or arguments contributes to a smooth reading experience.\n",
        "  For example:\n",
        "    * Weak Writing Flow: “We studied machine learning algorithms. Ethics are important. Data was collected.”\n",
        "    * Strong Writing Flow: “We initiated our study by focusing on machine learning algorithms. Recognizing the ethical implications, we carefully curated our data set.”"
      ]
    },
    {
      "cell_type": "markdown",
      "source": [
        "I have utilized the Amazon fine food reviews data set, which consists of consumer reviews, to model topics using all four models. In order to compare the output produced by the four topic modeling algorithms—LDA, LSA, BERTopic, and LDA2Vec—it is necessary to assess each one's performance using a range of standards, including interpretability, coherence, and dataset relevance. Let's examine each of these approaches in detail and evaluate their advantages and disadvantages.\n",
        "\n",
        "In order to decide which approach is superior, we must take into account the particular needs of the analysis When interpretability is of the utmost importance, LDA is a wise option. It is popular and yields results that are easily comprehended.\n",
        "When working with huge datasets and trying to capture latent semantic links, LSA is a good fit.When the dataset has a lot of context and using transformer-based embeddings is desirable, BERTopic is useful.Combining the advantages of LDA and word embeddings, LDA2Vec is appropriate for situations where a subtle interpretation of themes is required.\n",
        "\n",
        "Based on the results for my dataset LDA is good choice As LDA is excellent in many ways, it's crucial to understand that no topic modeling method is better than the others. The particulars of your data and the objectives of your study will determine which subject modeling technique is best for you. For complicated text data, more sophisticated techniques like BERTopic, lda2vec, and LSA might be helpful. In conclusion, LDA is a great option when a solid foundation and interpretability are priorities, but the ideal approach will depend on the specifics of your project.\n",
        "\n",
        "\n"
      ],
      "metadata": {
        "id": "Zv-X2-AnS3nQ"
      }
    },
    {
      "cell_type": "code",
      "execution_count": null,
      "metadata": {
        "id": "Wev9TGh1hjD3"
      },
      "outputs": [],
      "source": [
        "# Write your answer here (no code needed for this question)\n",
        "\n",
        "\n",
        "\n"
      ]
    }
  ],
  "metadata": {
    "kernelspec": {
      "display_name": "Python 3 (ipykernel)",
      "language": "python",
      "name": "python3"
    },
    "language_info": {
      "codemirror_mode": {
        "name": "ipython",
        "version": 3
      },
      "file_extension": ".py",
      "mimetype": "text/x-python",
      "name": "python",
      "nbconvert_exporter": "python",
      "pygments_lexer": "ipython3",
      "version": "3.9.12"
    },
    "colab": {
      "provenance": []
    }
  },
  "nbformat": 4,
  "nbformat_minor": 0
}